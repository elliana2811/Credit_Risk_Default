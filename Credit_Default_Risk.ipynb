{
 "cells": [
  {
   "cell_type": "markdown",
   "metadata": {
    "id": "KRNBFRyPt1I0"
   },
   "source": [
    "# 1. Config"
   ]
  },
  {
   "cell_type": "code",
   "execution_count": 165,
   "metadata": {
    "execution": {
     "iopub.execute_input": "2024-12-10T16:03:24.395902Z",
     "iopub.status.busy": "2024-12-10T16:03:24.393708Z",
     "iopub.status.idle": "2024-12-10T16:03:24.404127Z",
     "shell.execute_reply": "2024-12-10T16:03:24.402578Z",
     "shell.execute_reply.started": "2024-12-10T16:03:24.395794Z"
    },
    "id": "FuXLNQp_t1I3",
    "outputId": "a530d0c7-5664-4de4-8b8b-fa3118f4f8a6",
    "trusted": true
   },
   "outputs": [],
   "source": [
    "# import os\n",
    "# os.getcwd()"
   ]
  },
  {
   "cell_type": "code",
   "execution_count": 166,
   "metadata": {
    "execution": {
     "iopub.execute_input": "2024-12-10T16:03:24.407497Z",
     "iopub.status.busy": "2024-12-10T16:03:24.406966Z",
     "iopub.status.idle": "2024-12-10T16:03:24.420562Z",
     "shell.execute_reply": "2024-12-10T16:03:24.419219Z",
     "shell.execute_reply.started": "2024-12-10T16:03:24.407443Z"
    },
    "id": "yjFUdQcrt1I4",
    "trusted": true
   },
   "outputs": [],
   "source": [
    "# os.chdir('/kaggle/input/dseb-64-data-preparation-final-project/dseb63_final_project_DP_dataset/dseb63_final_project_DP_dataset')"
   ]
  },
  {
   "cell_type": "code",
   "execution_count": 167,
   "metadata": {
    "execution": {
     "iopub.execute_input": "2024-12-10T16:03:24.423171Z",
     "iopub.status.busy": "2024-12-10T16:03:24.422753Z",
     "iopub.status.idle": "2024-12-10T16:03:24.433843Z",
     "shell.execute_reply": "2024-12-10T16:03:24.432302Z",
     "shell.execute_reply.started": "2024-12-10T16:03:24.423132Z"
    },
    "id": "Gy3WHFZOt1I5",
    "trusted": true
   },
   "outputs": [],
   "source": [
    "import pandas as pd\n",
    "import numpy as np\n",
    "import scipy.stats\n",
    "from sklearn.preprocessing import LabelEncoder,OrdinalEncoder\n",
    "from sklearn.preprocessing import MinMaxScaler, StandardScaler\n",
    "import matplotlib.pyplot as plt\n",
    "import seaborn as sns\n",
    "from sklearn.impute import SimpleImputer\n"
   ]
  },
  {
   "cell_type": "code",
   "execution_count": 168,
   "metadata": {
    "execution": {
     "iopub.execute_input": "2024-12-10T16:03:24.461032Z",
     "iopub.status.busy": "2024-12-10T16:03:24.460485Z",
     "iopub.status.idle": "2024-12-10T16:03:24.468309Z",
     "shell.execute_reply": "2024-12-10T16:03:24.466884Z",
     "shell.execute_reply.started": "2024-12-10T16:03:24.460991Z"
    },
    "id": "jnkcz_Dut1I5",
    "trusted": true
   },
   "outputs": [],
   "source": [
    "import warnings\n",
    "warnings.simplefilter('ignore', category=pd.errors.SettingWithCopyWarning)\n",
    "pd.set_option(\"display.max_columns\", None)\n",
    "import gc\n",
    "gc.enable()"
   ]
  },
  {
   "cell_type": "markdown",
   "metadata": {
    "id": "bzlnuBlTt1I5"
   },
   "source": [
    "# 2. Essential Functions"
   ]
  },
  {
   "cell_type": "code",
   "execution_count": 169,
   "metadata": {
    "execution": {
     "iopub.execute_input": "2024-12-10T16:03:24.471563Z",
     "iopub.status.busy": "2024-12-10T16:03:24.471032Z",
     "iopub.status.idle": "2024-12-10T16:03:24.484011Z",
     "shell.execute_reply": "2024-12-10T16:03:24.482526Z",
     "shell.execute_reply.started": "2024-12-10T16:03:24.471504Z"
    },
    "id": "0gZSkt1Gt1I5",
    "trusted": true
   },
   "outputs": [],
   "source": [
    "def check_missing_value_col(df, n):\n",
    "    null_percent_col = (df.isnull().sum() / df.shape[0]) * 100\n",
    "    df_null_percent_col = pd.DataFrame(null_percent_col).reset_index().rename(columns={0: 'missing_percent', 'index': 'feature'})\n",
    "    df_null_percent_col = df_null_percent_col.sort_values('missing_percent', ascending=False)\n",
    "    return df_null_percent_col[df_null_percent_col['missing_percent'] > n]\n",
    "def statitic_missing_value_col(df):\n",
    "    for m in [0,5,10,30,40,50,100]:\n",
    "        print(f\"The number of colums have the null percentage > {m}\",check_missing_value_col(df, m).shape[0])\n",
    "def check_missing_value_row(df, n):\n",
    "    null_percent_row = (df.isnull().sum(axis=1) / df.shape[1]) * 100\n",
    "    df_null_percent_row = pd.DataFrame(null_percent_row, columns=['missing_percent']).reset_index().rename(columns={'index': 'application'})\n",
    "    return df_null_percent_row[df_null_percent_row['missing_percent'] > n]\n",
    "def statitic_missing_value_row(df):\n",
    "    for m in [0,5, 10, 15, 50, 100]:\n",
    "        print(f\"The number of rows with the null percentage > {m}: \", check_missing_value_row(df, m).shape[0])"
   ]
  },
  {
   "cell_type": "code",
   "execution_count": 170,
   "metadata": {
    "execution": {
     "iopub.execute_input": "2024-12-10T16:03:24.486142Z",
     "iopub.status.busy": "2024-12-10T16:03:24.485600Z",
     "iopub.status.idle": "2024-12-10T16:03:24.509057Z",
     "shell.execute_reply": "2024-12-10T16:03:24.507301Z",
     "shell.execute_reply.started": "2024-12-10T16:03:24.486085Z"
    },
    "id": "UoYu4gsst1I6",
    "trusted": true
   },
   "outputs": [],
   "source": [
    "def convert_days(data, features, t = 12, rounding = True, replace = False, time = 'MONTH'):\n",
    "    for var in features:\n",
    "        if replace == True:\n",
    "            if rounding == True:\n",
    "                data[var] = abs(data[var])//t\n",
    "            else:\n",
    "                data[var] = abs(data[var])/t\n",
    "        else:\n",
    "            if rounding == True:\n",
    "                data[ time + \"_\" + str(var)] = abs(data[var])//t\n",
    "            else:\n",
    "                data[time + \"_\" + str(var)] = abs(data[var])/t\n",
    "    return data"
   ]
  },
  {
   "cell_type": "code",
   "execution_count": 171,
   "metadata": {
    "execution": {
     "iopub.execute_input": "2024-12-10T16:03:24.512726Z",
     "iopub.status.busy": "2024-12-10T16:03:24.512147Z",
     "iopub.status.idle": "2024-12-10T16:03:24.524405Z",
     "shell.execute_reply": "2024-12-10T16:03:24.522553Z",
     "shell.execute_reply.started": "2024-12-10T16:03:24.512627Z"
    },
    "id": "eEEmmXhKt1I6",
    "trusted": true
   },
   "outputs": [],
   "source": [
    "def encode_column(data, test, columns, encoding_type='label'):\n",
    "    for column in columns:\n",
    "        le = LabelEncoder()\n",
    "        data[column] = le.fit_transform(data[column])\n",
    "        if encoding_type == 'label':\n",
    "            # Add -1 to the classes for unseen labels\n",
    "            le.classes_ = np.append(le.classes_, -1)\n",
    "            test[column] = test[column].apply(lambda x: x if x in le.classes_ else -1)\n",
    "            test[column] = le.transform(test[column])\n",
    "        elif encoding_type == 'onehot':\n",
    "            # One-Hot Encoding\n",
    "            data = pd.get_dummies(data, columns=[column], drop_first=False)\n",
    "            test = pd.get_dummies(test, columns=[column], drop_first=False)\n",
    "    return data, test\n"
   ]
  },
  {
   "cell_type": "code",
   "execution_count": 172,
   "metadata": {
    "execution": {
     "iopub.execute_input": "2024-12-10T16:03:24.529459Z",
     "iopub.status.busy": "2024-12-10T16:03:24.528836Z",
     "iopub.status.idle": "2024-12-10T16:03:24.551065Z",
     "shell.execute_reply": "2024-12-10T16:03:24.548971Z",
     "shell.execute_reply.started": "2024-12-10T16:03:24.529399Z"
    },
    "id": "UE5DO-oQt1I6",
    "trusted": true
   },
   "outputs": [],
   "source": [
    "def create_transforms(data, columns, transform_type='log', replace=False, boxcox_lambda=None, min_max_range=(0, 1)):\n",
    "    scaler = None\n",
    "\n",
    "    for var in columns:\n",
    "        if transform_type == 'log':\n",
    "            transformed = np.log(data[var].abs() + 1)\n",
    "\n",
    "        elif transform_type == 'boxcox':\n",
    "            if (data[var] <= 0).any():\n",
    "                raise ValueError(f\"Box-Cox transform yêu cầu tất cả giá trị trong cột {var} phải dương.\")\n",
    "            transformed, lambda_used = boxcox(data[var], lmbda=boxcox_lambda)\n",
    "            print(f\"Box-Cox lambda cho cột '{var}': {lambda_used}\")\n",
    "\n",
    "        if replace:\n",
    "            data.loc[:, var] = transformed\n",
    "        else:\n",
    "            data[var + f\"_{transform_type.upper()}\"] = transformed\n",
    "\n",
    "    return data"
   ]
  },
  {
   "cell_type": "code",
   "execution_count": 173,
   "metadata": {
    "execution": {
     "iopub.execute_input": "2024-12-10T16:03:24.553414Z",
     "iopub.status.busy": "2024-12-10T16:03:24.552981Z",
     "iopub.status.idle": "2024-12-10T16:03:24.567169Z",
     "shell.execute_reply": "2024-12-10T16:03:24.565429Z",
     "shell.execute_reply.started": "2024-12-10T16:03:24.553377Z"
    },
    "id": "FYbhoL1Et1I6",
    "trusted": true
   },
   "outputs": [],
   "source": [
    "def encode_categorical_features(df):\n",
    "    categorical_cols = df.select_dtypes(include=['object']).columns\n",
    "    label = LabelEncoder()\n",
    "\n",
    "    for col in categorical_cols:\n",
    "        if df[col].nunique() == 2:\n",
    "            df[col] = label.fit_transform(df[col])\n",
    "        else:\n",
    "            if col == 'NAME_EDUCATION_TYPE':\n",
    "                pass\n",
    "            elif col == 'NAME_YIELD_GROUP':\n",
    "                pass\n",
    "            else:\n",
    "                df = pd.get_dummies(df, columns=[col], drop_first=False)\n",
    "\n",
    "    for col in df.select_dtypes(include=[bool]).columns:\n",
    "        df[col] = df[col].astype(int)\n",
    "    return df"
   ]
  },
  {
   "cell_type": "code",
   "execution_count": 174,
   "metadata": {
    "execution": {
     "iopub.execute_input": "2024-12-10T16:03:24.571474Z",
     "iopub.status.busy": "2024-12-10T16:03:24.570830Z",
     "iopub.status.idle": "2024-12-10T16:03:24.588384Z",
     "shell.execute_reply": "2024-12-10T16:03:24.586439Z",
     "shell.execute_reply.started": "2024-12-10T16:03:24.571416Z"
    },
    "id": "w5f7cVOOt1I7",
    "trusted": true
   },
   "outputs": [],
   "source": [
    "def create_scaler(data, test=None, columns=None, scaled_type='minmax', replace=False,  min_max_range=(0, 1)):\n",
    "    if columns is None:\n",
    "        raise ValueError(\"Columns to scaled must be specified.\")\n",
    "    for var in columns:\n",
    "        if scaled_type == 'minmax':\n",
    "            # MinMax Scaling\n",
    "            scaler = MinMaxScaler(feature_range=min_max_range)\n",
    "            scaled_train = scaler.fit_transform(data[[var]]).flatten()\n",
    "            scaled_test = scaler.transform(test[[var]]).flatten() if test is not None else None\n",
    "\n",
    "        elif scaled_type == 'ztransform':\n",
    "            # Standard Scaling (Z-transform)\n",
    "            scaler = StandardScaler()\n",
    "            scaled_train = scaler.fit_transform(data[[var]]).flatten()\n",
    "            scaled_test = scaler.transform(test[[var]]).flatten() if test is not None else None\n",
    "\n",
    "        else:\n",
    "            raise ValueError(f\"Invalid transform type: {scaled_type}\")\n",
    "\n",
    "        # Replace or append transformed columns\n",
    "        if replace:\n",
    "            data[var] = scaled_train\n",
    "            if test is not None:\n",
    "                test[var] = scaled_test\n",
    "        else:\n",
    "            data[var + f\"_{scaled_type.upper()}\"] = scaled_train\n",
    "            if test is not None:\n",
    "                test[var + f\"_{scaled_type.upper()}\"] = scaled_test\n",
    "\n",
    "    return data, test"
   ]
  },
  {
   "cell_type": "code",
   "execution_count": 175,
   "metadata": {
    "execution": {
     "iopub.execute_input": "2024-12-10T16:03:24.592877Z",
     "iopub.status.busy": "2024-12-10T16:03:24.592167Z",
     "iopub.status.idle": "2024-12-10T16:03:24.611727Z",
     "shell.execute_reply": "2024-12-10T16:03:24.610135Z",
     "shell.execute_reply.started": "2024-12-10T16:03:24.592789Z"
    },
    "id": "cKHT_-7st1I7",
    "trusted": true
   },
   "outputs": [],
   "source": [
    "def aggregate_data(data, id_var, label=None):\n",
    "    # Separate numeric and categorical features\n",
    "    data_factors = [f for f in data.columns if data[f].dtype == \"object\"]\n",
    "    num_data = data[list(set(data.columns) - set(data_factors))]\n",
    "    fac_data = data[[id_var] + data_factors]\n",
    "\n",
    "    num_facs = fac_data.shape[1] - 1\n",
    "    num_nums = num_data.shape[1] - 1\n",
    "    print(f\"- Extracted {num_facs} factors and {num_nums} numerics...\")\n",
    "\n",
    "    # Aggregation for numerics\n",
    "    if num_nums > 0:\n",
    "        print(\"- Aggregating numeric features...\")\n",
    "        # Convert all non-numeric columns to numeric (replace non-numeric with NaN)\n",
    "        for col in num_data.columns:\n",
    "            if col != id_var:  # Skip the group key\n",
    "                num_data[col] = pd.to_numeric(num_data[col], errors=\"coerce\")\n",
    "        # Perform aggregation\n",
    "        num_data = num_data.groupby(id_var).agg([\"mean\", \"std\", \"min\", \"max\"])\n",
    "        num_data.columns = [\"_\".join(col).strip() for col in num_data.columns.values]\n",
    "        num_data = num_data.sort_index()\n",
    "\n",
    "    # Aggregation for factors\n",
    "    if num_facs > 0:\n",
    "        print(\"- Aggregating factor features...\")\n",
    "        fac_data = fac_data.groupby(id_var).agg(\n",
    "            {\n",
    "                col: [(\"mode\", lambda x: scipy.stats.mode(x, nan_policy='omit').mode[0] if len(x) > 0 else np.nan),\n",
    "                      (\"unique\", lambda x: x.nunique())]\n",
    "                for col in data_factors\n",
    "            }\n",
    "        )\n",
    "        fac_data.columns = [\"_\".join(col).strip() for col in fac_data.columns.values]\n",
    "        fac_data = fac_data.sort_index()\n",
    "\n",
    "    # Merge numeric and factor datasets\n",
    "    if num_facs > 0 and num_nums > 0:\n",
    "        agg_data = pd.concat([num_data, fac_data], axis=1)\n",
    "    elif num_facs > 0:\n",
    "        agg_data = fac_data\n",
    "    elif num_nums > 0:\n",
    "        agg_data = num_data\n",
    "\n",
    "    # Update column labels\n",
    "    if label:\n",
    "        agg_data.columns = [label + \"_\" + str(col) for col in agg_data.columns]\n",
    "\n",
    "    # Impute zeros for SD\n",
    "    stdevs = agg_data.filter(like=\"_std\").columns\n",
    "    for var in stdevs:\n",
    "        agg_data.fillna({var: 0}, inplace=True)\n",
    "\n",
    "    print(\"- Final dimensions:\", agg_data.shape)\n",
    "\n",
    "    return agg_data"
   ]
  },
  {
   "cell_type": "code",
   "execution_count": 176,
   "metadata": {
    "execution": {
     "iopub.execute_input": "2024-12-10T16:03:24.613815Z",
     "iopub.status.busy": "2024-12-10T16:03:24.613276Z",
     "iopub.status.idle": "2024-12-10T16:03:24.637451Z",
     "shell.execute_reply": "2024-12-10T16:03:24.635275Z",
     "shell.execute_reply.started": "2024-12-10T16:03:24.613773Z"
    },
    "id": "s8LboG3Pt1I7",
    "trusted": true
   },
   "outputs": [],
   "source": [
    "##### FUNCTION FOR COMPUTING ACCEPT/REJECT RATIOS\n",
    "def compute_accept_reject_ratio(data, lags = [1, 3, 5]):\n",
    "\n",
    "    # preparations\n",
    "    dec_prev = data[[\"SK_ID_CURR\", \"SK_ID_PREV\", \"DAYS_DECISION\", \"NAME_CONTRACT_STATUS\"]]\n",
    "    dec_prev[\"DAYS_DECISION\"] = -dec_prev[\"DAYS_DECISION\"]\n",
    "    dec_prev = dec_prev.sort_values(by = [\"SK_ID_CURR\", \"DAYS_DECISION\"])\n",
    "    dec_prev = pd.get_dummies(dec_prev)\n",
    "\n",
    "    # compuatation\n",
    "    for t in lags:\n",
    "\n",
    "        # acceptance ratios\n",
    "        tmp = dec_prev[[\"SK_ID_CURR\", \"NAME_CONTRACT_STATUS_Approved\"]].groupby([\"SK_ID_CURR\"]).head(1)\n",
    "        tmp = tmp.groupby([\"SK_ID_CURR\"], as_index = False).mean()\n",
    "        tmp.columns = [\"SK_ID_CURR\", \"APPROVE_RATIO_\" + str(t)]\n",
    "        data = data.merge(tmp, how = \"left\", on = \"SK_ID_CURR\")\n",
    "\n",
    "        # rejection ratios\n",
    "        tmp = dec_prev[[\"SK_ID_CURR\", \"NAME_CONTRACT_STATUS_Refused\"]].groupby([\"SK_ID_CURR\"]).head(1)\n",
    "        tmp = tmp.groupby([\"SK_ID_CURR\"], as_index = False).mean()\n",
    "        tmp.columns = [\"SK_ID_CURR\", \"REJECT_RATIO_\" + str(t)]\n",
    "        data = data.merge(tmp, how = \"left\", on = \"SK_ID_CURR\")\n",
    "\n",
    "    # dataset\n",
    "    return data"
   ]
  },
  {
   "cell_type": "code",
   "execution_count": 177,
   "metadata": {
    "execution": {
     "iopub.execute_input": "2024-12-10T16:03:24.641958Z",
     "iopub.status.busy": "2024-12-10T16:03:24.641497Z",
     "iopub.status.idle": "2024-12-10T16:03:24.655298Z",
     "shell.execute_reply": "2024-12-10T16:03:24.653466Z",
     "shell.execute_reply.started": "2024-12-10T16:03:24.641920Z"
    },
    "id": "oITMNOz6t1I7",
    "trusted": true
   },
   "outputs": [],
   "source": [
    "def _zoom_3sigma(col, dataset, dataset_apl):\n",
    "\n",
    "    xs = dataset[col]\n",
    "    mu = xs.mean()\n",
    "    sigma = xs.std()\n",
    "    low =  mu - 3*sigma\n",
    "#     low =  0 if low < 0 else low\n",
    "    high = mu + 3*sigma\n",
    "\n",
    "    def _value(x):\n",
    "        if x < low: return low\n",
    "        elif x > high: return high\n",
    "        else: return x\n",
    "    xapl = dataset_apl[col]\n",
    "    xnew = list(map(lambda x: _value(x), xapl))\n",
    "    n_low = len([i for i in xnew if i == low])\n",
    "    n_high = len([i for i in xnew if i == high])\n",
    "    n = len(xapl)\n",
    "    return xnew\n",
    "\n",
    "# Thống kê các giá trị khác biệt trong toàn bộ các biến. có trên 500 là biến liên tục, sử dụng với 3 sigma(kha nang cao la pp chuan)\n",
    "def _count_unique(x):\n",
    "    return pd.Series.nunique(x)"
   ]
  },
  {
   "cell_type": "markdown",
   "metadata": {
    "id": "MCskNclBt1I7"
   },
   "source": [
    "# 3. Data Import"
   ]
  },
  {
   "cell_type": "code",
   "execution_count": 178,
   "metadata": {
    "execution": {
     "iopub.execute_input": "2024-12-10T16:03:24.657659Z",
     "iopub.status.busy": "2024-12-10T16:03:24.657126Z",
     "iopub.status.idle": "2024-12-10T16:03:27.701399Z",
     "shell.execute_reply": "2024-12-10T16:03:27.700243Z",
     "shell.execute_reply.started": "2024-12-10T16:03:24.657603Z"
    },
    "id": "651cl8kIt1I7",
    "trusted": true
   },
   "outputs": [],
   "source": [
    "train = pd.read_csv('dseb63_application_train.csv')"
   ]
  },
  {
   "cell_type": "code",
   "execution_count": 179,
   "metadata": {
    "execution": {
     "iopub.execute_input": "2024-12-10T16:03:27.703146Z",
     "iopub.status.busy": "2024-12-10T16:03:27.702786Z",
     "iopub.status.idle": "2024-12-10T16:03:28.437805Z",
     "shell.execute_reply": "2024-12-10T16:03:28.436381Z",
     "shell.execute_reply.started": "2024-12-10T16:03:27.703112Z"
    },
    "id": "ud4Wh6vUt1I8",
    "trusted": true
   },
   "outputs": [],
   "source": [
    "test = pd.read_csv('dseb63_application_test.csv')"
   ]
  },
  {
   "cell_type": "code",
   "execution_count": 180,
   "metadata": {
    "execution": {
     "iopub.execute_input": "2024-12-10T16:03:28.439893Z",
     "iopub.status.busy": "2024-12-10T16:03:28.439457Z",
     "iopub.status.idle": "2024-12-10T16:03:34.427338Z",
     "shell.execute_reply": "2024-12-10T16:03:34.425740Z",
     "shell.execute_reply.started": "2024-12-10T16:03:28.439851Z"
    },
    "id": "M0Esw7mht1I8",
    "trusted": true
   },
   "outputs": [],
   "source": [
    "bureau_bal = pd.read_csv(\"dseb63_bureau_balance.csv\")"
   ]
  },
  {
   "cell_type": "code",
   "execution_count": 181,
   "metadata": {
    "execution": {
     "iopub.execute_input": "2024-12-10T16:03:34.429480Z",
     "iopub.status.busy": "2024-12-10T16:03:34.429100Z",
     "iopub.status.idle": "2024-12-10T16:03:36.901433Z",
     "shell.execute_reply": "2024-12-10T16:03:36.900241Z",
     "shell.execute_reply.started": "2024-12-10T16:03:34.429445Z"
    },
    "id": "gwvEqFpvt1I8",
    "trusted": true
   },
   "outputs": [],
   "source": [
    "bureau = pd.read_csv(\"dseb63_bureau.csv\")"
   ]
  },
  {
   "cell_type": "code",
   "execution_count": 182,
   "metadata": {
    "execution": {
     "iopub.execute_input": "2024-12-10T16:03:36.903302Z",
     "iopub.status.busy": "2024-12-10T16:03:36.902950Z",
     "iopub.status.idle": "2024-12-10T16:03:45.793924Z",
     "shell.execute_reply": "2024-12-10T16:03:45.792273Z",
     "shell.execute_reply.started": "2024-12-10T16:03:36.903268Z"
    },
    "id": "m_AJlaARt1I8",
    "trusted": true
   },
   "outputs": [],
   "source": [
    "previous= pd.read_csv('dseb63_previous_application.csv')"
   ]
  },
  {
   "cell_type": "code",
   "execution_count": 183,
   "metadata": {
    "execution": {
     "iopub.execute_input": "2024-12-10T16:03:45.800633Z",
     "iopub.status.busy": "2024-12-10T16:03:45.799479Z",
     "iopub.status.idle": "2024-12-10T16:03:51.099038Z",
     "shell.execute_reply": "2024-12-10T16:03:51.097362Z",
     "shell.execute_reply.started": "2024-12-10T16:03:45.800583Z"
    },
    "id": "pW5nKP0jt1I8",
    "trusted": true
   },
   "outputs": [],
   "source": [
    "poca = pd.read_csv('dseb63_POS_CASH_balance.csv')"
   ]
  },
  {
   "cell_type": "code",
   "execution_count": 184,
   "metadata": {
    "execution": {
     "iopub.execute_input": "2024-12-10T16:03:51.101272Z",
     "iopub.status.busy": "2024-12-10T16:03:51.100717Z",
     "iopub.status.idle": "2024-12-10T16:03:57.304282Z",
     "shell.execute_reply": "2024-12-10T16:03:57.302910Z",
     "shell.execute_reply.started": "2024-12-10T16:03:51.101212Z"
    },
    "id": "_OOOhc5ot1I8",
    "trusted": true
   },
   "outputs": [],
   "source": [
    "inst = pd.read_csv('dseb63_installments_payments.csv')"
   ]
  },
  {
   "cell_type": "code",
   "execution_count": 185,
   "metadata": {
    "execution": {
     "iopub.execute_input": "2024-12-10T16:03:57.306234Z",
     "iopub.status.busy": "2024-12-10T16:03:57.305836Z",
     "iopub.status.idle": "2024-12-10T16:04:06.104221Z",
     "shell.execute_reply": "2024-12-10T16:04:06.103000Z",
     "shell.execute_reply.started": "2024-12-10T16:03:57.306196Z"
    },
    "id": "FLicxitOt1I8",
    "trusted": true
   },
   "outputs": [],
   "source": [
    "card = pd.read_csv('dseb63_credit_card_balance.csv')"
   ]
  },
  {
   "cell_type": "code",
   "execution_count": 186,
   "metadata": {
    "execution": {
     "iopub.execute_input": "2024-12-10T16:04:06.106008Z",
     "iopub.status.busy": "2024-12-10T16:04:06.105628Z",
     "iopub.status.idle": "2024-12-10T16:04:06.113451Z",
     "shell.execute_reply": "2024-12-10T16:04:06.112104Z",
     "shell.execute_reply.started": "2024-12-10T16:04:06.105971Z"
    },
    "id": "6ElkHtNMt1I8",
    "trusted": true
   },
   "outputs": [],
   "source": [
    "# extract target\n",
    "y = train[[\"SK_ID_CURR\", \"TARGET\"]]\n",
    "del train[\"TARGET\"]"
   ]
  },
  {
   "cell_type": "code",
   "execution_count": 187,
   "metadata": {
    "execution": {
     "iopub.execute_input": "2024-12-10T16:04:06.115256Z",
     "iopub.status.busy": "2024-12-10T16:04:06.114894Z",
     "iopub.status.idle": "2024-12-10T16:04:06.212068Z",
     "shell.execute_reply": "2024-12-10T16:04:06.210907Z",
     "shell.execute_reply.started": "2024-12-10T16:04:06.115200Z"
    },
    "id": "2BLvyKg0t1I8",
    "trusted": true
   },
   "outputs": [],
   "source": [
    "# concatenate application data\n",
    "appl = pd.concat([train, test])\n",
    "del train, test"
   ]
  },
  {
   "cell_type": "markdown",
   "metadata": {
    "id": "pkpyiFONt1I8"
   },
   "source": [
    "# 4. PREPROCESSING"
   ]
  },
  {
   "cell_type": "markdown",
   "metadata": {
    "id": "G1HK4MjFt1I8"
   },
   "source": [
    "## 4.1. Train_test_application(appl)"
   ]
  },
  {
   "cell_type": "code",
   "execution_count": 188,
   "metadata": {
    "_kg_hide-input": true,
    "execution": {
     "iopub.execute_input": "2024-12-10T16:04:06.213994Z",
     "iopub.status.busy": "2024-12-10T16:04:06.213618Z",
     "iopub.status.idle": "2024-12-10T16:04:18.696990Z",
     "shell.execute_reply": "2024-12-10T16:04:18.695697Z",
     "shell.execute_reply.started": "2024-12-10T16:04:06.213958Z"
    },
    "id": "3Mynlhfvt1I8",
    "trusted": true
   },
   "outputs": [],
   "source": [
    "mean_income_job = appl.groupby('OCCUPATION_TYPE', as_index=False)['AMT_INCOME_TOTAL'].mean()\n",
    "mean_income_dict = mean_income_job.set_index('OCCUPATION_TYPE')['AMT_INCOME_TOTAL'].to_dict()\n",
    "def fill_job(data, dict_income):\n",
    "    # Ensure the DataFrame index is unique\n",
    "    data = data.reset_index(drop=True)\n",
    "\n",
    "    for index in data[data['OCCUPATION_TYPE'].isnull()].index:\n",
    "        try:\n",
    "            # Extract scalar value of AMT_INCOME_TOTAL for the current row\n",
    "            income_total = data.at[index, 'AMT_INCOME_TOTAL']\n",
    "            # Ensure income_total is a scalar\n",
    "            if pd.isnull(income_total):\n",
    "                raise ValueError(f\"Missing 'AMT_INCOME_TOTAL' at index {index}\")\n",
    "\n",
    "            # Find the closest occupation type based on income\n",
    "            closest_occupation = min(\n",
    "                dict_income.keys(),\n",
    "                key=lambda job: abs(income_total - dict_income[job])\n",
    "            )\n",
    "\n",
    "            # Fill the missing OCCUPATION_TYPE\n",
    "            data.at[index, 'OCCUPATION_TYPE'] = closest_occupation\n",
    "\n",
    "        except Exception as e:\n",
    "            print(f\"Error processing index {index}: {e}\")\n",
    "\n",
    "    return data\n",
    "\n",
    "# Apply the function\n",
    "appl = fill_job(appl, mean_income_dict)\n",
    "del mean_income_dict, mean_income_job\n",
    "\n",
    "appl.loc[appl[appl['FLAG_OWN_CAR'] == 'N'].index, 'OWN_CAR_AGE'] = -1\n",
    "\n",
    "previous_columns = [\n",
    "    'OBS_30_CNT_SOCIAL_CIRCLE', 'DEF_30_CNT_SOCIAL_CIRCLE', 'OBS_60_CNT_SOCIAL_CIRCLE',\n",
    "    'DEF_60_CNT_SOCIAL_CIRCLE', 'AMT_REQ_CREDIT_BUREAU_HOUR', 'AMT_REQ_CREDIT_BUREAU_DAY',\n",
    "    'AMT_REQ_CREDIT_BUREAU_WEEK', 'AMT_REQ_CREDIT_BUREAU_MON', 'AMT_REQ_CREDIT_BUREAU_QRT',\n",
    "    'AMT_REQ_CREDIT_BUREAU_YEAR'\n",
    "]\n",
    "\n",
    "for feat in check_missing_value_col(appl[previous_columns],0)['feature']:\n",
    "    for index in appl[appl[feat].isnull()].index:\n",
    "        appl.at[index, feat] = 0\n",
    "\n",
    "del previous_columns\n",
    "\n",
    "##### FEATURE REMOVAL\n",
    "drops_cols = ['APARTMENTS_MEDI', 'BASEMENTAREA_MEDI', 'COMMONAREA_MEDI', 'ELEVATORS_MEDI', 'ENTRANCES_MEDI',\n",
    "         'FLOORSMAX_MEDI', 'FLOORSMIN_MEDI', 'LANDAREA_MEDI', 'LIVINGAPARTMENTS_MEDI', 'LIVINGAREA_MEDI',\n",
    "         'NONLIVINGAPARTMENTS_MEDI', 'NONLIVINGAREA_MEDI','YEARS_BEGINEXPLUATATION_MEDI', 'YEARS_BUILD_MEDI',\n",
    "         'APARTMENTS_MODE', 'BASEMENTAREA_MODE', 'COMMONAREA_MODE','ELEVATORS_MODE', 'ENTRANCES_MODE',\n",
    "         'FLOORSMAX_MODE', 'FLOORSMIN_MODE', 'LANDAREA_MODE', 'LIVINGAPARTMENTS_MODE', 'LIVINGAREA_MODE',\n",
    "         'NONLIVINGAPARTMENTS_MODE', 'NONLIVINGAREA_MODE', 'TOTALAREA_MODE',  'YEARS_BEGINEXPLUATATION_MODE','Unnamed: 0']\n",
    "appl = appl.drop(columns = drops_cols )\n",
    "del drops_cols\n",
    "\n",
    "train = appl[appl[\"SK_ID_CURR\"].isin(y[\"SK_ID_CURR\"]) == True]\n",
    "test  = appl[appl[\"SK_ID_CURR\"].isin(y[\"SK_ID_CURR\"]) == False]\n",
    "del appl\n",
    "#Gán lại label vào train để thực hiện 1 số khâu tiếp theo..\n",
    "train.loc[:, 'TARGET'] = y['TARGET']\n",
    "\n",
    "def _per_categorical(col):\n",
    "    tbl_per = pd.pivot_table(train[['TARGET', col]], index = ['TARGET'], columns = [col], aggfunc = len)\n",
    "    per_categorical = (tbl_per.iloc[0, :]/tbl_per.iloc[1, :]).sort_values(ascending = True)\n",
    "    return per_categorical\n",
    "\n",
    "def _devide_group(col, schedule_div = None, n_groups = 3, *kwargs):\n",
    "    cols = []\n",
    "    tbl_per_cat = _per_categorical(col)\n",
    "\n",
    "    if schedule_div is None:\n",
    "        n_cats = len(tbl_per_cat)\n",
    "        n_val_incat = int(n_cats/n_groups)\n",
    "        n_odd = n_cats - n_groups*n_val_incat\n",
    "\n",
    "        for i in range(n_groups):\n",
    "            if i == n_groups - 1:\n",
    "                el = tbl_per_cat[(n_val_incat*i):(n_val_incat*(i+1)+n_odd)].index.tolist()\n",
    "            else:\n",
    "                el = tbl_per_cat[(n_val_incat*i):n_val_incat*(i+1)].index.tolist()\n",
    "            cols.append(el)\n",
    "    else:\n",
    "        idx = 0\n",
    "        for n_cols in schedule_div:\n",
    "            el_cols = tbl_per_cat[idx:(idx+n_cols)].index.tolist()\n",
    "            cols.append(el_cols)\n",
    "            idx += n_cols\n",
    "\n",
    "    return cols\n",
    "\n",
    "def _map_lambda_cats(cols_list, colname, x):\n",
    "    cats = list(map(lambda x:colname + '_' + str(x), np.arange(len(cols_list)).tolist()))\n",
    "    for i in range(len(cols_ORGANIZATION_TYPE)):\n",
    "        if x in cols_list[i]:\n",
    "            return cats[i]\n",
    "\n",
    "def _map_cats(cols_list, colname, dataset):\n",
    "    return list(map(lambda x: _map_lambda_cats(cols_list, colname, x),\n",
    "                    dataset[colname]))\n",
    "\n",
    "# Trích những cột object\n",
    "dtypes_object = train.select_dtypes(include=['object']).columns.tolist()\n",
    "\n",
    "cols_OCCUPATION_TYPE = _devide_group(col = 'OCCUPATION_TYPE', schedule_div = [1, 7, 9, 1])\n",
    "cols_ORGANIZATION_TYPE = _devide_group(col = 'ORGANIZATION_TYPE')\n",
    "train['ORGANIZATION_TYPE'] = _map_cats(cols_ORGANIZATION_TYPE, 'ORGANIZATION_TYPE', train)\n",
    "test['ORGANIZATION_TYPE'] = _map_cats(cols_ORGANIZATION_TYPE, 'ORGANIZATION_TYPE', test)\n",
    "train['OCCUPATION_TYPE'] = _map_cats(cols_OCCUPATION_TYPE, 'OCCUPATION_TYPE', train)\n",
    "test['OCCUPATION_TYPE'] = _map_cats(cols_OCCUPATION_TYPE, 'OCCUPATION_TYPE', test)\n",
    "#Gom lại\n",
    "mapping = ['Other_B', 'Group of people', 'Other_A']\n",
    "\n",
    "train['NAME_TYPE_SUITE'] = train['NAME_TYPE_SUITE'].replace(mapping, 'Other')\n",
    "test['NAME_TYPE_SUITE'] = test['NAME_TYPE_SUITE'].replace(mapping, 'Other')\n",
    "\n",
    "del dtypes_object, cols_OCCUPATION_TYPE, cols_ORGANIZATION_TYPE, mapping"
   ]
  },
  {
   "cell_type": "code",
   "execution_count": 189,
   "metadata": {
    "execution": {
     "iopub.execute_input": "2024-12-10T16:04:18.698832Z",
     "iopub.status.busy": "2024-12-10T16:04:18.698434Z",
     "iopub.status.idle": "2024-12-10T16:04:23.248417Z",
     "shell.execute_reply": "2024-12-10T16:04:23.247205Z",
     "shell.execute_reply.started": "2024-12-10T16:04:18.698793Z"
    },
    "id": "0P46Img2t1I8",
    "trusted": true
   },
   "outputs": [],
   "source": [
    "tbl_dis_val = train.apply(_count_unique).sort_values(ascending = False)\n",
    "cols_3sigma = tbl_dis_val[tbl_dis_val > 500].index.tolist()\n",
    "# Loại bỏ biến key là SK_ID_CURR ra khỏi danh sách:\n",
    "cols_3sigma = cols_3sigma[1:]\n",
    "# Loại bỏ các outlier bằng 3 sigma\n",
    "for col in cols_3sigma:\n",
    "    train[col] = _zoom_3sigma(col, train, train)\n",
    "    test[col] = _zoom_3sigma(col, test, test)\n",
    "\n",
    "del tbl_dis_val, cols_3sigma"
   ]
  },
  {
   "cell_type": "code",
   "execution_count": 190,
   "metadata": {
    "execution": {
     "iopub.execute_input": "2024-12-10T16:04:23.250362Z",
     "iopub.status.busy": "2024-12-10T16:04:23.249997Z",
     "iopub.status.idle": "2024-12-10T16:04:23.329826Z",
     "shell.execute_reply": "2024-12-10T16:04:23.328626Z",
     "shell.execute_reply.started": "2024-12-10T16:04:23.250327Z"
    },
    "id": "X_5wsRhft1I9",
    "trusted": true
   },
   "outputs": [],
   "source": [
    "train['CODE_GENDER'] = train['CODE_GENDER'].replace('XNA', np.nan)\n",
    "test['CODE_GENDER'] = test['CODE_GENDER'].replace('XNA', np.nan)\n",
    "\n",
    "train['NAME_FAMILY_STATUS'] = train['NAME_FAMILY_STATUS'].replace('Unknown', np.nan)\n",
    "test['NAME_FAMILY_STATUS'] = test['NAME_FAMILY_STATUS'].replace('Unknown', np.nan)\n",
    "\n",
    "# Replace placeholder value -365243 in 'DAYS_EMPLOYED' with NaN\n",
    "train.loc[train['DAYS_EMPLOYED'] == -365243, 'DAYS_EMPLOYED'] = np.nan\n",
    "test.loc[test['DAYS_EMPLOYED'] == -365243, 'DAYS_EMPLOYED'] = np.nan\n",
    "\n",
    "# Handle erroneous values in 'OBS_30_CNT_SOCIAL_CIRCLE' and 'OBS_60_CNT_SOCIAL_CIRCLE'\n",
    "train.loc[train['OBS_30_CNT_SOCIAL_CIRCLE'] > 30, 'OBS_30_CNT_SOCIAL_CIRCLE'] = np.nan\n",
    "train.loc[train['OBS_60_CNT_SOCIAL_CIRCLE'] > 30, 'OBS_60_CNT_SOCIAL_CIRCLE'] = np.nan\n",
    "\n",
    "test.loc[test['OBS_30_CNT_SOCIAL_CIRCLE'] > 30, 'OBS_30_CNT_SOCIAL_CIRCLE'] = np.nan\n",
    "test.loc[test['OBS_60_CNT_SOCIAL_CIRCLE'] > 30, 'OBS_60_CNT_SOCIAL_CIRCLE'] = np.nan"
   ]
  },
  {
   "cell_type": "code",
   "execution_count": 191,
   "metadata": {
    "execution": {
     "iopub.execute_input": "2024-12-10T16:04:23.332438Z",
     "iopub.status.busy": "2024-12-10T16:04:23.332082Z",
     "iopub.status.idle": "2024-12-10T16:04:23.790738Z",
     "shell.execute_reply": "2024-12-10T16:04:23.789392Z",
     "shell.execute_reply.started": "2024-12-10T16:04:23.332406Z"
    },
    "id": "Omk_vEpgt1I9",
    "trusted": true
   },
   "outputs": [],
   "source": [
    "train = convert_days(train, ['DAYS_BIRTH','DAYS_EMPLOYED', 'DAYS_REGISTRATION', 'DAYS_ID_PUBLISH','DAYS_LAST_PHONE_CHANGE'], t=1, rounding=False, replace=True, time = 'DAYS')\n",
    "test = convert_days(test, ['DAYS_BIRTH','DAYS_EMPLOYED', 'DAYS_REGISTRATION', 'DAYS_ID_PUBLISH','DAYS_LAST_PHONE_CHANGE'], t=1, rounding=False, replace=True, time = 'DAYS')\n",
    "train = convert_days(train, ['OWN_CAR_AGE'], t=0.033, rounding=True, replace=True, time = 'DAYS')\n",
    "test = convert_days(test, ['OWN_CAR_AGE'], t=0.033, rounding=True, replace=True, time = 'DAYS')\n",
    "def ratio_fix(target_column, original_column, df):\n",
    "    ratio_column = df[target_column] / df[original_column]\n",
    "    df.loc[ratio_column >= 1, target_column] = np.nan\n",
    "    average_ratio = ratio_column[ratio_column < 1].mean()\n",
    "    df.loc[df[target_column].isnull(), target_column] = df.loc[df[target_column].isnull(), original_column] * average_ratio\n",
    "    return df\n",
    "\n",
    "for i in [\"DAYS_EMPLOYED\", \"DAYS_LAST_PHONE_CHANGE\", \"DAYS_REGISTRATION\", \"DAYS_ID_PUBLISH\", \"OWN_CAR_AGE\"]:\n",
    "    train = ratio_fix(i, 'DAYS_BIRTH', train)\n",
    "    test = ratio_fix(i, 'DAYS_BIRTH', test)\n",
    "\n",
    "train = ratio_fix('OBS_60_CNT_SOCIAL_CIRCLE', 'OBS_30_CNT_SOCIAL_CIRCLE', train)\n",
    "train = ratio_fix('DEF_60_CNT_SOCIAL_CIRCLE', 'DEF_30_CNT_SOCIAL_CIRCLE', train)\n",
    "test = ratio_fix('OBS_60_CNT_SOCIAL_CIRCLE', 'OBS_30_CNT_SOCIAL_CIRCLE', test)\n",
    "test = ratio_fix('DEF_60_CNT_SOCIAL_CIRCLE', 'DEF_30_CNT_SOCIAL_CIRCLE', test)\n",
    "##Doc_document\n",
    "doc_vars = [f\"FLAG_DOCUMENT_{i}\" for i in range(2, 22)]\n",
    "train[\"NUM_DOCUMENTS\"] = train[doc_vars].sum(axis=1)\n",
    "test[\"NUM_DOCUMENTS\"] = test[doc_vars].sum(axis=1)\n",
    "test = test.drop(columns=doc_vars)\n",
    "train = train.drop(columns=doc_vars)\n",
    "del doc_vars\n",
    "# Application date: classify as \"Working day\" or \"Weekend\"\n",
    "train[\"DAY_APPR_PROCESS_START\"] = \"Working day\"\n",
    "train.loc[\n",
    "    (train[\"WEEKDAY_APPR_PROCESS_START\"] == \"SATURDAY\") |\n",
    "    (train[\"WEEKDAY_APPR_PROCESS_START\"] == \"SUNDAY\"),\n",
    "    \"DAY_APPR_PROCESS_START\"\n",
    "] = \"Weekend\"\n",
    "\n",
    "test[\"DAY_APPR_PROCESS_START\"] = \"Working day\"\n",
    "test.loc[\n",
    "    (test[\"WEEKDAY_APPR_PROCESS_START\"] == \"SATURDAY\") |\n",
    "    (test[\"WEEKDAY_APPR_PROCESS_START\"] == \"SUNDAY\"),\n",
    "    \"DAY_APPR_PROCESS_START\"\n",
    "] = \"Weekend\"\n",
    "\n",
    "# income ratios\n",
    "train[\"CREDIT_BY_INCOME\"]      = train[\"AMT_CREDIT\"]      / train[\"AMT_INCOME_TOTAL\"]\n",
    "train[\"ANNUITY_BY_INCOME\"]     = train[\"AMT_ANNUITY\"]     / train[\"AMT_INCOME_TOTAL\"]\n",
    "train[\"GOODS_PRICE_BY_INCOME\"] = train[\"AMT_GOODS_PRICE\"] / train[\"AMT_INCOME_TOTAL\"]\n",
    "train[\"INCOME_PER_PERSON\"]     = train[\"AMT_INCOME_TOTAL\"] / train[\"CNT_FAM_MEMBERS\"]\n",
    "test[\"CREDIT_BY_INCOME\"]      = test[\"AMT_CREDIT\"]      / test[\"AMT_INCOME_TOTAL\"]\n",
    "test[\"ANNUITY_BY_INCOME\"]     = test[\"AMT_ANNUITY\"]     / test[\"AMT_INCOME_TOTAL\"]\n",
    "test[\"GOODS_PRICE_BY_INCOME\"] = test[\"AMT_GOODS_PRICE\"] / test[\"AMT_INCOME_TOTAL\"]\n",
    "test[\"INCOME_PER_PERSON\"]     = test[\"AMT_INCOME_TOTAL\"] / test[\"CNT_FAM_MEMBERS\"]\n",
    "# number of adults\n",
    "train[\"CNT_ADULTS\"] = train[\"CNT_FAM_MEMBERS\"] - train[\"CNT_CHILDREN\"]\n",
    "train['CHILDREN_RATIO'] = train['CNT_CHILDREN'] / train['CNT_FAM_MEMBERS']\n",
    "\n",
    "# number of overall payments\n",
    "train['ANNUITY_LENGTH'] = train['AMT_CREDIT'] / train['AMT_ANNUITY']\n",
    "\n",
    "# external sources\n",
    "train[\"EXT_SOURCE_MEAN\"] = train[[\"EXT_SOURCE_1\", \"EXT_SOURCE_2\", \"EXT_SOURCE_3\"]].mean(axis=1)\n",
    "\n",
    "# number of adults\n",
    "test[\"CNT_ADULTS\"] = test[\"CNT_FAM_MEMBERS\"] - test[\"CNT_CHILDREN\"]\n",
    "test['CHILDREN_RATIO'] = test['CNT_CHILDREN'] / test['CNT_FAM_MEMBERS']\n",
    "\n",
    "# number of overall payments\n",
    "test['ANNUITY_LENGTH'] = test['AMT_CREDIT'] / test['AMT_ANNUITY']\n",
    "\n",
    "# external sources\n",
    "test[\"EXT_SOURCE_MEAN\"] = test[[\"EXT_SOURCE_1\", \"EXT_SOURCE_2\", \"EXT_SOURCE_3\"]].mean(axis=1)\n",
    "test[\"NUM_EXT_SOURCES\"] = 3 - (\n",
    "    test[\"EXT_SOURCE_1\"].isnull().astype(int) +\n",
    "    test[\"EXT_SOURCE_2\"].isnull().astype(int) +\n",
    "    test[\"EXT_SOURCE_3\"].isnull().astype(int)\n",
    ")\n",
    "del train['TARGET']"
   ]
  },
  {
   "cell_type": "code",
   "execution_count": 192,
   "metadata": {
    "execution": {
     "iopub.execute_input": "2024-12-10T16:04:23.793824Z",
     "iopub.status.busy": "2024-12-10T16:04:23.793282Z",
     "iopub.status.idle": "2024-12-10T16:04:23.799967Z",
     "shell.execute_reply": "2024-12-10T16:04:23.798602Z",
     "shell.execute_reply.started": "2024-12-10T16:04:23.793781Z"
    },
    "id": "hGe9dKult1I9",
    "trusted": true
   },
   "outputs": [],
   "source": [
    "# cate_features_application = train.select_dtypes(include=['object']).columns.tolist()\n",
    "# num_feature_application = train.select_dtypes(include=['float64','int64']).columns.tolist()\n",
    "\n",
    "# impute_num_application  = SimpleImputer(strategy='median')\n",
    "# impute_num_application.fit(train[num_feature_application])\n",
    "# train[num_feature_application] = impute_num_application.transform(train[num_feature_application])\n",
    "# test[num_feature_application] = impute_num_application.transform(test[num_feature_application])\n",
    "\n",
    "# impute_cate_application = SimpleImputer(strategy='most_frequent')\n",
    "# impute_cate_application.fit(train[cate_features_application])\n",
    "# train[cate_features_application] = impute_cate_application.transform(train[cate_features_application])\n",
    "# test[cate_features_application] = impute_cate_application.transform(test[cate_features_application])\n",
    "\n",
    "# del cate_features_application , num_feature_application"
   ]
  },
  {
   "cell_type": "code",
   "execution_count": 193,
   "metadata": {
    "execution": {
     "iopub.execute_input": "2024-12-10T16:04:23.801713Z",
     "iopub.status.busy": "2024-12-10T16:04:23.801299Z",
     "iopub.status.idle": "2024-12-10T16:04:28.741232Z",
     "shell.execute_reply": "2024-12-10T16:04:28.740085Z",
     "shell.execute_reply.started": "2024-12-10T16:04:23.801654Z"
    },
    "id": "PfaIvi_ot1I9",
    "outputId": "653d2a3a-bda8-49d4-b156-028bccb38a76",
    "trusted": true
   },
   "outputs": [
    {
     "name": "stderr",
     "output_type": "stream",
     "text": [
      "C:\\Users\\nn200\\AppData\\Local\\Temp\\ipykernel_12056\\2358213390.py:9: FutureWarning: Downcasting behavior in `replace` is deprecated and will be removed in a future version. To retain the old behavior, explicitly call `result.infer_objects(copy=False)`. To opt-in to the future behavior, set `pd.set_option('future.no_silent_downcasting', True)`\n",
      "  train['NAME_EDUCATION_TYPE'] = train['NAME_EDUCATION_TYPE'].replace(education_type_mapping)\n",
      "C:\\Users\\nn200\\AppData\\Local\\Temp\\ipykernel_12056\\2358213390.py:11: FutureWarning: Downcasting behavior in `replace` is deprecated and will be removed in a future version. To retain the old behavior, explicitly call `result.infer_objects(copy=False)`. To opt-in to the future behavior, set `pd.set_option('future.no_silent_downcasting', True)`\n",
      "  test['NAME_EDUCATION_TYPE'] = test['NAME_EDUCATION_TYPE'].replace(education_type_mapping)\n"
     ]
    }
   ],
   "source": [
    "#LAbel cho 2-3 nhãn, 2 nhãn trở lên th\n",
    "education_type_mapping = {\n",
    "    'Lower secondary': 1,\n",
    "    'Secondary / secondary special': 2,\n",
    "    'Incomplete higher': 3,\n",
    "    'Higher education': 4,\n",
    "    'Academic degree': 5\n",
    "}\n",
    "train['NAME_EDUCATION_TYPE'] = train['NAME_EDUCATION_TYPE'].replace(education_type_mapping)\n",
    "train['NAME_EDUCATION_TYPE'] = train['NAME_EDUCATION_TYPE'].astype('int')\n",
    "test['NAME_EDUCATION_TYPE'] = test['NAME_EDUCATION_TYPE'].replace(education_type_mapping)\n",
    "test['NAME_EDUCATION_TYPE'] = test['NAME_EDUCATION_TYPE'].astype('int')\n",
    "\n",
    "train, test = encode_column(train, test, ['NAME_CONTRACT_TYPE','CODE_GENDER','FLAG_OWN_CAR','FLAG_OWN_REALTY','EMERGENCYSTATE_MODE','DAY_APPR_PROCESS_START'], encoding_type='label')\n",
    "train, test = encode_column(train, test, ['NAME_TYPE_SUITE','NAME_INCOME_TYPE','NAME_FAMILY_STATUS','NAME_HOUSING_TYPE','OCCUPATION_TYPE','ORGANIZATION_TYPE', 'FONDKAPREMONT_MODE', 'HOUSETYPE_MODE', 'WALLSMATERIAL_MODE', 'WEEKDAY_APPR_PROCESS_START'], encoding_type='onehot')\n",
    "\n",
    "#Lệch phải -> log\n",
    "train = create_transforms(train, [\"AMT_CREDIT\", \"AMT_INCOME_TOTAL\", \"AMT_GOODS_PRICE\", \"AMT_ANNUITY\"], transform_type='log', replace = True)\n",
    "test = create_transforms(test, [\"AMT_CREDIT\", \"AMT_INCOME_TOTAL\", \"AMT_GOODS_PRICE\", \"AMT_ANNUITY\"],transform_type='log', replace = True)"
   ]
  },
  {
   "cell_type": "code",
   "execution_count": 194,
   "metadata": {
    "execution": {
     "iopub.execute_input": "2024-12-10T16:04:28.742959Z",
     "iopub.status.busy": "2024-12-10T16:04:28.742578Z",
     "iopub.status.idle": "2024-12-10T16:04:28.748913Z",
     "shell.execute_reply": "2024-12-10T16:04:28.747454Z",
     "shell.execute_reply.started": "2024-12-10T16:04:28.742925Z"
    },
    "id": "-13aTeJUt1I9",
    "trusted": true
   },
   "outputs": [],
   "source": [
    "# minmax_columns = [\n",
    "#     \"DAYS_EMPLOYED\",\"DAYS_REGISTRATION\",\"DAYS_ID_PUBLISH\",\"OWN_CAR_AGE\",\n",
    "#     \"CNT_FAM_MEMBERS\",\"HOUR_APPR_PROCESS_START\",\n",
    "#     \"OBS_30_CNT_SOCIAL_CIRCLE\",\"DEF_30_CNT_SOCIAL_CIRCLE\",\n",
    "#     \"OBS_60_CNT_SOCIAL_CIRCLE\",\"DEF_60_CNT_SOCIAL_CIRCLE\",\n",
    "#     \"DAYS_LAST_PHONE_CHANGE\",\"AMT_REQ_CREDIT_BUREAU_HOUR\",\n",
    "#     \"AMT_REQ_CREDIT_BUREAU_WEEK\",\"AMT_REQ_CREDIT_BUREAU_DAY\",\n",
    "#     \"AMT_REQ_CREDIT_BUREAU_MON\",\"AMT_REQ_CREDIT_BUREAU_QRT\",\n",
    "#     \"AMT_REQ_CREDIT_BUREAU_YEAR\",\"GOODS_PRICE_BY_INCOME\",\n",
    "#     \"ANNUITY_BY_INCOME\",\"CREDIT_BY_INCOME\",\n",
    "#     \"CNT_ADULTS\",\"ANNUITY_LENGTH\",\"CHILDREN_RATIO\",\n",
    "#     \"AMT_INCOME_TOTAL\",\"AMT_CREDIT\",\n",
    "#     \"AMT_ANNUITY\",\"AMT_GOODS_PRICE\",\"DAYS_BIRTH\"\n",
    "# ]\n",
    "# train, test = create_scaler(train, test=test, columns=minmax_columns, scaled_type='minmax', replace=True,  min_max_range=(0, 1))\n",
    "# del minmax_columns"
   ]
  },
  {
   "cell_type": "code",
   "execution_count": 195,
   "metadata": {
    "execution": {
     "iopub.execute_input": "2024-12-10T16:04:28.751319Z",
     "iopub.status.busy": "2024-12-10T16:04:28.750711Z",
     "iopub.status.idle": "2024-12-10T16:04:28.770859Z",
     "shell.execute_reply": "2024-12-10T16:04:28.769642Z",
     "shell.execute_reply.started": "2024-12-10T16:04:28.751218Z"
    },
    "id": "RIPasCXPt1I9",
    "trusted": true
   },
   "outputs": [],
   "source": [
    "# Đổi tên cột bằng cách thêm tiền tố \"app_\" cho các cột không phải \"SK_ID_CURR\"\n",
    "train.rename(columns={col: \"app_\" + col for col in train.columns if col != \"SK_ID_CURR\"}, inplace=True)\n",
    "test.rename(columns={col: \"app_\" + col for col in test.columns if col != \"SK_ID_CURR\"}, inplace=True)\n"
   ]
  },
  {
   "cell_type": "code",
   "execution_count": 196,
   "metadata": {
    "execution": {
     "iopub.execute_input": "2024-12-10T16:04:28.772804Z",
     "iopub.status.busy": "2024-12-10T16:04:28.772300Z",
     "iopub.status.idle": "2024-12-10T16:04:28.787154Z",
     "shell.execute_reply": "2024-12-10T16:04:28.785732Z",
     "shell.execute_reply.started": "2024-12-10T16:04:28.772754Z"
    },
    "id": "tKARaBITt1I9",
    "trusted": true
   },
   "outputs": [],
   "source": [
    "# train.to_csv('train_check.csv')\n",
    "# test.to_csv('test_check.csv')"
   ]
  },
  {
   "cell_type": "markdown",
   "metadata": {
    "id": "xZhEsnrPt1I-"
   },
   "source": [
    "## 4.2. Bureau Balance"
   ]
  },
  {
   "cell_type": "code",
   "execution_count": 197,
   "metadata": {
    "execution": {
     "iopub.execute_input": "2024-12-10T16:04:28.788848Z",
     "iopub.status.busy": "2024-12-10T16:04:28.788427Z",
     "iopub.status.idle": "2024-12-10T16:04:57.428163Z",
     "shell.execute_reply": "2024-12-10T16:04:57.426794Z",
     "shell.execute_reply.started": "2024-12-10T16:04:28.788810Z"
    },
    "id": "EuEWAEvgt1I-",
    "trusted": true
   },
   "outputs": [],
   "source": [
    "bureau_bal[\"NUM_STATUS\"] = 0\n",
    "bureau_bal.loc[bureau_bal[\"STATUS\"] == \"X\", \"NUM_STATUS\"] = -1\n",
    "bureau_bal.loc[bureau_bal[\"STATUS\"] == \"1\", \"NUM_STATUS\"] = 1\n",
    "bureau_bal.loc[bureau_bal[\"STATUS\"] == \"2\", \"NUM_STATUS\"] = 2\n",
    "bureau_bal.loc[bureau_bal[\"STATUS\"] == \"3\", \"NUM_STATUS\"] = 3\n",
    "bureau_bal.loc[bureau_bal[\"STATUS\"] == \"4\", \"NUM_STATUS\"] = 4\n",
    "bureau_bal.loc[bureau_bal[\"STATUS\"] == \"5\", \"NUM_STATUS\"] = 5\n",
    "\n",
    "bureau_bal[\"LOAN_SCORE\"] = bureau_bal[\"NUM_STATUS\"] / (abs(bureau_bal[\"MONTHS_BALANCE\"]) + 1)\n",
    "loan_score = bureau_bal.groupby(\"SK_ID_BUREAU\", as_index=False)[\"LOAN_SCORE\"].sum()\n",
    "\n",
    "del bureau_bal[\"NUM_STATUS\"]\n",
    "del bureau_bal[\"LOAN_SCORE\"]\n",
    "\n",
    "bureau_bal[['MONTHS_BALANCE']] = SimpleImputer(strategy='median').fit_transform(bureau_bal[['MONTHS_BALANCE']])\n",
    "bureau_bal[['STATUS']] = SimpleImputer(strategy='most_frequent').fit_transform(bureau_bal[['STATUS']])\n",
    "\n",
    "# dummy encoding for STATUS\n",
    "bureau_bal = pd.get_dummies(bureau_bal, columns = [\"STATUS\"], prefix = \"STATUS\")"
   ]
  },
  {
   "cell_type": "code",
   "execution_count": 198,
   "metadata": {
    "execution": {
     "iopub.execute_input": "2024-12-10T16:04:57.429908Z",
     "iopub.status.busy": "2024-12-10T16:04:57.429523Z",
     "iopub.status.idle": "2024-12-10T16:05:01.656852Z",
     "shell.execute_reply": "2024-12-10T16:05:01.655316Z",
     "shell.execute_reply.started": "2024-12-10T16:04:57.429871Z"
    },
    "id": "SW5gN9bmt1JB",
    "trusted": true
   },
   "outputs": [],
   "source": [
    "### AGGREGATIONS\n",
    "\n",
    "# Total month count\n",
    "cnt_mon = bureau_bal[[\"SK_ID_BUREAU\", \"MONTHS_BALANCE\"]].groupby(\"SK_ID_BUREAU\").count()\n",
    "del bureau_bal[\"MONTHS_BALANCE\"]\n",
    "\n",
    "# Ensure numeric columns in `bureau_bal` are clean\n",
    "for col in bureau_bal.columns:\n",
    "   if col != \"SK_ID_BUREAU\":  # Skip the group key\n",
    "      bureau_bal[col] = pd.to_numeric(bureau_bal[col], errors=\"coerce\")\n",
    "\n",
    "# Aggregate data\n",
    "agg_bureau_bal = bureau_bal.groupby(\"SK_ID_BUREAU\").mean()\n",
    "agg_bureau_bal[\"MONTH_COUNT\"] = cnt_mon\n",
    "\n",
    "# Add loan score\n",
    "agg_bureau_bal = agg_bureau_bal.merge(loan_score, how=\"left\", on=\"SK_ID_BUREAU\")"
   ]
  },
  {
   "cell_type": "code",
   "execution_count": 199,
   "metadata": {
    "execution": {
     "iopub.execute_input": "2024-12-10T16:05:01.659439Z",
     "iopub.status.busy": "2024-12-10T16:05:01.658907Z",
     "iopub.status.idle": "2024-12-10T16:05:01.667227Z",
     "shell.execute_reply": "2024-12-10T16:05:01.665898Z",
     "shell.execute_reply.started": "2024-12-10T16:05:01.659386Z"
    },
    "id": "cbQKo3D7t1JB",
    "trusted": true
   },
   "outputs": [],
   "source": [
    "del bureau_bal, cnt_mon, loan_score"
   ]
  },
  {
   "cell_type": "code",
   "execution_count": 200,
   "metadata": {
    "execution": {
     "iopub.execute_input": "2024-12-10T16:05:01.669701Z",
     "iopub.status.busy": "2024-12-10T16:05:01.669147Z",
     "iopub.status.idle": "2024-12-10T16:05:01.683883Z",
     "shell.execute_reply": "2024-12-10T16:05:01.682295Z",
     "shell.execute_reply.started": "2024-12-10T16:05:01.669611Z"
    },
    "id": "JYk8X-K8t1JB",
    "trusted": true
   },
   "outputs": [],
   "source": [
    "# agg_bureau_bal.to_csv('agg_bureal_bal_check.csv')"
   ]
  },
  {
   "cell_type": "markdown",
   "metadata": {
    "id": "CBe0-C1Wt1JB"
   },
   "source": [
    "## 4.3. Bureau[MERGED]"
   ]
  },
  {
   "cell_type": "code",
   "execution_count": 201,
   "metadata": {
    "execution": {
     "iopub.execute_input": "2024-12-10T16:05:01.694981Z",
     "iopub.status.busy": "2024-12-10T16:05:01.694231Z",
     "iopub.status.idle": "2024-12-10T16:05:02.307902Z",
     "shell.execute_reply": "2024-12-10T16:05:02.306474Z",
     "shell.execute_reply.started": "2024-12-10T16:05:01.694929Z"
    },
    "id": "BoeNkFhqt1JB",
    "trusted": true
   },
   "outputs": [],
   "source": [
    "### MERGE\n",
    "bureau = bureau.merge(right = agg_bureau_bal.reset_index(), how = \"left\", on = \"SK_ID_BUREAU\")"
   ]
  },
  {
   "cell_type": "code",
   "execution_count": 202,
   "metadata": {
    "execution": {
     "iopub.execute_input": "2024-12-10T16:05:02.310888Z",
     "iopub.status.busy": "2024-12-10T16:05:02.309532Z",
     "iopub.status.idle": "2024-12-10T16:05:02.894249Z",
     "shell.execute_reply": "2024-12-10T16:05:02.892945Z",
     "shell.execute_reply.started": "2024-12-10T16:05:02.310794Z"
    },
    "id": "1J3EM-Y4t1JB",
    "trusted": true
   },
   "outputs": [],
   "source": [
    "def convert_days_past(data, features, t = 12, rounding = True, replace = False, time = 'MONTH'):\n",
    "    for var in features:\n",
    "        if replace == True:\n",
    "            if rounding == True:\n",
    "                data[var] = -data[var]//t\n",
    "            else:\n",
    "                data[var] = -data[var]/t\n",
    "        else:\n",
    "            if rounding == True:\n",
    "                data[ time + \"_\" + str(var)] = -data[var]//t\n",
    "            else:\n",
    "                data[time + \"_\" + str(var)] = -data[var]/t\n",
    "    return data\n",
    "bureau = convert_days_past(bureau,['DAYS_CREDIT', 'DAYS_CREDIT_ENDDATE', 'DAYS_ENDDATE_FACT','DAYS_CREDIT_UPDATE','MONTH_COUNT'], t=1, rounding=True, replace=True, time = '')\n",
    "bureau.loc[bureau[bureau['CREDIT_ACTIVE'] == 'Active'].index, 'DAYS_ENDDATE_FACT'] = -1\n",
    "bureau['AMT_CREDIT_SUM_DEBT'] = bureau['AMT_CREDIT_SUM_DEBT'].fillna(\n",
    "    bureau.groupby('CREDIT_ACTIVE')['AMT_CREDIT_SUM_DEBT'].transform('mean')\n",
    ")"
   ]
  },
  {
   "cell_type": "code",
   "execution_count": 203,
   "metadata": {
    "execution": {
     "iopub.execute_input": "2024-12-10T16:05:02.896392Z",
     "iopub.status.busy": "2024-12-10T16:05:02.895881Z",
     "iopub.status.idle": "2024-12-10T16:05:21.576269Z",
     "shell.execute_reply": "2024-12-10T16:05:21.575105Z",
     "shell.execute_reply.started": "2024-12-10T16:05:02.896337Z"
    },
    "id": "4Mwikxlmt1JB",
    "trusted": true
   },
   "outputs": [],
   "source": [
    "def clean_categorical_data(df):\n",
    "    # Clean CREDIT_CURRENCY - Combine infrequent categories\n",
    "    currency_counts = df['CREDIT_CURRENCY'].value_counts()\n",
    "    if len(currency_counts) > 1:\n",
    "        # Combine all currencies except 'currency 1' into 'Other'\n",
    "        df['CREDIT_CURRENCY'] = df['CREDIT_CURRENCY'].apply(lambda x: x if x == 'currency 1' else 'Other')\n",
    "\n",
    "    # Clean CREDIT_TYPE - Combine infrequent types into 'Other'\n",
    "    credit_type_counts = df['CREDIT_TYPE'].value_counts()\n",
    "    threshold = 0.05 * len(df)\n",
    "    rare_types = credit_type_counts[credit_type_counts < threshold].index.tolist()\n",
    "\n",
    "    df['CREDIT_TYPE'] = df['CREDIT_TYPE'].apply(lambda x: x if x not in rare_types else 'Other')\n",
    "\n",
    "    return df\n",
    "\n",
    "bureau = clean_categorical_data(bureau)\n",
    "tbl_dis_val = bureau.apply(_count_unique).sort_values(ascending = False)\n",
    "cols_3sigma = tbl_dis_val[tbl_dis_val > 500].index.tolist()\n",
    "cols_3sigma = cols_3sigma[3:]\n",
    "for col in cols_3sigma:\n",
    "    bureau[col] = _zoom_3sigma(col, bureau, bureau)\n",
    "del cols_3sigma, tbl_dis_val"
   ]
  },
  {
   "cell_type": "code",
   "execution_count": 204,
   "metadata": {
    "execution": {
     "iopub.execute_input": "2024-12-10T16:05:21.577954Z",
     "iopub.status.busy": "2024-12-10T16:05:21.577578Z",
     "iopub.status.idle": "2024-12-10T16:05:25.204557Z",
     "shell.execute_reply": "2024-12-10T16:05:25.203250Z",
     "shell.execute_reply.started": "2024-12-10T16:05:21.577921Z"
    },
    "id": "C_Kd4Lu-t1JB",
    "trusted": true
   },
   "outputs": [],
   "source": [
    "bureau = bureau.drop(columns=['CREDIT_CURRENCY','index'], errors='ignore')\n",
    "bureau.loc[bureau['AMT_CREDIT_SUM_LIMIT']<0,'AMT_CREDIT_SUM_LIMIT'] = -bureau['AMT_CREDIT_SUM_LIMIT']*100\n",
    "#Binarizer 1 la co, 0 la tach\n",
    "bureau['bureau_credit_active_binary'] = (bureau['DAYS_ENDDATE_FACT'] == -1 ).astype(int)\n",
    "bureau['bureau_credit_enddate_binary'] = (bureau['DAYS_CREDIT_ENDDATE'] < 0).astype(int)\n",
    "# number of bureau loans\n",
    "cnt_bureau = bureau[[\"SK_ID_CURR\", \"SK_ID_BUREAU\"]].groupby([\"SK_ID_CURR\"], as_index = False).count()\n",
    "cnt_bureau.columns = [\"SK_ID_CURR\", \"CNT_BUREAU_LOANS\"]\n",
    "bureau = bureau.merge(cnt_bureau, how = \"left\", on = \"SK_ID_CURR\")\n",
    "del cnt_bureau\n",
    "# amount ratios\n",
    "bureau[\"AMT_SUM_OVERDUE_RATIO_1\"] = bureau[\"AMT_CREDIT_SUM_OVERDUE\"] /(1+ bureau[\"AMT_ANNUITY\"])\n",
    "bureau[\"AMT_SUM_OVERDUE_RATIO_2\"] = bureau[\"AMT_CREDIT_SUM_OVERDUE\"] /(1 + bureau[\"AMT_CREDIT_SUM\"])\n",
    "bureau[\"AMT_MAX_OVERDUE_RATIO_1\"] = bureau[\"AMT_CREDIT_MAX_OVERDUE\"] /(1+ bureau[\"AMT_ANNUITY\"])\n",
    "bureau[\"AMT_MAX_OVERDUE_RATIO_2\"] = bureau[\"AMT_CREDIT_MAX_OVERDUE\"] /(1+ bureau[\"AMT_CREDIT_SUM\"])\n",
    "bureau['AMT_CREDIT_DEBT_RATE'] = bureau['AMT_CREDIT_SUM_DEBT']/(1 + bureau['AMT_CREDIT_SUM'])\n",
    "bureau[\"AMT_SUM_DEBT_RATIO\"]    = bureau[\"AMT_CREDIT_SUM_DEBT\"] /(1 +bureau[\"AMT_CREDIT_SUM_LIMIT\"])\n",
    "\n",
    "#Lệch phải, vẽ ra sẽ thấy, pp\n",
    "log_vars = [\"AMT_CREDIT_SUM\", \"AMT_CREDIT_SUM_DEBT\", \"AMT_CREDIT_SUM_LIMIT\", \"AMT_CREDIT_SUM_OVERDUE\", \"AMT_ANNUITY\"]\n",
    "bureau = create_transforms(bureau, log_vars, replace = True)\n",
    "\n",
    "# recency-weighted loan score\n",
    "bureau[\"WEIGHTED_LOAN_SCORE\"] = bureau[\"LOAN_SCORE\"] / ((1+ bureau[\"DAYS_CREDIT\"]) / 12)\n",
    "\n",
    "# day differences\n",
    "bureau[\"DAYS_END_DIFF_1\"] = bureau[\"DAYS_ENDDATE_FACT\"]   - bureau[\"DAYS_CREDIT_ENDDATE\"]\n",
    "bureau[\"DAYS_END_DIFF_2\"] = bureau[\"DAYS_CREDIT_UPDATE\"]  - bureau[\"DAYS_CREDIT_ENDDATE\"]\n",
    "bureau[\"DAYS_DURATION_1\"] = bureau[\"DAYS_CREDIT_ENDDATE\"] - bureau[\"DAYS_CREDIT\"]\n",
    "bureau[\"DAYS_DURATION_2\"] = bureau[\"DAYS_ENDDATE_FACT\"]   - bureau[\"DAYS_CREDIT\"]\n",
    "\n",
    "# number of active buro loans\n",
    "cnt_bureau = bureau[[\"SK_ID_CURR\", \"CREDIT_ACTIVE\"]]\n",
    "cnt_bureau.columns = [\"SK_ID_CURR\", \"CNT_BUREAU_ACTIVE\"]\n",
    "cnt_bureau = cnt_bureau[cnt_bureau[\"CNT_BUREAU_ACTIVE\"] == \"Active\"]\n",
    "cnt_bureau = cnt_bureau[[\"SK_ID_CURR\", \"CNT_BUREAU_ACTIVE\"]].groupby([\"SK_ID_CURR\"], as_index = False).count()\n",
    "bureau = bureau.merge(cnt_bureau, how = \"left\", on = \"SK_ID_CURR\")\n",
    "bureau.fillna({\"CNT_BUREAU_ACTIVE\": 0}, inplace=True)\n",
    "# number of closed buro loans\n",
    "cnt_bureau = bureau[[\"SK_ID_CURR\", \"CREDIT_ACTIVE\"]]\n",
    "cnt_bureau.columns = [\"SK_ID_CURR\", \"CNT_BUREAU_CLOSED\"]\n",
    "cnt_bureau = cnt_bureau[cnt_bureau[\"CNT_BUREAU_CLOSED\"] == \"Closed\"]\n",
    "cnt_bureau = cnt_bureau[[\"SK_ID_CURR\", \"CNT_BUREAU_CLOSED\"]].groupby([\"SK_ID_CURR\"], as_index = False).count()\n",
    "bureau = bureau.merge(cnt_bureau, how = \"left\", on = \"SK_ID_CURR\")\n",
    "bureau.fillna({\"CNT_BUREAU_CLOSED\": 0}, inplace=True)\n",
    "# number of defaulted bureau loans\n",
    "cnt_bureau = bureau[[\"SK_ID_CURR\", \"CREDIT_ACTIVE\"]]\n",
    "cnt_bureau.columns = [\"SK_ID_CURR\", \"CNT_BUREAU_BAD\"]\n",
    "cnt_bureau = cnt_bureau[cnt_bureau[\"CNT_BUREAU_BAD\"] == \"Bad debt\"]\n",
    "cnt_bureau = cnt_bureau[[\"SK_ID_CURR\", \"CNT_BUREAU_BAD\"]].groupby([\"SK_ID_CURR\"], as_index = False).count()\n",
    "bureau = bureau.merge(cnt_bureau, how = \"left\", on = \"SK_ID_CURR\")\n",
    "bureau.fillna({\"CNT_BUREAU_BAD\": 0}, inplace=True)\n",
    "del cnt_bureau"
   ]
  },
  {
   "cell_type": "code",
   "execution_count": 205,
   "metadata": {
    "execution": {
     "iopub.execute_input": "2024-12-10T16:05:25.206701Z",
     "iopub.status.busy": "2024-12-10T16:05:25.206157Z",
     "iopub.status.idle": "2024-12-10T16:05:25.213054Z",
     "shell.execute_reply": "2024-12-10T16:05:25.211618Z",
     "shell.execute_reply.started": "2024-12-10T16:05:25.206615Z"
    },
    "id": "JcKkUrLJt1JC",
    "trusted": true
   },
   "outputs": [],
   "source": [
    "# cate_features_bureau = ['CREDIT_ACTIVE', 'CREDIT_TYPE']\n",
    "# col_to_drop_bureau = cate_features_bureau + ['SK_ID_BUREAU', 'SK_ID_CURR']\n",
    "# bureau_columns = bureau.columns\n",
    "# num_feature_bureau = bureau_columns.drop(col_to_drop_bureau)\n",
    "\n",
    "# impute_num_bureau = SimpleImputer(strategy='median')\n",
    "# bureau[num_feature_bureau] = impute_num_bureau.fit_transform(bureau[num_feature_bureau])\n",
    "\n",
    "# impute_cate_bureau = SimpleImputer(strategy='most_frequent')\n",
    "# bureau[cate_features_bureau] = impute_cate_bureau.fit_transform(bureau[cate_features_bureau])"
   ]
  },
  {
   "cell_type": "code",
   "execution_count": 206,
   "metadata": {
    "execution": {
     "iopub.execute_input": "2024-12-10T16:05:25.215664Z",
     "iopub.status.busy": "2024-12-10T16:05:25.215127Z",
     "iopub.status.idle": "2024-12-10T16:05:26.144214Z",
     "shell.execute_reply": "2024-12-10T16:05:26.143129Z",
     "shell.execute_reply.started": "2024-12-10T16:05:25.215593Z"
    },
    "id": "BBJsdJJLt1JC",
    "trusted": true
   },
   "outputs": [],
   "source": [
    "# dummy encodnig for factors\n",
    "bureau = pd.get_dummies(bureau, drop_first = False)\n",
    "exclude_columns = ['SK_ID_CURR', 'SK_ID_BUREAU']\n",
    "# # Lọc ra các cột có unique values >= 2 và không thuộc exclude_columns\n",
    "# columns_to_scale = [\n",
    "#     col for col in bureau.columns\n",
    "#     if col not in exclude_columns and bureau[col].nunique() >= 2\n",
    "# ]\n",
    "# # Áp dụng MinMaxScaler cho các cột được chọn\n",
    "# scaler = MinMaxScaler()\n",
    "# bureau[columns_to_scale] = scaler.fit_transform(bureau[columns_to_scale])\n",
    "# del columns_to_scale, exclude_columns"
   ]
  },
  {
   "cell_type": "code",
   "execution_count": 207,
   "metadata": {
    "execution": {
     "iopub.execute_input": "2024-12-10T16:05:26.146309Z",
     "iopub.status.busy": "2024-12-10T16:05:26.145810Z",
     "iopub.status.idle": "2024-12-10T16:05:33.645956Z",
     "shell.execute_reply": "2024-12-10T16:05:33.644549Z",
     "shell.execute_reply.started": "2024-12-10T16:05:26.146251Z"
    },
    "id": "R3NtN9XRt1JC",
    "outputId": "3db01942-3c52-4ae4-d9fb-77f36010760c",
    "trusted": true
   },
   "outputs": [
    {
     "name": "stdout",
     "output_type": "stream",
     "text": [
      "- Extracted 0 factors and 47 numerics...\n",
      "- Aggregating numeric features...\n",
      "- Final dimensions: (263491, 188)\n"
     ]
    }
   ],
   "source": [
    "# Count previous buro loans\n",
    "cnt_bureau = bureau[[\"SK_ID_CURR\", \"SK_ID_BUREAU\"]].groupby(\"SK_ID_CURR\").count()\n",
    "\n",
    "# Ensure SK_ID_BUREAU is still used for aggregations before deleting\n",
    "# Perform aggregation\n",
    "agg_bureau = aggregate_data(bureau, id_var=\"SK_ID_CURR\", label=\"bureau\")\n",
    "\n",
    "# Add buro loan count to aggregated data\n",
    "agg_bureau[\"buro_BURO_COUNT\"] = cnt_bureau\n",
    "\n",
    "# Clean up unwanted variables\n",
    "omits = [\"WEIGHTED_LOAN_SCORE\"]\n",
    "for var in omits:\n",
    "    std_col = \"bureau_\" + str(var) + \"_std\"\n",
    "    min_col = \"bureau_\" + str(var) + \"_min\"\n",
    "    max_col = \"bureau_\" + str(var) + \"_max\"\n",
    "\n",
    "    if std_col in agg_bureau:\n",
    "        del agg_bureau[std_col]\n",
    "    if min_col in agg_bureau:\n",
    "        del agg_bureau[min_col]\n",
    "    if max_col in agg_bureau:\n",
    "        del agg_bureau[max_col]\n",
    "\n",
    "del cnt_bureau, omits, bureau"
   ]
  },
  {
   "cell_type": "code",
   "execution_count": 208,
   "metadata": {
    "execution": {
     "iopub.execute_input": "2024-12-10T16:05:33.648623Z",
     "iopub.status.busy": "2024-12-10T16:05:33.647819Z",
     "iopub.status.idle": "2024-12-10T16:05:33.653630Z",
     "shell.execute_reply": "2024-12-10T16:05:33.652227Z",
     "shell.execute_reply.started": "2024-12-10T16:05:33.648564Z"
    },
    "id": "REu7jjPMt1JC",
    "trusted": true
   },
   "outputs": [],
   "source": [
    "# agg_bureau.to_csv('agg_bureau_check.csv')"
   ]
  },
  {
   "cell_type": "markdown",
   "metadata": {
    "id": "c_PtvQ5ct1JC"
   },
   "source": [
    "## 4.5. Pos balance"
   ]
  },
  {
   "cell_type": "code",
   "execution_count": 209,
   "metadata": {
    "execution": {
     "iopub.execute_input": "2024-12-10T16:05:33.656238Z",
     "iopub.status.busy": "2024-12-10T16:05:33.655704Z",
     "iopub.status.idle": "2024-12-10T16:05:43.657023Z",
     "shell.execute_reply": "2024-12-10T16:05:43.655815Z",
     "shell.execute_reply.started": "2024-12-10T16:05:33.656185Z"
    },
    "id": "4_ja7jfft1JC",
    "trusted": true
   },
   "outputs": [],
   "source": [
    "# Tạo map để nhóm các trạng thái\n",
    "status_mapping = {\n",
    "    \"Active\": \"Active\",\n",
    "    \"Amortized debt\": \"Active\",\n",
    "    \"Completed\": \"Completed\",\n",
    "    \"Signed\": \"Signed/Approved\",\n",
    "    \"Approved\": \"Signed/Approved\",\n",
    "    \"Demand\": \"Demand\",\n",
    "    \"Returned to the store\": \"Terminated\",\n",
    "    \"Canceled\": \"Terminated\",\n",
    "    \"XNA\": np.nan\n",
    "}\n",
    "# Áp dụng map để nhóm lại trạng thái\n",
    "poca['NAME_CONTRACT_STATUS_GROUPED'] = poca['NAME_CONTRACT_STATUS'].map(status_mapping)\n",
    "poca['NAME_CONTRACT_STATUS'] = poca['NAME_CONTRACT_STATUS_GROUPED']\n",
    "del status_mapping, poca['NAME_CONTRACT_STATUS_GROUPED']\n",
    "\n",
    "# Define the filter condition for the specified contract statuses\n",
    "status_filter = poca['NAME_CONTRACT_STATUS'].isin(['Signed/Approved', 'Terminated'])\n",
    "\n",
    "# Group by 'SK_ID_PREV' and calculate the max values for the specified statuses\n",
    "max_value = poca.groupby('SK_ID_PREV')['CNT_INSTALMENT'].transform('max')\n",
    "\n",
    "# Fill NaN values for 'CNT_INSTALMENT' and 'CNT_INSTALMENT_FUTURE' for the filtered rows\n",
    "poca.loc[status_filter, 'CNT_INSTALMENT'] = poca.loc[status_filter, 'CNT_INSTALMENT'].fillna(max_value)\n",
    "poca.loc[status_filter, 'CNT_INSTALMENT_FUTURE'] = poca.loc[status_filter, 'CNT_INSTALMENT_FUTURE'].fillna(max_value)\n",
    "\n",
    "temp= poca[poca['SK_ID_PREV']==1697740]\n",
    "temp = temp.sort_values(by=['SK_ID_PREV', 'MONTHS_BALANCE'], ascending=[True, False])\n",
    "temp[temp['SK_ID_PREV']==1697740] = poca[poca['SK_ID_PREV']==1697740].fillna(8.0)\n",
    "temp['CNT_INSTALMENT']=8.0\n",
    "temp.loc[5254945, 'NAME_CONTRACT_STATUS'] = 'Signed/Approved'\n",
    "# Identify the column to modify\n",
    "col_name = 'CNT_INSTALMENT_FUTURE'\n",
    "\n",
    "# Get indices of all rows where the column value is 0\n",
    "zero_indices = temp[temp[col_name] == 0].index\n",
    "\n",
    "# Check if there's a non-zero value at the last row\n",
    "if temp[col_name].iloc[-1] != 0:\n",
    "    last_value = temp[col_name].iloc[-1]\n",
    "    # Generate linearly spaced values from last_value to 0 and reverse\n",
    "    linear_values = np.linspace(last_value, 0, len(zero_indices) + 1)[1:][::-1]\n",
    "\n",
    "    # Update the column for rows where the value is 0\n",
    "    temp.loc[zero_indices, col_name] = linear_values\n",
    "poca.update(temp)\n",
    "del temp\n",
    "temp= poca[poca['SK_ID_PREV']==2580175]\n",
    "temp = temp.sort_values(by=['SK_ID_PREV', 'MONTHS_BALANCE'], ascending=[True, False])\n",
    "temp[temp['SK_ID_PREV']==2580175] = poca[poca['SK_ID_PREV']==2580175].fillna(60.0)\n",
    "temp['CNT_INSTALMENT']=60.0\n",
    "temp.loc[1969654, 'NAME_CONTRACT_STATUS'] = 'Signed/Approved'\n",
    "# Identify the column to modify\n",
    "col_name = 'CNT_INSTALMENT_FUTURE'\n",
    "\n",
    "# Get indices of all rows where the column value is 0\n",
    "zero_indices = temp[temp[col_name] == 0].index\n",
    "\n",
    "# Check if there's a non-zero value at the last row\n",
    "if temp[col_name].iloc[-1] != 0:\n",
    "    last_value = temp[col_name].iloc[-1]\n",
    "    # Generate linearly spaced values from last_value to 0 and reverse\n",
    "    linear_values = np.linspace(last_value, 0, len(zero_indices) + 1)[1:][::-1]\n",
    "\n",
    "    # Update the column for rows where the value is 0\n",
    "    temp.loc[zero_indices, col_name] = linear_values\n",
    "poca.update(temp)\n",
    "del temp\n",
    "\n",
    "temp= poca[poca['SK_ID_PREV']==1519880]\n",
    "temp = temp.sort_values(by=['SK_ID_PREV', 'MONTHS_BALANCE'], ascending=[True, False])\n",
    "temp[temp['SK_ID_PREV']==1519880] = temp[temp['SK_ID_PREV']==1519880].fillna(12.0)\n",
    "temp['CNT_INSTALMENT']=12.0\n",
    "temp.loc[1204453, 'NAME_CONTRACT_STATUS'] = 'Signed/Approved'\n",
    "# Identify the column to modify\n",
    "col_name = 'CNT_INSTALMENT_FUTURE'\n",
    "\n",
    "# Get indices of all rows where the column value is 0\n",
    "zero_indices = temp[temp[col_name] == 0].index\n",
    "\n",
    "# Check if there's a non-zero value at the last row\n",
    "if temp[col_name].iloc[-1] != 0:\n",
    "    last_value = temp[col_name].iloc[-1]\n",
    "    # Generate linearly spaced values from last_value to 0 and reverse\n",
    "    linear_values = np.linspace(last_value, 0, len(zero_indices) + 1)[1:][::-1]\n",
    "\n",
    "    # Update the column for rows where the value is 0\n",
    "    temp.loc[zero_indices, col_name] = linear_values\n",
    "poca.update(temp)\n",
    "del temp\n",
    "\n",
    "poca['POCA_PAID_LATE'] = (poca['SK_DPD'] > 0).astype(int)\n",
    "poca['POCA_PAID_LATE_WITH_TOLERANCE'] = (poca['SK_DPD_DEF'] > 0).astype(int)"
   ]
  },
  {
   "cell_type": "code",
   "execution_count": 210,
   "metadata": {
    "execution": {
     "iopub.execute_input": "2024-12-10T16:05:43.659099Z",
     "iopub.status.busy": "2024-12-10T16:05:43.658611Z",
     "iopub.status.idle": "2024-12-10T16:05:43.665120Z",
     "shell.execute_reply": "2024-12-10T16:05:43.663708Z",
     "shell.execute_reply.started": "2024-12-10T16:05:43.659059Z"
    },
    "id": "iKhunCUVt1JC",
    "trusted": true
   },
   "outputs": [],
   "source": [
    "# cate_features_pos_cash = ['NAME_CONTRACT_STATUS','NAME_CONTRACT_STATUS_GROUPED']\n",
    "# col_to_drop_pos_cash = cate_features_pos_cash + ['SK_ID_PREV', 'SK_ID_CURR']\n",
    "# pos_cash_columns = poca.columns\n",
    "# num_feature_pos_cash = pos_cash_columns.drop(col_to_drop_pos_cash)\n",
    "\n",
    "# impute_num_pos_cash = SimpleImputer(strategy='median')\n",
    "# poca[num_feature_pos_cash] = impute_num_pos_cash.fit_transform(poca[num_feature_pos_cash])\n",
    "\n",
    "# impute_cate_pos_cash = SimpleImputer(strategy='most_frequent')\n",
    "# poca[cate_features_pos_cash] = impute_cate_pos_cash.fit_transform(poca[cate_features_pos_cash])"
   ]
  },
  {
   "cell_type": "code",
   "execution_count": 211,
   "metadata": {
    "execution": {
     "iopub.execute_input": "2024-12-10T16:05:43.667254Z",
     "iopub.status.busy": "2024-12-10T16:05:43.666756Z",
     "iopub.status.idle": "2024-12-10T16:05:45.454881Z",
     "shell.execute_reply": "2024-12-10T16:05:45.452987Z",
     "shell.execute_reply.started": "2024-12-10T16:05:43.667202Z"
    },
    "id": "wqP86U13t1JD",
    "trusted": true
   },
   "outputs": [],
   "source": [
    "# 1 hot encodnig for factors\n",
    "poca = pd.get_dummies(poca, drop_first = False)"
   ]
  },
  {
   "cell_type": "code",
   "execution_count": 212,
   "metadata": {
    "execution": {
     "iopub.execute_input": "2024-12-10T16:05:45.457076Z",
     "iopub.status.busy": "2024-12-10T16:05:45.456482Z",
     "iopub.status.idle": "2024-12-10T16:06:02.176158Z",
     "shell.execute_reply": "2024-12-10T16:06:02.175032Z",
     "shell.execute_reply.started": "2024-12-10T16:05:45.456923Z"
    },
    "id": "_t7b5E04t1JD",
    "outputId": "14f18e54-f3c1-49d7-8b76-8eb8698144f6",
    "trusted": true
   },
   "outputs": [
    {
     "name": "stdout",
     "output_type": "stream",
     "text": [
      "- Extracted 0 factors and 11 numerics...\n",
      "- Aggregating numeric features...\n",
      "- Final dimensions: (800337, 44)\n",
      "- Extracted 0 factors and 45 numerics...\n",
      "- Aggregating numeric features...\n",
      "- Final dimensions: (289444, 180)\n"
     ]
    }
   ],
   "source": [
    "### AGGREGATIONS\n",
    "# count months\n",
    "cnt_mon = poca[[\"SK_ID_PREV\", \"MONTHS_BALANCE\"]].groupby(\"SK_ID_PREV\").count()\n",
    "del poca[\"MONTHS_BALANCE\"]\n",
    "# delete ID_CURR\n",
    "poca_id = poca[[\"SK_ID_CURR\", \"SK_ID_PREV\"]]\n",
    "del poca[\"SK_ID_CURR\"]\n",
    "# aggregate data\n",
    "agg_poca = aggregate_data(poca, id_var = \"SK_ID_PREV\")\n",
    "del poca\n",
    "# add month count\n",
    "agg_poca[\"poca_MON_COUNT\"] = cnt_mon\n",
    "# put back ID_CURR\n",
    "poca_id = poca_id.drop_duplicates()\n",
    "agg_poca = poca_id.merge(right = agg_poca.reset_index(), how = \"right\", on = \"SK_ID_PREV\")\n",
    "del agg_poca[\"SK_ID_PREV\"], poca_id\n",
    "# aggregate data (round 2)\n",
    "agg_poca = aggregate_data(agg_poca, id_var = \"SK_ID_CURR\", label = \"poca\")"
   ]
  },
  {
   "cell_type": "code",
   "execution_count": 213,
   "metadata": {
    "execution": {
     "iopub.execute_input": "2024-12-10T16:06:02.178642Z",
     "iopub.status.busy": "2024-12-10T16:06:02.178111Z",
     "iopub.status.idle": "2024-12-10T16:06:02.185164Z",
     "shell.execute_reply": "2024-12-10T16:06:02.183653Z",
     "shell.execute_reply.started": "2024-12-10T16:06:02.178588Z"
    },
    "id": "hOAvfg5At1JD",
    "trusted": true
   },
   "outputs": [],
   "source": [
    "# exclude_columns = ['SK_ID_CURR']\n",
    "# # Lọc ra các cột có unique values >= 2 và không thuộc exclude_columns\n",
    "# columns_to_scale = [\n",
    "#     col for col in agg_poca.columns\n",
    "#     if col not in exclude_columns and agg_poca[col].nunique() >= 2\n",
    "# ]\n",
    "# # Áp dụng MinMaxScaler cho các cột được chọn\n",
    "# scaler = MinMaxScaler()\n",
    "# agg_poca[columns_to_scale] = scaler.fit_transform(agg_poca[columns_to_scale])\n"
   ]
  },
  {
   "cell_type": "code",
   "execution_count": 214,
   "metadata": {
    "execution": {
     "iopub.execute_input": "2024-12-10T16:06:02.187191Z",
     "iopub.status.busy": "2024-12-10T16:06:02.186843Z",
     "iopub.status.idle": "2024-12-10T16:06:02.201902Z",
     "shell.execute_reply": "2024-12-10T16:06:02.200734Z",
     "shell.execute_reply.started": "2024-12-10T16:06:02.187160Z"
    },
    "id": "1pnxFlg4t1JD",
    "trusted": true
   },
   "outputs": [],
   "source": [
    "# agg_poca.to_csv('agg_poca_check.csv')"
   ]
  },
  {
   "cell_type": "markdown",
   "metadata": {
    "id": "LUsFib7Lt1JD"
   },
   "source": [
    "## 4.6. Installments balance"
   ]
  },
  {
   "cell_type": "code",
   "execution_count": 215,
   "metadata": {
    "execution": {
     "iopub.execute_input": "2024-12-10T16:06:02.204308Z",
     "iopub.status.busy": "2024-12-10T16:06:02.203922Z",
     "iopub.status.idle": "2024-12-10T16:06:25.466337Z",
     "shell.execute_reply": "2024-12-10T16:06:25.465026Z",
     "shell.execute_reply.started": "2024-12-10T16:06:02.204274Z"
    },
    "id": "Yhlz1e1lt1JD",
    "trusted": true
   },
   "outputs": [],
   "source": [
    "inst.drop(index=7744757, inplace=True)\n",
    "inst = convert_days_past(inst, ['DAYS_ENTRY_PAYMENT','DAYS_INSTALMENT'], t=1, rounding=True, replace=True, time = '')\n",
    "#K có và chưa trả -> fill -1\n",
    "inst['DAYS_ENTRY_PAYMENT'] = inst['DAYS_ENTRY_PAYMENT'].fillna(-1)\n",
    "inst['AMT_PAYMENT'] = inst['AMT_PAYMENT'].fillna(-1)\n",
    "tbl_dis_val = inst.apply(_count_unique).sort_values(ascending = False)\n",
    "cols_3sigma = tbl_dis_val[tbl_dis_val > 500].index.tolist()\n",
    "cols_to_select = ['AMT_PAYMENT', 'AMT_INSTALMENT', 'DAYS_ENTRY_PAYMENT', 'DAYS_INSTALMENT', 'NUM_INSTALMENT_NUMBER']\n",
    "cols_3sigma = [col for col in cols_3sigma if col in cols_to_select]\n",
    "for col in cols_3sigma:\n",
    "    inst[col] = _zoom_3sigma(col, inst, inst)\n",
    "del tbl_dis_val, cols_3sigma, cols_to_select"
   ]
  },
  {
   "cell_type": "code",
   "execution_count": 216,
   "metadata": {
    "execution": {
     "iopub.execute_input": "2024-12-10T16:06:25.468484Z",
     "iopub.status.busy": "2024-12-10T16:06:25.467992Z",
     "iopub.status.idle": "2024-12-10T16:06:25.474967Z",
     "shell.execute_reply": "2024-12-10T16:06:25.473381Z",
     "shell.execute_reply.started": "2024-12-10T16:06:25.468432Z"
    },
    "id": "m2HaJD1lt1JE",
    "trusted": true
   },
   "outputs": [],
   "source": [
    "# col_to_drop_installments = ['SK_ID_PREV', 'SK_ID_CURR']\n",
    "# installments_columns = inst.columns\n",
    "# num_feature_installments = installments_columns.drop(col_to_drop_installments)\n",
    "\n",
    "# impute_num_installments = SimpleImputer(strategy='median')\n",
    "# inst[num_feature_installments] = impute_num_installments.fit_transform(inst[num_feature_installments])"
   ]
  },
  {
   "cell_type": "code",
   "execution_count": 217,
   "metadata": {
    "execution": {
     "iopub.execute_input": "2024-12-10T16:06:25.476830Z",
     "iopub.status.busy": "2024-12-10T16:06:25.476415Z",
     "iopub.status.idle": "2024-12-10T16:06:44.792427Z",
     "shell.execute_reply": "2024-12-10T16:06:44.791125Z",
     "shell.execute_reply.started": "2024-12-10T16:06:25.476792Z"
    },
    "id": "LzfAQHE8t1JE",
    "outputId": "9be1a4d0-ebe6-463e-dca7-2f60e8c5c49c",
    "trusted": true
   },
   "outputs": [
    {
     "name": "stdout",
     "output_type": "stream",
     "text": [
      "- Extracted 0 factors and 11 numerics...\n",
      "- Aggregating numeric features...\n",
      "- Final dimensions: (549020, 44)\n",
      "- Extracted 0 factors and 46 numerics...\n",
      "- Aggregating numeric features...\n",
      "- Final dimensions: (180733, 184)\n"
     ]
    }
   ],
   "source": [
    "# days past due and days before due (no negative values)\n",
    "inst['DPD'] = inst['DAYS_ENTRY_PAYMENT'] - inst['DAYS_INSTALMENT']\n",
    "inst['DBD'] = inst['DAYS_INSTALMENT'] - inst['DAYS_ENTRY_PAYMENT']\n",
    "inst['DPD'] = inst['DPD'].apply(lambda x: x if x > 0 else 0)\n",
    "inst['DBD'] = inst['DBD'].apply(lambda x: x if x > 0 else 0)\n",
    "\n",
    "# logarithms\n",
    "inst = create_transforms(inst, [\"AMT_INSTALMENT\", \"AMT_PAYMENT\"],transform_type='log', replace = True)\n",
    "\n",
    "# percentage and difference paid in each installment\n",
    "inst['DAYS_PAYMENT_RATIO'] = inst['DAYS_INSTALMENT'] / (inst['DAYS_ENTRY_PAYMENT'] + 0.00001)\n",
    "inst['DAYS_PAYMENT_DIFF'] = inst['DAYS_INSTALMENT'] - inst['DAYS_ENTRY_PAYMENT']\n",
    "inst['PAYMENT_PERC'] = inst['AMT_PAYMENT'] / (inst['DAYS_ENTRY_PAYMENT'] + 0.00001)\n",
    "inst['PAYMENT_DIFF'] = inst['AMT_INSTALMENT'] - inst['AMT_PAYMENT']\n",
    "\n",
    "### AGGREGATIONS\n",
    "# count instalments\n",
    "cnt_inst = inst[[\"SK_ID_PREV\", \"NUM_INSTALMENT_NUMBER\"]].groupby(\"SK_ID_PREV\").count()\n",
    "del inst[\"NUM_INSTALMENT_NUMBER\"]\n",
    "inst_temp = inst[inst.DAYS_ENTRY_PAYMENT >= 365]\n",
    "late_payment_feature = inst_temp.groupby('SK_ID_CURR')[['DAYS_PAYMENT_DIFF']].max()\n",
    "\n",
    "# delete ID_CURR\n",
    "inst_id = inst[[\"SK_ID_CURR\", \"SK_ID_PREV\"]]\n",
    "del inst[\"SK_ID_CURR\"], inst_temp\n",
    "\n",
    "# aggregate data\n",
    "agg_inst = aggregate_data(inst, id_var = \"SK_ID_PREV\")\n",
    "# add instalment count\n",
    "agg_inst[\"inst_INST_COUNT\"] = cnt_inst\n",
    "agg_inst[\"inst_late_payment_MAX\"] = late_payment_feature\n",
    "\n",
    "# put back ID_CURR\n",
    "inst_id = inst_id.drop_duplicates()\n",
    "agg_inst = inst_id.merge(right = agg_inst.reset_index(), how = \"right\", on = \"SK_ID_PREV\")\n",
    "del agg_inst[\"SK_ID_PREV\"], late_payment_feature, inst_id\n",
    "\n",
    "# aggregate data (round 2)\n",
    "agg_inst = aggregate_data(agg_inst, id_var = \"SK_ID_CURR\", label = \"inst\")"
   ]
  },
  {
   "cell_type": "code",
   "execution_count": 218,
   "metadata": {
    "execution": {
     "iopub.execute_input": "2024-12-10T16:06:44.794439Z",
     "iopub.status.busy": "2024-12-10T16:06:44.794039Z",
     "iopub.status.idle": "2024-12-10T16:06:44.800193Z",
     "shell.execute_reply": "2024-12-10T16:06:44.798596Z",
     "shell.execute_reply.started": "2024-12-10T16:06:44.794402Z"
    },
    "id": "kZF_JGlEt1JE",
    "trusted": true
   },
   "outputs": [],
   "source": [
    "# exclude_columns = ['SK_ID_CURR']\n",
    "# # Lọc ra các cột có unique values >= 2 và không thuộc exclude_columns\n",
    "# columns_to_scale = [\n",
    "#     col for col in agg_inst.columns\n",
    "#     if col not in exclude_columns and agg_inst[col].nunique() >= 2\n",
    "# ]\n",
    "# scaler = MinMaxScaler()\n",
    "# agg_inst[columns_to_scale] = scaler.fit_transform(agg_inst[columns_to_scale])"
   ]
  },
  {
   "cell_type": "code",
   "execution_count": 219,
   "metadata": {
    "execution": {
     "iopub.execute_input": "2024-12-10T16:06:44.802158Z",
     "iopub.status.busy": "2024-12-10T16:06:44.801759Z",
     "iopub.status.idle": "2024-12-10T16:06:44.822059Z",
     "shell.execute_reply": "2024-12-10T16:06:44.820470Z",
     "shell.execute_reply.started": "2024-12-10T16:06:44.802120Z"
    },
    "id": "gw5mDLnct1JG",
    "trusted": true
   },
   "outputs": [],
   "source": [
    "# agg_inst.to_csv('agg_inst_check.csv')"
   ]
  },
  {
   "cell_type": "markdown",
   "metadata": {
    "id": "s-q1ouRWt1JG"
   },
   "source": [
    "## 4.7. Credit card balance"
   ]
  },
  {
   "cell_type": "code",
   "execution_count": 220,
   "metadata": {
    "execution": {
     "iopub.execute_input": "2024-12-10T16:06:44.824695Z",
     "iopub.status.busy": "2024-12-10T16:06:44.824106Z",
     "iopub.status.idle": "2024-12-10T16:07:39.215391Z",
     "shell.execute_reply": "2024-12-10T16:07:39.213747Z",
     "shell.execute_reply.started": "2024-12-10T16:06:44.824607Z"
    },
    "id": "ED12UTv_t1JG",
    "trusted": true
   },
   "outputs": [],
   "source": [
    "# Step 2: Sort by SK_ID_PREV and MONTHS_BALANCE in descending order\n",
    "card_sorted = card.sort_values(by=['SK_ID_PREV', 'MONTHS_BALANCE'], ascending=[True, False])\n",
    "# Fill AMT_INST_MIN_REGULARITY with -1 for NaN values\n",
    "card_sorted['AMT_INST_MIN_REGULARITY'] = card_sorted['AMT_INST_MIN_REGULARITY'].fillna(-1)\n",
    "# Step 3: Forward fill CNT_INSTALMENT_MATURE_CUM within each SK_ID_PREV group\n",
    "card_sorted['CNT_INSTALMENT_MATURE_CUM'] = card_sorted.groupby('SK_ID_PREV')['CNT_INSTALMENT_MATURE_CUM'].ffill()\n",
    "# Update the original 'card' DataFrame with the updated 'card_sorted' DataFrame\n",
    "card.update(card_sorted)\n",
    "del card_sorted\n",
    "\n",
    "# 1. Fill missing values in Drawing columns with 0 when AMT_CURRENT is 0\n",
    "card.loc[card['AMT_DRAWINGS_ATM_CURRENT'].isna() & (card['AMT_DRAWINGS_CURRENT'] == 0), 'AMT_DRAWINGS_ATM_CURRENT'] = 0\n",
    "card.loc[card['AMT_DRAWINGS_OTHER_CURRENT'].isna() & (card['AMT_DRAWINGS_CURRENT'] == 0), 'AMT_DRAWINGS_OTHER_CURRENT'] = 0\n",
    "card.loc[card['AMT_DRAWINGS_POS_CURRENT'].isna() & (card['AMT_DRAWINGS_CURRENT'] == 0), 'AMT_DRAWINGS_POS_CURRENT'] = 0\n",
    "card.loc[card['CNT_DRAWINGS_ATM_CURRENT'].isna() & (card['AMT_DRAWINGS_CURRENT'] == 0), 'CNT_DRAWINGS_ATM_CURRENT'] = 0\n",
    "card.loc[card['CNT_DRAWINGS_OTHER_CURRENT'].isna() & (card['AMT_DRAWINGS_CURRENT'] == 0), 'CNT_DRAWINGS_OTHER_CURRENT'] = 0\n",
    "card.loc[card['CNT_DRAWINGS_POS_CURRENT'].isna() & (card['AMT_DRAWINGS_CURRENT'] == 0), 'CNT_DRAWINGS_POS_CURRENT'] = 0\n",
    "\n",
    "# 2. Fill missing values in Payment columns based on AMT_PAYMENT_TOTAL_CURRENT\n",
    "card.loc[card['AMT_PAYMENT_CURRENT'].isna() & (card['AMT_PAYMENT_TOTAL_CURRENT'] == 0), 'AMT_PAYMENT_CURRENT'] = card['AMT_DRAWINGS_ATM_CURRENT']\n",
    "\n",
    "# Tạo map để nhóm các trạng thái\n",
    "status_mapping = {\n",
    "    \"Active\": \"Active\",\n",
    "    \"Completed\": \"Completed\",\n",
    "    \"Signed\": \"Signed/Approved\",\n",
    "    \"Approved\": \"Signed/Approved\",\n",
    "    \"Demand\": \"Demand\",\n",
    "    \"Refused\": \"Terminated\",\n",
    "    \"Sent proposal\": 'Sent proposal'\n",
    "}\n",
    "# Áp dụng map để nhóm lại trạng thái\n",
    "card['NAME_CONTRACT_STATUS_GROUPED'] = card['NAME_CONTRACT_STATUS'].map(status_mapping)\n",
    "card['NAME_CONTRACT_STATUS'] = card['NAME_CONTRACT_STATUS_GROUPED']\n",
    "del status_mapping, card['NAME_CONTRACT_STATUS_GROUPED']\n",
    "\n",
    "tbl_dis_val = card.apply(_count_unique).sort_values(ascending = False)\n",
    "cols_3sigma = tbl_dis_val[tbl_dis_val > 100].index.tolist()\n",
    "cols_to_exclude = ['SK_ID_PREV','SK_ID_CURR ']\n",
    "cols_3sigma = [col for col in cols_3sigma if col not in cols_to_exclude]\n",
    "# Loại bỏ các outlier bằng 3 sigma\n",
    "for col in cols_3sigma:\n",
    "    card[col] = _zoom_3sigma(col, card, card)\n",
    "del cols_3sigma, tbl_dis_val, cols_to_exclude\n",
    "\n",
    "card.loc[card['AMT_DRAWINGS_ATM_CURRENT'] < 0, 'AMT_DRAWINGS_ATM_CURRENT'] = np.nan\n",
    "card.loc[card['AMT_DRAWINGS_CURRENT'] < 0, 'AMT_DRAWINGS_CURRENT'] = np.nan\n",
    "\n",
    "card['CREDIT_UTILIZATION'] = card['AMT_BALANCE'] / card['AMT_CREDIT_LIMIT_ACTUAL']\n",
    "card['MIN_PAYMENT_VS_DRAWINGS'] = card['AMT_INST_MIN_REGULARITY'] - card['AMT_DRAWINGS_CURRENT']\n",
    "card['PAYMENT_VS_DRAWINGS'] = card['AMT_PAYMENT_TOTAL_CURRENT'] - card['AMT_DRAWINGS_CURRENT']\n",
    "card['PAYMENT_VS_TOTAL_RECEIVABLE'] = card['AMT_PAYMENT_TOTAL_CURRENT'] - card['AMT_TOTAL_RECEIVABLE']\n",
    "card['PAYMENT_VS_BALANCE'] = card['AMT_PAYMENT_TOTAL_CURRENT'] - card['AMT_BALANCE']\n",
    "card['PAYMENT_VS_MIN_INSTALLMENT'] = card['AMT_PAYMENT_TOTAL_CURRENT'] - card['AMT_INST_MIN_REGULARITY']\n",
    "card['OVERDRAFT_AMOUNT'] = card['AMT_DRAWINGS_CURRENT'] - card['AMT_CREDIT_LIMIT_ACTUAL']\n",
    "card['BALANCE_VS_TOTAL_RECEIVABLE'] = card['AMT_BALANCE'] - card['AMT_TOTAL_RECEIVABLE']\n",
    "card['SUM_ALL_AMT_DRAWINGS'] = card[['AMT_DRAWINGS_ATM_CURRENT',\n",
    "                                     'AMT_DRAWINGS_CURRENT',\n",
    "                                     'AMT_DRAWINGS_OTHER_CURRENT',\n",
    "                                     'AMT_DRAWINGS_POS_CURRENT']].sum(axis=1)\n",
    "card['SUM_ALL_CNT_DRAWINGS'] = card[['CNT_DRAWINGS_ATM_CURRENT',\n",
    "                                     'CNT_DRAWINGS_CURRENT',\n",
    "                                     'CNT_DRAWINGS_OTHER_CURRENT',\n",
    "                                     'CNT_DRAWINGS_POS_CURRENT']].sum(axis=1)\n",
    "card['RATIO_ALL_AMT_DRAWINGS_TO_ALL_CNT_DRAWINGS'] = card['SUM_ALL_AMT_DRAWINGS'] / card['SUM_ALL_CNT_DRAWINGS']\n",
    "\n",
    "# logarithms\n",
    "log_vars = [\"AMT_BALANCE\", \"AMT_CREDIT_LIMIT_ACTUAL\", \"AMT_DRAWINGS_ATM_CURRENT\", \"AMT_DRAWINGS_CURRENT\",\n",
    "            \"AMT_DRAWINGS_OTHER_CURRENT\", \"AMT_DRAWINGS_POS_CURRENT\", \"AMT_INST_MIN_REGULARITY\",\n",
    "            \"AMT_PAYMENT_CURRENT\", \"AMT_PAYMENT_TOTAL_CURRENT\", \"AMT_RECEIVABLE_PRINCIPAL\",\n",
    "            \"AMT_RECIVABLE\", \"AMT_TOTAL_RECEIVABLE\"]\n",
    "card = create_transforms(card, log_vars,transform_type='log', replace = True)"
   ]
  },
  {
   "cell_type": "code",
   "execution_count": 221,
   "metadata": {
    "execution": {
     "iopub.execute_input": "2024-12-10T16:07:39.217755Z",
     "iopub.status.busy": "2024-12-10T16:07:39.217324Z",
     "iopub.status.idle": "2024-12-10T16:07:39.224017Z",
     "shell.execute_reply": "2024-12-10T16:07:39.222733Z",
     "shell.execute_reply.started": "2024-12-10T16:07:39.217650Z"
    },
    "id": "xop_1gjit1JG",
    "trusted": true
   },
   "outputs": [],
   "source": [
    "# card.replace([np.inf, -np.inf], np.nan, inplace=True)\n",
    "# cate_features_credit_card = ['NAME_CONTRACT_STATUS','NAME_CONTRACT_STATUS_GROUPED']\n",
    "# col_to_drop_credit_card = cate_features_credit_card + ['SK_ID_PREV', 'SK_ID_CURR']\n",
    "# credit_card_columns = card.columns\n",
    "# num_feature_credit_card = credit_card_columns.drop(col_to_drop_credit_card)\n",
    "\n",
    "# impute_num_credit_card = SimpleImputer(strategy='median')\n",
    "# card[num_feature_credit_card] = impute_num_credit_card.fit_transform(card[num_feature_credit_card])\n",
    "\n",
    "# impute_cate_credit_card = SimpleImputer(strategy='most_frequent')\n",
    "# card[cate_features_credit_card] = impute_cate_credit_card.fit_transform(card[cate_features_credit_card])"
   ]
  },
  {
   "cell_type": "code",
   "execution_count": 222,
   "metadata": {
    "execution": {
     "iopub.execute_input": "2024-12-10T16:07:39.226373Z",
     "iopub.status.busy": "2024-12-10T16:07:39.225804Z",
     "iopub.status.idle": "2024-12-10T16:07:41.959018Z",
     "shell.execute_reply": "2024-12-10T16:07:41.957589Z",
     "shell.execute_reply.started": "2024-12-10T16:07:39.226319Z"
    },
    "id": "xXiPIbc2t1JG",
    "trusted": true
   },
   "outputs": [],
   "source": [
    "# dummy encodnig for factors\n",
    "card = pd.get_dummies(card, drop_first = False)"
   ]
  },
  {
   "cell_type": "code",
   "execution_count": 223,
   "metadata": {
    "execution": {
     "iopub.execute_input": "2024-12-10T16:07:41.962215Z",
     "iopub.status.busy": "2024-12-10T16:07:41.961662Z",
     "iopub.status.idle": "2024-12-10T16:08:16.948892Z",
     "shell.execute_reply": "2024-12-10T16:08:16.947755Z",
     "shell.execute_reply.started": "2024-12-10T16:07:41.962174Z"
    },
    "id": "1RvEHY5lt1JG",
    "outputId": "8792b3c0-8de6-4054-a7b7-83025067ff9b",
    "trusted": true
   },
   "outputs": [
    {
     "name": "stderr",
     "output_type": "stream",
     "text": [
      "C:\\Users\\nn200\\AppData\\Local\\Temp\\ipykernel_12056\\1776817787.py:35: DeprecationWarning: DataFrameGroupBy.apply operated on the grouping columns. This behavior is deprecated, and in a future version of pandas the grouping columns will be excluded from the operation. Either pass `include_groups=False` to exclude the groupings or explicitly select the grouping columns after groupby to silence this warning.\n",
      "  grp = card.groupby('SK_ID_CURR').apply(lambda x: pd.Series(f(x['AMT_INST_MIN_REGULARITY'], x['AMT_PAYMENT_CURRENT']))).reset_index().rename(columns={0: 'PERCENTAGE_MIN_MISSED_PAYMENTS'})\n"
     ]
    }
   ],
   "source": [
    "month = -2\n",
    "cred_temp = card[card.MONTHS_BALANCE >= month]\n",
    "cred_util_feature = cred_temp.groupby('SK_ID_CURR')['CREDIT_UTILIZATION'].max().reset_index().rename(columns={'CREDIT_UTILIZATION':'CREDIT_UTILIZATION'+str(month*-1)})\n",
    "card = card.merge(cred_util_feature, on=['SK_ID_CURR'], how='left')\n",
    "\n",
    "grp = card.groupby(by=['SK_ID_CURR'])['SK_ID_PREV'].agg('nunique').reset_index().rename(index=str, columns={'SK_ID_PREV': 'NUMBER_OF_LOANS'})\n",
    "card = card.merge(grp, on=['SK_ID_CURR'], how='left')\n",
    "\n",
    "grp = card.groupby(by=['SK_ID_CURR'])['SK_ID_PREV'].nunique().reset_index().rename(index=str, columns={'SK_ID_PREV': 'NUMBER_OF_LOANS_PER_CUSTOMER'})\n",
    "card = card.merge(grp, on=['SK_ID_CURR'], how='left')\n",
    "\n",
    "grp = card.groupby(by=['SK_ID_CURR', 'SK_ID_PREV'])['CNT_INSTALMENT_MATURE_CUM'].max().reset_index().rename(index=str, columns={'CNT_INSTALMENT_MATURE_CUM': 'NUMBER_OF_INSTALMENTS'})\n",
    "grp1 = grp.groupby(by=['SK_ID_CURR'])['NUMBER_OF_INSTALMENTS'].sum().reset_index().rename(index=str, columns={'NUMBER_OF_INSTALMENTS': 'TOTAL_INSTALMENTS'})\n",
    "card = card.merge(grp1, on=['SK_ID_CURR'], how='left')\n",
    "\n",
    "card['INSTALLMENTS_PER_LOAN'] = (card['TOTAL_INSTALMENTS'] / card['NUMBER_OF_LOANS_PER_CUSTOMER']).astype('uint32')\n",
    "\n",
    "card['DPD'] = (card['SK_DPD'] > 0).astype(int)\n",
    "grp = card.groupby(['SK_ID_CURR', 'SK_ID_PREV'])['DPD'].sum().reset_index().rename(columns={'DPD': 'NUMBER_OF_DPD'})\n",
    "grp1 = grp.groupby('SK_ID_CURR')['NUMBER_OF_DPD'].mean().reset_index().rename(columns={'NUMBER_OF_DPD': 'DPD_COUNT'})\n",
    "card = card.merge(grp1, on=['SK_ID_CURR'], how='left')\n",
    "del grp1\n",
    "\n",
    "def f(min_pay, total_pay):\n",
    "    M = min_pay.tolist()\n",
    "    T = total_pay.tolist()\n",
    "    P = len(M)\n",
    "# P: number of installments\n",
    "    c = 0\n",
    "    for i in range(len(M)):\n",
    "        if T[i] < M[i]:\n",
    "            c += 1\n",
    "    return (100 * c) / P\n",
    "# Áp dụng hàm f và tạo cột mới\n",
    "grp = card.groupby('SK_ID_CURR').apply(lambda x: pd.Series(f(x['AMT_INST_MIN_REGULARITY'], x['AMT_PAYMENT_CURRENT']))).reset_index().rename(columns={0: 'PERCENTAGE_MIN_MISSED_PAYMENTS'})\n",
    "# Gộp dữ liệu\n",
    "card = card.merge(grp, on='SK_ID_CURR', how='left')\n",
    "\n",
    "grp = card.groupby(by=['SK_ID_CURR'])['AMT_DRAWINGS_ATM_CURRENT'].sum().reset_index().rename(index=str, columns={'AMT_DRAWINGS_ATM_CURRENT': 'DRAWINGS_ATM'})\n",
    "card = card.merge(grp, on=['SK_ID_CURR'], how='left')\n",
    "\n",
    "grp = card.groupby(by=['SK_ID_CURR'])['AMT_DRAWINGS_CURRENT'].sum().reset_index().rename(index=str, columns={'AMT_DRAWINGS_CURRENT': 'DRAWINGS_TOTAL'})\n",
    "card = card.merge(grp, on=['SK_ID_CURR'], how='left')\n",
    "\n",
    "card['CASH_CARD_RATIO'] = (card['DRAWINGS_ATM'] / card['DRAWINGS_TOTAL']) * 100\n",
    "del card['DRAWINGS_ATM']\n",
    "del card['DRAWINGS_TOTAL']\n",
    "\n",
    "grp = card.groupby(by=['SK_ID_CURR'])['AMT_DRAWINGS_CURRENT'].sum().reset_index().rename(index=str, columns={'AMT_DRAWINGS_CURRENT': 'TOTAL_DRAWINGS'})\n",
    "card = card.merge(grp, on=['SK_ID_CURR'], how='left')\n",
    "\n",
    "grp = card.groupby(by=['SK_ID_CURR'])['CNT_DRAWINGS_CURRENT'].sum().reset_index().rename(index=str, columns={'CNT_DRAWINGS_CURRENT': 'NUMBER_OF_DRAWINGS'})\n",
    "card = card.merge(grp, on=['SK_ID_CURR'], how='left')\n",
    "\n",
    "card['DRAWINGS_RATIO'] = (card['TOTAL_DRAWINGS'] / card['NUMBER_OF_DRAWINGS']) * 100\n",
    "del card['TOTAL_DRAWINGS']\n",
    "del card['NUMBER_OF_DRAWINGS']\n",
    "del grp\n",
    "\n",
    "grouped = card.groupby(['SK_ID_CURR', 'SK_ID_PREV', 'AMT_CREDIT_LIMIT_ACTUAL'])[['AMT_BALANCE']].max().reset_index()\n",
    "grouped['CREDIT_CARD_BALANCE_RATIO'] = grouped['AMT_BALANCE'] / grouped['AMT_CREDIT_LIMIT_ACTUAL']\n",
    "card = card.merge(grouped[['SK_ID_CURR', 'SK_ID_PREV', 'AMT_CREDIT_LIMIT_ACTUAL', 'CREDIT_CARD_BALANCE_RATIO']], on=['SK_ID_CURR', 'SK_ID_PREV', 'AMT_CREDIT_LIMIT_ACTUAL'], how='left')\n",
    "del grouped\n",
    "card['INSTALMENTS_PER_LOAN'] = card['TOTAL_INSTALMENTS'] / card['NUMBER_OF_LOANS']"
   ]
  },
  {
   "cell_type": "code",
   "execution_count": 224,
   "metadata": {
    "execution": {
     "iopub.execute_input": "2024-12-10T16:08:16.951515Z",
     "iopub.status.busy": "2024-12-10T16:08:16.950920Z",
     "iopub.status.idle": "2024-12-10T16:08:29.736217Z",
     "shell.execute_reply": "2024-12-10T16:08:29.734987Z",
     "shell.execute_reply.started": "2024-12-10T16:08:16.951455Z"
    },
    "id": "hi7vdF6lt1JH",
    "outputId": "0b712f12-ec20-4248-b89f-cec749c962b0",
    "trusted": true
   },
   "outputs": [
    {
     "name": "stdout",
     "output_type": "stream",
     "text": [
      "- Extracted 0 factors and 48 numerics...\n",
      "- Aggregating numeric features...\n",
      "- Final dimensions: (87452, 192)\n",
      "- Extracted 0 factors and 193 numerics...\n",
      "- Aggregating numeric features...\n",
      "- Final dimensions: (86905, 772)\n"
     ]
    }
   ],
   "source": [
    "cnt_mon = card[[\"SK_ID_PREV\", \"MONTHS_BALANCE\"]].groupby(\"SK_ID_PREV\").count()\n",
    "del card[\"MONTHS_BALANCE\"]\n",
    "\n",
    "# delete ID_CURR\n",
    "card_id = card[[\"SK_ID_CURR\", \"SK_ID_PREV\"]]\n",
    "del card[\"SK_ID_CURR\"]\n",
    "\n",
    "# aggregate data\n",
    "agg_card = aggregate_data(card, id_var = \"SK_ID_PREV\")\n",
    "\n",
    "# add month count\n",
    "agg_card[\"card_MON_COUNT\"] = cnt_mon\n",
    "\n",
    "# put back ID_CURR\n",
    "card_id = card_id.drop_duplicates()\n",
    "agg_card = card_id.merge(right = agg_card.reset_index(), how = \"right\", on = \"SK_ID_PREV\")\n",
    "del agg_card[\"SK_ID_PREV\"]\n",
    "\n",
    "# aggregate data (round 2)\n",
    "agg_card = aggregate_data(agg_card, id_var = \"SK_ID_CURR\", label = \"card\")"
   ]
  },
  {
   "cell_type": "code",
   "execution_count": 225,
   "metadata": {
    "execution": {
     "iopub.execute_input": "2024-12-10T16:08:29.738840Z",
     "iopub.status.busy": "2024-12-10T16:08:29.738333Z",
     "iopub.status.idle": "2024-12-10T16:08:29.744913Z",
     "shell.execute_reply": "2024-12-10T16:08:29.743702Z",
     "shell.execute_reply.started": "2024-12-10T16:08:29.738787Z"
    },
    "id": "XqYQoFHJt1JH",
    "trusted": true
   },
   "outputs": [],
   "source": [
    "# exclude_columns = ['SK_ID_CURR','SK_ID_PREV']\n",
    "# # Lọc ra các cột có unique values >= 2 và không thuộc exclude_columns\n",
    "# columns_to_scale = [\n",
    "#     col for col in agg_card.columns\n",
    "#     if col not in exclude_columns and agg_card[col].nunique() >= 2\n",
    "# ]\n",
    "# agg_card[columns_to_scale] = agg_card[columns_to_scale].replace([np.inf, -np.inf], 0)\n",
    "# # Áp dụng MinMaxScaler cho các cột được chọn\n",
    "# scaler = MinMaxScaler()\n",
    "# agg_card[columns_to_scale] = scaler.fit_transform(agg_card[columns_to_scale])\n",
    "# del exclude_columns"
   ]
  },
  {
   "cell_type": "code",
   "execution_count": 226,
   "metadata": {
    "execution": {
     "iopub.execute_input": "2024-12-10T16:08:29.746750Z",
     "iopub.status.busy": "2024-12-10T16:08:29.746358Z",
     "iopub.status.idle": "2024-12-10T16:08:29.773010Z",
     "shell.execute_reply": "2024-12-10T16:08:29.771931Z",
     "shell.execute_reply.started": "2024-12-10T16:08:29.746715Z"
    },
    "id": "Rn3jqdWCt1JH",
    "trusted": true
   },
   "outputs": [],
   "source": [
    "# agg_card.to_csv('agg_card_check.csv')"
   ]
  },
  {
   "cell_type": "markdown",
   "metadata": {
    "id": "9UbMKwFPt1JH"
   },
   "source": [
    "## 4.4 Application Previous"
   ]
  },
  {
   "cell_type": "code",
   "execution_count": 227,
   "metadata": {
    "execution": {
     "iopub.execute_input": "2024-12-10T16:08:29.774852Z",
     "iopub.status.busy": "2024-12-10T16:08:29.774463Z",
     "iopub.status.idle": "2024-12-10T16:08:31.298189Z",
     "shell.execute_reply": "2024-12-10T16:08:31.295796Z",
     "shell.execute_reply.started": "2024-12-10T16:08:29.774815Z"
    },
    "id": "yosl6OWPt1JH",
    "outputId": "970bffa1-fb4b-46e3-c2fb-0ee809ddf7ce",
    "trusted": true
   },
   "outputs": [
    {
     "name": "stderr",
     "output_type": "stream",
     "text": [
      "C:\\Users\\nn200\\AppData\\Local\\Temp\\ipykernel_12056\\1308930541.py:96: FutureWarning: ChainedAssignmentError: behaviour will change in pandas 3.0!\n",
      "You are setting values through chained assignment. Currently this works in certain cases, but when using Copy-on-Write (which will become the default behaviour in pandas 3.0) this will never work to update the original DataFrame or Series, because the intermediate object on which we are setting values will behave as a copy.\n",
      "A typical example is when you are setting values in a column of a DataFrame, like:\n",
      "\n",
      "df[\"col\"][row_indexer] = value\n",
      "\n",
      "Use `df.loc[row_indexer, \"col\"] = values` instead, to perform the assignment in a single step and ensure this keeps updating the original `df`.\n",
      "\n",
      "See the caveats in the documentation: https://pandas.pydata.org/pandas-docs/stable/user_guide/indexing.html#returning-a-view-versus-a-copy\n",
      "\n",
      "  previous[\"DAY_APPR_PROCESS_START\"][(previous[\"WEEKDAY_APPR_PROCESS_START\"] == \"SATURDAY\") |\n"
     ]
    }
   ],
   "source": [
    "previous.loc[previous['NAME_GOODS_CATEGORY']=='XNA',['AMT_DOWN_PAYMENT','RATE_DOWN_PAYMENT','AMT_GOODS_PRICE']] =-1\n",
    "previous = convert_days_past(previous,['DAYS_FIRST_DUE','DAYS_LAST_DUE_1ST_VERSION','DAYS_LAST_DUE','DAYS_TERMINATION'],t=1,replace = True, time='')\n",
    "previous.loc[previous['NAME_CONTRACT_STATUS']!='Approved',['CNT_PAYMENT', 'AMT_ANNUITY', 'AMT_CREDIT','DAYS_FIRST_DUE','DAYS_LAST_DUE_1ST_VERSION','DAYS_LAST_DUE','DAYS_TERMINATION','NFLAG_INSURED_ON_APPROVAL']] = -1\n",
    "\n",
    "col = ['Other_B', 'Other_A', 'Group of people']\n",
    "previous[\"NAME_TYPE_SUITE\"] = previous[\"NAME_TYPE_SUITE\"].replace(col, 'Other')\n",
    "del col\n",
    "# Tạo mapping để nhóm các mục đích\n",
    "purpose_mapping = {\n",
    "    'Repairs': 'Essential Needs',\n",
    "    'Urgent needs': 'Essential Needs',\n",
    "    'Everyday expenses': 'Essential Needs',\n",
    "    'Medicine': 'Essential Needs',\n",
    "    'Payments on other loans': 'Essential Needs',\n",
    "    'Education': 'Essential Needs',\n",
    "    'Building a house or an annex': 'Housing',\n",
    "    'Buying a home': 'Housing',\n",
    "    'Buying a holiday home / land': 'Housing',\n",
    "    'Gasification / water supply': 'Housing',\n",
    "    'Buying a garage': 'Housing',\n",
    "    'Buying a used car': 'Transportation',\n",
    "    'Buying a new car': 'Transportation',\n",
    "    'Car repairs': 'Transportation',\n",
    "    'Journey': 'Lifestyle',\n",
    "    'Wedding / gift / holiday': 'Lifestyle',\n",
    "    'Hobby': 'Lifestyle',\n",
    "    'Furniture': 'Lifestyle',\n",
    "    'Purchase of electronic equipment': 'Lifestyle',\n",
    "    'Business development': 'Business',\n",
    "    'Money for a third person': 'Business',\n",
    "    'Other': 'Other',\n",
    "    'Refusal to name the goal': 'Other',\n",
    "    'XNA': 'Other',\n",
    "    'XAP': 'Other'\n",
    "}\n",
    "# Áp dụng mapping\n",
    "previous['NAME_CASH_LOAN_PURPOSE'] = previous['NAME_CASH_LOAN_PURPOSE'].map(purpose_mapping)\n",
    "# Mapping for PRODUCT_COMBINATION\n",
    "product_mapping = {\n",
    "    'POS household with interest': 1,\n",
    "    'POS mobile with interest': 1,\n",
    "    'POS industry with interest': 1,\n",
    "    'POS other with interest': 1,\n",
    "    'POS household without interest': 0,\n",
    "    'POS mobile without interest': 0,\n",
    "    'POS industry without interest': 0,\n",
    "    'POS others without interest': 0,\n",
    "    'Cash': 1,\n",
    "    'Cash X-Sell: low': 1,\n",
    "    'Cash X-Sell: middle': 1,\n",
    "    'Cash X-Sell: high': 1,\n",
    "    'Cash Street: low': 1,\n",
    "    'Cash Street: middle': 1,\n",
    "    'Cash Street: high': 1,\n",
    "    'Card Street': 0,\n",
    "    'Card X-Sell': 0\n",
    "}\n",
    "# Assign labels to the 'PRODUCT_COMBINATION_GROUPED' column based on the mapping\n",
    "previous['Binary_interest'] = previous['PRODUCT_COMBINATION'].map(product_mapping)\n",
    "# Mapping for NAME_GOODS_CATEGORY\n",
    "category_mapping = {\n",
    "    'Mobile': 'Electronics',\n",
    "    'Consumer Electronics': 'Electronics',\n",
    "    'Computers': 'Electronics',\n",
    "    'Audio/Video': 'Electronics',\n",
    "    'Furniture': 'Furniture',\n",
    "    'Photo / Cinema Equipment': 'Electronics',\n",
    "    'Construction Materials': 'Construction',\n",
    "    'Clothing and Accessories': 'Apparel',\n",
    "    'Auto Accessories': 'Automotive',\n",
    "    'Jewelry': 'Luxury',\n",
    "    'Homewares': 'Home',\n",
    "    'Medical Supplies': 'Health',\n",
    "    'Vehicles': 'Automotive',\n",
    "    'Sport and Leisure': 'Leisure',\n",
    "    'Other': 'Other',\n",
    "    'Gardening': 'Home',\n",
    "    'Office Appliances': 'Office',\n",
    "    'Tourism': 'Leisure',\n",
    "    'Medicine': 'Health',\n",
    "    'Direct Sales': 'Other',\n",
    "    'Fitness': 'Leisure',\n",
    "    'Additional Service': 'Service',\n",
    "    'Education': 'Education',\n",
    "    'Weapon': 'Other',\n",
    "    'Insurance': 'Other',\n",
    "    'Animals': 'Other',\n",
    "    'XNA': 'Other'\n",
    "}\n",
    "\n",
    "# Group the categories based on the mapping\n",
    "previous['NAME_GOODS_CATEGORY'] = previous['NAME_GOODS_CATEGORY'].map(category_mapping)\n",
    "del purpose_mapping, product_mapping, category_mapping\n",
    "\n",
    "previous[\"DAY_APPR_PROCESS_START\"] = \"Working day\"\n",
    "previous[\"DAY_APPR_PROCESS_START\"][(previous[\"WEEKDAY_APPR_PROCESS_START\"] == \"SATURDAY\") |\n",
    "                               (previous[\"WEEKDAY_APPR_PROCESS_START\"] == \"SUNDAY\")] = \"Weekend\""
   ]
  },
  {
   "cell_type": "code",
   "execution_count": 228,
   "metadata": {
    "execution": {
     "iopub.execute_input": "2024-12-10T16:08:31.300874Z",
     "iopub.status.busy": "2024-12-10T16:08:31.300214Z",
     "iopub.status.idle": "2024-12-10T16:08:46.984750Z",
     "shell.execute_reply": "2024-12-10T16:08:46.983319Z",
     "shell.execute_reply.started": "2024-12-10T16:08:31.300809Z"
    },
    "id": "GVbIF5-et1JH",
    "trusted": true
   },
   "outputs": [],
   "source": [
    "tbl_dis_val = previous.apply(_count_unique).sort_values(ascending = False)\n",
    "cols_3sigma = tbl_dis_val[tbl_dis_val > 500].index.tolist()\n",
    "# Loại bỏ biến key là SK_ID_CURR ra khỏi danh sách:\n",
    "cols_3sigma = cols_3sigma[1:]\n",
    "# Loại bỏ các outlier bằng 3 sigma\n",
    "for col in cols_3sigma:\n",
    "    previous[col] = _zoom_3sigma(col, previous, previous)\n",
    "\n",
    "del tbl_dis_val, cols_3sigma"
   ]
  },
  {
   "cell_type": "code",
   "execution_count": 229,
   "metadata": {
    "execution": {
     "iopub.execute_input": "2024-12-10T16:08:46.987144Z",
     "iopub.status.busy": "2024-12-10T16:08:46.986567Z",
     "iopub.status.idle": "2024-12-10T16:08:47.831472Z",
     "shell.execute_reply": "2024-12-10T16:08:47.829921Z",
     "shell.execute_reply.started": "2024-12-10T16:08:46.987088Z"
    },
    "id": "7fvaIU2tt1JH",
    "outputId": "72ff7fb8-7db9-493d-a7d3-c87474b04af0",
    "trusted": true
   },
   "outputs": [
    {
     "name": "stderr",
     "output_type": "stream",
     "text": [
      "C:\\Users\\nn200\\AppData\\Local\\Temp\\ipykernel_12056\\3306849691.py:1: FutureWarning: A value is trying to be set on a copy of a DataFrame or Series through chained assignment using an inplace method.\n",
      "The behavior will change in pandas 3.0. This inplace method will never work because the intermediate object on which we are setting values always behaves as a copy.\n",
      "\n",
      "For example, when doing 'df[col].method(value, inplace=True)', try using 'df.method({col: value}, inplace=True)' or df[col] = df[col].method(value) instead, to perform the operation inplace on the original object.\n",
      "\n",
      "\n",
      "  previous['DAYS_FIRST_DRAWING'].replace(365243, np.nan, inplace=True)\n",
      "C:\\Users\\nn200\\AppData\\Local\\Temp\\ipykernel_12056\\3306849691.py:2: FutureWarning: A value is trying to be set on a copy of a DataFrame or Series through chained assignment using an inplace method.\n",
      "The behavior will change in pandas 3.0. This inplace method will never work because the intermediate object on which we are setting values always behaves as a copy.\n",
      "\n",
      "For example, when doing 'df[col].method(value, inplace=True)', try using 'df.method({col: value}, inplace=True)' or df[col] = df[col].method(value) instead, to perform the operation inplace on the original object.\n",
      "\n",
      "\n",
      "  previous['DAYS_FIRST_DUE'].replace(365243, np.nan, inplace=True)\n",
      "C:\\Users\\nn200\\AppData\\Local\\Temp\\ipykernel_12056\\3306849691.py:3: FutureWarning: A value is trying to be set on a copy of a DataFrame or Series through chained assignment using an inplace method.\n",
      "The behavior will change in pandas 3.0. This inplace method will never work because the intermediate object on which we are setting values always behaves as a copy.\n",
      "\n",
      "For example, when doing 'df[col].method(value, inplace=True)', try using 'df.method({col: value}, inplace=True)' or df[col] = df[col].method(value) instead, to perform the operation inplace on the original object.\n",
      "\n",
      "\n",
      "  previous['DAYS_LAST_DUE_1ST_VERSION'].replace(365243, np.nan, inplace=True)\n",
      "C:\\Users\\nn200\\AppData\\Local\\Temp\\ipykernel_12056\\3306849691.py:4: FutureWarning: A value is trying to be set on a copy of a DataFrame or Series through chained assignment using an inplace method.\n",
      "The behavior will change in pandas 3.0. This inplace method will never work because the intermediate object on which we are setting values always behaves as a copy.\n",
      "\n",
      "For example, when doing 'df[col].method(value, inplace=True)', try using 'df.method({col: value}, inplace=True)' or df[col] = df[col].method(value) instead, to perform the operation inplace on the original object.\n",
      "\n",
      "\n",
      "  previous['DAYS_LAST_DUE'].replace(365243, np.nan, inplace=True)\n",
      "C:\\Users\\nn200\\AppData\\Local\\Temp\\ipykernel_12056\\3306849691.py:5: FutureWarning: A value is trying to be set on a copy of a DataFrame or Series through chained assignment using an inplace method.\n",
      "The behavior will change in pandas 3.0. This inplace method will never work because the intermediate object on which we are setting values always behaves as a copy.\n",
      "\n",
      "For example, when doing 'df[col].method(value, inplace=True)', try using 'df.method({col: value}, inplace=True)' or df[col] = df[col].method(value) instead, to perform the operation inplace on the original object.\n",
      "\n",
      "\n",
      "  previous['DAYS_TERMINATION'].replace(365243, np.nan, inplace=True)\n",
      "C:\\Users\\nn200\\AppData\\Local\\Temp\\ipykernel_12056\\3306849691.py:7: FutureWarning: A value is trying to be set on a copy of a DataFrame or Series through chained assignment using an inplace method.\n",
      "The behavior will change in pandas 3.0. This inplace method will never work because the intermediate object on which we are setting values always behaves as a copy.\n",
      "\n",
      "For example, when doing 'df[col].method(value, inplace=True)', try using 'df.method({col: value}, inplace=True)' or df[col] = df[col].method(value) instead, to perform the operation inplace on the original object.\n",
      "\n",
      "\n",
      "  previous['NAME_SELLER_INDUSTRY'].replace('XNA', 0, inplace=True)\n",
      "C:\\Users\\nn200\\AppData\\Local\\Temp\\ipykernel_12056\\3306849691.py:8: FutureWarning: A value is trying to be set on a copy of a DataFrame or Series through chained assignment using an inplace method.\n",
      "The behavior will change in pandas 3.0. This inplace method will never work because the intermediate object on which we are setting values always behaves as a copy.\n",
      "\n",
      "For example, when doing 'df[col].method(value, inplace=True)', try using 'df.method({col: value}, inplace=True)' or df[col] = df[col].method(value) instead, to perform the operation inplace on the original object.\n",
      "\n",
      "\n",
      "  previous['NAME_YIELD_GROUP'].replace('XNA', 'XNA', inplace=True)\n",
      "C:\\Users\\nn200\\AppData\\Local\\Temp\\ipykernel_12056\\3306849691.py:9: FutureWarning: A value is trying to be set on a copy of a DataFrame or Series through chained assignment using an inplace method.\n",
      "The behavior will change in pandas 3.0. This inplace method will never work because the intermediate object on which we are setting values always behaves as a copy.\n",
      "\n",
      "For example, when doing 'df[col].method(value, inplace=True)', try using 'df.method({col: value}, inplace=True)' or df[col] = df[col].method(value) instead, to perform the operation inplace on the original object.\n",
      "\n",
      "\n",
      "  previous['NAME_CONTRACT_TYPE'].replace('XNA', 0, inplace=True)\n",
      "C:\\Users\\nn200\\AppData\\Local\\Temp\\ipykernel_12056\\3306849691.py:10: FutureWarning: A value is trying to be set on a copy of a DataFrame or Series through chained assignment using an inplace method.\n",
      "The behavior will change in pandas 3.0. This inplace method will never work because the intermediate object on which we are setting values always behaves as a copy.\n",
      "\n",
      "For example, when doing 'df[col].method(value, inplace=True)', try using 'df.method({col: value}, inplace=True)' or df[col] = df[col].method(value) instead, to perform the operation inplace on the original object.\n",
      "\n",
      "\n",
      "  previous['NAME_PORTFOLIO'].replace('XNA', 0, inplace=True)\n",
      "C:\\Users\\nn200\\AppData\\Local\\Temp\\ipykernel_12056\\3306849691.py:11: FutureWarning: A value is trying to be set on a copy of a DataFrame or Series through chained assignment using an inplace method.\n",
      "The behavior will change in pandas 3.0. This inplace method will never work because the intermediate object on which we are setting values always behaves as a copy.\n",
      "\n",
      "For example, when doing 'df[col].method(value, inplace=True)', try using 'df.method({col: value}, inplace=True)' or df[col] = df[col].method(value) instead, to perform the operation inplace on the original object.\n",
      "\n",
      "\n",
      "  previous['NAME_CLIENT_TYPE'].replace(\"XNA\", 0, inplace=True)\n",
      "C:\\Users\\nn200\\AppData\\Local\\Temp\\ipykernel_12056\\3306849691.py:12: FutureWarning: A value is trying to be set on a copy of a DataFrame or Series through chained assignment using an inplace method.\n",
      "The behavior will change in pandas 3.0. This inplace method will never work because the intermediate object on which we are setting values always behaves as a copy.\n",
      "\n",
      "For example, when doing 'df[col].method(value, inplace=True)', try using 'df.method({col: value}, inplace=True)' or df[col] = df[col].method(value) instead, to perform the operation inplace on the original object.\n",
      "\n",
      "\n",
      "  previous['NAME_PAYMENT_TYPE'].replace('XNA', 0, inplace=True)\n",
      "C:\\Users\\nn200\\AppData\\Local\\Temp\\ipykernel_12056\\3306849691.py:13: FutureWarning: A value is trying to be set on a copy of a DataFrame or Series through chained assignment using an inplace method.\n",
      "The behavior will change in pandas 3.0. This inplace method will never work because the intermediate object on which we are setting values always behaves as a copy.\n",
      "\n",
      "For example, when doing 'df[col].method(value, inplace=True)', try using 'df.method({col: value}, inplace=True)' or df[col] = df[col].method(value) instead, to perform the operation inplace on the original object.\n",
      "\n",
      "\n",
      "  previous['CODE_REJECT_REASON'].replace('XAP', 0, inplace=True)\n"
     ]
    }
   ],
   "source": [
    "previous['DAYS_FIRST_DRAWING'].replace(365243, np.nan, inplace=True)\n",
    "previous['DAYS_FIRST_DUE'].replace(365243, np.nan, inplace=True)\n",
    "previous['DAYS_LAST_DUE_1ST_VERSION'].replace(365243, np.nan, inplace=True)\n",
    "previous['DAYS_LAST_DUE'].replace(365243, np.nan, inplace=True)\n",
    "previous['DAYS_TERMINATION'].replace(365243, np.nan, inplace=True)\n",
    "\n",
    "previous['NAME_SELLER_INDUSTRY'].replace('XNA', 0, inplace=True)\n",
    "previous['NAME_YIELD_GROUP'].replace('XNA', 'XNA', inplace=True)\n",
    "previous['NAME_CONTRACT_TYPE'].replace('XNA', 0, inplace=True)\n",
    "previous['NAME_PORTFOLIO'].replace('XNA', 0, inplace=True)\n",
    "previous['NAME_CLIENT_TYPE'].replace(\"XNA\", 0, inplace=True)\n",
    "previous['NAME_PAYMENT_TYPE'].replace('XNA', 0, inplace=True)\n",
    "previous['CODE_REJECT_REASON'].replace('XAP', 0, inplace=True)"
   ]
  },
  {
   "cell_type": "code",
   "execution_count": 230,
   "metadata": {
    "execution": {
     "iopub.execute_input": "2024-12-10T16:08:47.833597Z",
     "iopub.status.busy": "2024-12-10T16:08:47.833179Z",
     "iopub.status.idle": "2024-12-10T16:08:47.841150Z",
     "shell.execute_reply": "2024-12-10T16:08:47.839100Z",
     "shell.execute_reply.started": "2024-12-10T16:08:47.833557Z"
    },
    "id": "2rWIARjkt1JH",
    "trusted": true
   },
   "outputs": [],
   "source": [
    "# cate_features_previous_application = ['NAME_CONTRACT_TYPE', 'WEEKDAY_APPR_PROCESS_START', 'FLAG_LAST_APPL_PER_CONTRACT',\n",
    "#                                       'NAME_CASH_LOAN_PURPOSE', 'NAME_CONTRACT_STATUS', 'NAME_PAYMENT_TYPE',\n",
    "#                                       'CODE_REJECT_REASON', 'NAME_TYPE_SUITE', 'NAME_CLIENT_TYPE', 'NAME_GOODS_CATEGORY',\n",
    "#                                       'NAME_PORTFOLIO', 'NAME_PRODUCT_TYPE', 'CHANNEL_TYPE', 'NAME_SELLER_INDUSTRY',\n",
    "#                                       'NAME_YIELD_GROUP', 'PRODUCT_COMBINATION',\"DAY_APPR_PROCESS_START\"]\n",
    "# col_to_drop_previous_application = cate_features_previous_application + ['SK_ID_PREV', 'SK_ID_CURR']\n",
    "# previous_application_columns = previous.columns\n",
    "# num_feature_previous_application = previous_application_columns.drop(col_to_drop_previous_application)\n",
    "\n",
    "# impute_num_previous_application = SimpleImputer(strategy='median')\n",
    "# previous[num_feature_previous_application] = impute_num_previous_application.fit_transform(previous[num_feature_previous_application])\n",
    "\n",
    "# impute_cate_previous_application = SimpleImputer(strategy='most_frequent')\n",
    "# previous[cate_features_previous_application] = impute_cate_previous_application.fit_transform(previous[cate_features_previous_application])"
   ]
  },
  {
   "cell_type": "code",
   "execution_count": 231,
   "metadata": {
    "execution": {
     "iopub.execute_input": "2024-12-10T16:08:47.843815Z",
     "iopub.status.busy": "2024-12-10T16:08:47.843326Z",
     "iopub.status.idle": "2024-12-10T16:08:58.533685Z",
     "shell.execute_reply": "2024-12-10T16:08:58.532643Z",
     "shell.execute_reply.started": "2024-12-10T16:08:47.843770Z"
    },
    "id": "nof77scot1JH",
    "outputId": "51786c24-a0b0-4690-dd15-b751a28e8681",
    "trusted": true
   },
   "outputs": [
    {
     "name": "stderr",
     "output_type": "stream",
     "text": [
      "C:\\Users\\nn200\\AppData\\Local\\Temp\\ipykernel_12056\\1616796320.py:48: FutureWarning: ChainedAssignmentError: behaviour will change in pandas 3.0!\n",
      "You are setting values through chained assignment. Currently this works in certain cases, but when using Copy-on-Write (which will become the default behaviour in pandas 3.0) this will never work to update the original DataFrame or Series, because the intermediate object on which we are setting values will behave as a copy.\n",
      "A typical example is when you are setting values in a column of a DataFrame, like:\n",
      "\n",
      "df[\"col\"][row_indexer] = value\n",
      "\n",
      "Use `df.loc[row_indexer, \"col\"] = values` instead, to perform the assignment in a single step and ensure this keeps updating the original `df`.\n",
      "\n",
      "See the caveats in the documentation: https://pandas.pydata.org/pandas-docs/stable/user_guide/indexing.html#returning-a-view-versus-a-copy\n",
      "\n",
      "  previous[\"DAY_APPR_PROCESS_START\"][(previous[\"WEEKDAY_APPR_PROCESS_START\"] == \"SATURDAY\") |\n"
     ]
    }
   ],
   "source": [
    "### FEATURE ENGINEERING\n",
    "\n",
    "# amount ratios\n",
    "previous['INTEREST'] = previous['CNT_PAYMENT']*previous['AMT_ANNUITY'] - previous['AMT_CREDIT']\n",
    "previous['INTEREST_RATE'] = 2*12*previous['INTEREST']/(previous['AMT_CREDIT']*(previous['CNT_PAYMENT']+1))\n",
    "previous['INTEREST_SHARE'] = previous['INTEREST']/previous['AMT_CREDIT']\n",
    "previous[\"AMT_GIVEN_RATIO_1\"]  = previous[\"AMT_CREDIT\"] / previous[\"AMT_APPLICATION\"]\n",
    "previous[\"AMT_GIVEN_RATIO_2\"]  = previous[\"AMT_GOODS_PRICE\"] / previous[\"AMT_APPLICATION\"]\n",
    "previous[\"DOWN_PAYMENT_RATIO\"] = previous[\"AMT_DOWN_PAYMENT\"] / previous[\"AMT_APPLICATION\"]\n",
    "previous[\"AMT_GIVEN_RATIO_1\"],previous[\"AMT_GIVEN_RATIO_2\"],previous[\"DOWN_PAYMENT_RATIO\"]\n",
    "# logarithms\n",
    "log_vars = [\"AMT_CREDIT\", \"AMT_ANNUITY\", \"AMT_APPLICATION\", \"AMT_DOWN_PAYMENT\", \"AMT_GOODS_PRICE\"]\n",
    "previous = create_transforms(previous, log_vars, transform_type='log', replace=True)\n",
    "del log_vars\n",
    "# convert days\n",
    "day_vars = [\"DAYS_FIRST_DRAWING\", \"DAYS_FIRST_DUE\", \"DAYS_LAST_DUE_1ST_VERSION\",\n",
    "            \"DAYS_LAST_DUE\", \"DAYS_TERMINATION\", \"DAYS_DECISION\"]\n",
    "previous = convert_days_past(previous, day_vars, t = 1, rounding = False, replace = True)\n",
    "del day_vars\n",
    "# number of applications\n",
    "cnt_prev = previous[[\"SK_ID_CURR\", \"SK_ID_PREV\"]].groupby([\"SK_ID_CURR\"], as_index = False).count()\n",
    "cnt_prev.columns = [\"SK_ID_CURR\", \"CNT_PREV_APPLICATIONS\"]\n",
    "previous = previous.merge(cnt_prev, how = \"left\", on = \"SK_ID_CURR\")\n",
    "\n",
    "# number of contracts\n",
    "cnt_prev = previous[[\"SK_ID_CURR\", \"FLAG_LAST_APPL_PER_CONTRACT\"]]\n",
    "cnt_prev.columns = [\"SK_ID_CURR\", \"CNT_PREV_CONTRACTS\"]\n",
    "cnt_prev = cnt_prev[cnt_prev[\"CNT_PREV_CONTRACTS\"] == \"Y\"]\n",
    "cnt_prev = cnt_prev[[\"SK_ID_CURR\", \"CNT_PREV_CONTRACTS\"]].groupby([\"SK_ID_CURR\"], as_index = False).count()\n",
    "previous = previous.merge(cnt_prev, how = \"left\", on = \"SK_ID_CURR\")\n",
    "\n",
    "# number ratio\n",
    "previous[\"APPL_PER_CONTRACT_RATIO\"] = previous[\"CNT_PREV_APPLICATIONS\"] / previous[\"CNT_PREV_CONTRACTS\"]\n",
    "\n",
    "# loan decision ratios\n",
    "previous = compute_accept_reject_ratio(previous, lags = [1, 3, 5])\n",
    "\n",
    "# day differences\n",
    "previous[\"DAYS_DUE_DIFF_1\"] = previous[\"DAYS_LAST_DUE_1ST_VERSION\"] - previous[\"DAYS_FIRST_DUE\"]\n",
    "previous[\"DAYS_DUE_DIFF_2\"] = previous[\"DAYS_LAST_DUE\"] - previous[\"DAYS_FIRST_DUE\"]\n",
    "previous[\"DAYS_TERMINATION_DIFF_1\"] = previous[\"DAYS_TERMINATION\"] - previous[\"DAYS_FIRST_DRAWING\"]\n",
    "previous[\"DAYS_TERMINATION_DIFF_2\"] = previous[\"DAYS_TERMINATION\"] - previous[\"DAYS_FIRST_DUE\"]\n",
    "previous[\"DAYS_TERMINATION_DIFF_3\"] = previous[\"DAYS_TERMINATION\"] - previous[\"DAYS_LAST_DUE\"]\n",
    "previous[\"DAYS_DECISION\"] = [1 if abs(i/(12*30)) <=1 else 0 for i in previous.DAYS_DECISION]\n",
    "\n",
    "# application dates\n",
    "previous[\"DAY_APPR_PROCESS_START\"] = \"Working day\"\n",
    "previous[\"DAY_APPR_PROCESS_START\"][(previous[\"WEEKDAY_APPR_PROCESS_START\"] == \"SATURDAY\") |\n",
    "                               (previous[\"WEEKDAY_APPR_PROCESS_START\"] == \"SUNDAY\")] = \"Weekend\"\n",
    "\n",
    "\n",
    "##### FEATURE REMOVAL\n",
    "drops = [\"NAME_CLIENT_TYPE\", \"SK_ID_PREV\",'SELLERPLACE_AREA','RATE_INTEREST_PRIMARY', 'RATE_INTEREST_PRIVILEGED']\n",
    "previous = previous.drop(columns = drops)"
   ]
  },
  {
   "cell_type": "code",
   "execution_count": 232,
   "metadata": {
    "execution": {
     "iopub.execute_input": "2024-12-10T16:08:58.535394Z",
     "iopub.status.busy": "2024-12-10T16:08:58.535060Z",
     "iopub.status.idle": "2024-12-10T16:09:14.021166Z",
     "shell.execute_reply": "2024-12-10T16:09:14.020056Z",
     "shell.execute_reply.started": "2024-12-10T16:08:58.535363Z"
    },
    "id": "48suL2HCt1JI",
    "trusted": true
   },
   "outputs": [],
   "source": [
    "NAME_YIELD_GROUP_1 = ['XNA', 'low_action', 'low_normal', 'middle', 'high']\n",
    "ordinal_encoder_previous_application = OrdinalEncoder(categories=[NAME_YIELD_GROUP_1])\n",
    "previous['NAME_YIELD_GROUP'] = ordinal_encoder_previous_application.fit_transform(previous[['NAME_YIELD_GROUP']])\n",
    "previous = encode_categorical_features(previous)\n",
    "exclude_columns = ['SK_ID_CURR', 'SK_ID_PREV']"
   ]
  },
  {
   "cell_type": "code",
   "execution_count": 233,
   "metadata": {
    "execution": {
     "iopub.execute_input": "2024-12-10T16:09:14.023250Z",
     "iopub.status.busy": "2024-12-10T16:09:14.022735Z",
     "iopub.status.idle": "2024-12-10T16:09:40.321207Z",
     "shell.execute_reply": "2024-12-10T16:09:40.318919Z",
     "shell.execute_reply.started": "2024-12-10T16:09:14.023195Z"
    },
    "id": "fG7Q4enzt1JI",
    "outputId": "6f49c391-c3d5-4f8c-8ced-75bac611c722",
    "trusted": true
   },
   "outputs": [
    {
     "name": "stdout",
     "output_type": "stream",
     "text": [
      "- Extracted 0 factors and 136 numerics...\n",
      "- Aggregating numeric features...\n",
      "- Final dimensions: (291057, 544)\n"
     ]
    }
   ],
   "source": [
    "### AGGREGATIONS\n",
    "# aggregate data\n",
    "agg_prev = aggregate_data(previous, id_var = \"SK_ID_CURR\", label = \"prev\")\n",
    "\n",
    "# clean up\n",
    "omits = [\"APPROVE_RATIO_1\", \"APPROVE_RATIO_3\", \"APPROVE_RATIO_5\",\n",
    "         \"REJECT_RATIO_1\", \"REJECT_RATIO_3\",  \"REJECT_RATIO_5\",\n",
    "         \"FLAG_LAST_APPL_PER_CONTRACT_Y\", \"CNT_PREV_CONTRACTS\", \"CNT_PREV_APPLICATIONS\",\n",
    "         \"APPL_PER_CONTRACT_RATIO\"]"
   ]
  },
  {
   "cell_type": "code",
   "execution_count": 234,
   "metadata": {
    "execution": {
     "iopub.execute_input": "2024-12-10T16:09:40.323078Z",
     "iopub.status.busy": "2024-12-10T16:09:40.322690Z",
     "iopub.status.idle": "2024-12-10T16:09:40.332161Z",
     "shell.execute_reply": "2024-12-10T16:09:40.330798Z",
     "shell.execute_reply.started": "2024-12-10T16:09:40.323041Z"
    },
    "id": "s7E3VDtMt1JI",
    "trusted": true
   },
   "outputs": [],
   "source": [
    "del previous"
   ]
  },
  {
   "cell_type": "code",
   "execution_count": 235,
   "metadata": {
    "execution": {
     "iopub.execute_input": "2024-12-10T16:09:40.334267Z",
     "iopub.status.busy": "2024-12-10T16:09:40.333808Z",
     "iopub.status.idle": "2024-12-10T16:09:40.347190Z",
     "shell.execute_reply": "2024-12-10T16:09:40.345789Z",
     "shell.execute_reply.started": "2024-12-10T16:09:40.334218Z"
    },
    "id": "55QhT9Bst1JI",
    "trusted": true
   },
   "outputs": [],
   "source": [
    "# agg_prev.to_csv('agg_prev_check.csv')"
   ]
  },
  {
   "cell_type": "markdown",
   "metadata": {
    "id": "3DyKSo3Gt1JI"
   },
   "source": [
    "# 5. Modeling"
   ]
  },
  {
   "cell_type": "code",
   "execution_count": 236,
   "metadata": {
    "_kg_hide-output": true,
    "execution": {
     "iopub.execute_input": "2024-12-10T16:09:40.349484Z",
     "iopub.status.busy": "2024-12-10T16:09:40.348967Z",
     "iopub.status.idle": "2024-12-10T16:09:51.837987Z",
     "shell.execute_reply": "2024-12-10T16:09:51.836643Z",
     "shell.execute_reply.started": "2024-12-10T16:09:40.349429Z"
    },
    "id": "1qvJwMiat1JI",
    "trusted": true
   },
   "outputs": [],
   "source": [
    "# merge data\n",
    "train = train.merge(right =agg_bureau.reset_index(), how = \"left\", on = \"SK_ID_CURR\")\n",
    "test = test.merge(right =agg_bureau.reset_index(), how = \"left\", on = \"SK_ID_CURR\")\n",
    "del agg_bureau\n",
    "train = train.merge(right = agg_prev.reset_index(), how = \"left\", on = \"SK_ID_CURR\")\n",
    "test = test.merge(right = agg_prev.reset_index(), how = \"left\", on = \"SK_ID_CURR\")\n",
    "del agg_prev\n",
    "train = train.merge(right = agg_inst.reset_index(), how = \"left\", on = \"SK_ID_CURR\")\n",
    "test = test.merge(right = agg_inst.reset_index(), how = \"left\", on = \"SK_ID_CURR\")\n",
    "del agg_inst\n"
   ]
  },
  {
   "cell_type": "code",
   "execution_count": 237,
   "metadata": {
    "execution": {
     "iopub.execute_input": "2024-12-10T16:09:51.840015Z",
     "iopub.status.busy": "2024-12-10T16:09:51.839587Z",
     "iopub.status.idle": "2024-12-10T16:10:04.423924Z",
     "shell.execute_reply": "2024-12-10T16:10:04.422253Z",
     "shell.execute_reply.started": "2024-12-10T16:09:51.839977Z"
    },
    "id": "JFfhUzzkt1JI",
    "outputId": "7edb855f-bce2-4fb2-8a77-9fe0d41cc2ba",
    "trusted": true
   },
   "outputs": [
    {
     "name": "stdout",
     "output_type": "stream",
     "text": [
      "(246009, 1996)\n",
      "(61502, 1991)\n"
     ]
    }
   ],
   "source": [
    "train = train.merge(right=agg_poca.reset_index(), how=\"left\", on=\"SK_ID_CURR\", suffixes=(\"\", \"_agg_poca\"))\n",
    "test = test.merge(right=agg_poca.reset_index(), how=\"left\", on=\"SK_ID_CURR\", suffixes=(\"\", \"_agg_poca\"))\n",
    "del agg_poca\n",
    "train = train.merge(right = agg_card.reset_index(), how = \"left\", on = \"SK_ID_CURR\",suffixes=(\"\", \"_agg_card\"))\n",
    "test = test.merge(right = agg_card.reset_index(), how = \"left\", on = \"SK_ID_CURR\",suffixes=(\"\", \"_agg_card\"))\n",
    "print(train.shape)\n",
    "print(test.shape)\n",
    "del agg_card"
   ]
  },
  {
   "cell_type": "code",
   "execution_count": 238,
   "metadata": {
    "execution": {
     "iopub.execute_input": "2024-12-10T16:10:04.426561Z",
     "iopub.status.busy": "2024-12-10T16:10:04.426029Z",
     "iopub.status.idle": "2024-12-10T16:10:06.291954Z",
     "shell.execute_reply": "2024-12-10T16:10:06.290664Z",
     "shell.execute_reply.started": "2024-12-10T16:10:04.426506Z"
    },
    "id": "-stzoTXAt1JI",
    "outputId": "00e89066-4f1f-4a7c-b0db-f7c17035c510",
    "trusted": true
   },
   "outputs": [
    {
     "name": "stdout",
     "output_type": "stream",
     "text": [
      "(246009, 1939)\n",
      "(61502, 1939)\n"
     ]
    }
   ],
   "source": [
    "common_columns = train.columns.intersection(test.columns)\n",
    "train = train.loc[:, common_columns]\n",
    "test =test.loc[:, common_columns]\n",
    "print(train.shape)\n",
    "print(test.shape)"
   ]
  },
  {
   "cell_type": "code",
   "execution_count": 239,
   "metadata": {
    "execution": {
     "iopub.execute_input": "2024-12-10T16:10:06.294108Z",
     "iopub.status.busy": "2024-12-10T16:10:06.293740Z",
     "iopub.status.idle": "2024-12-10T16:10:06.299905Z",
     "shell.execute_reply": "2024-12-10T16:10:06.298695Z",
     "shell.execute_reply.started": "2024-12-10T16:10:06.294067Z"
    },
    "id": "H9p_nRgJt1JI",
    "trusted": true
   },
   "outputs": [],
   "source": [
    "X = train\n",
    "y = y['TARGET']\n",
    "del train"
   ]
  },
  {
   "cell_type": "code",
   "execution_count": 240,
   "metadata": {
    "execution": {
     "iopub.execute_input": "2024-12-10T16:10:06.302164Z",
     "iopub.status.busy": "2024-12-10T16:10:06.301614Z"
    },
    "id": "IBna62hxt1JI",
    "outputId": "2707259d-a3d3-4891-a2ef-bf25a9e42f11",
    "trusted": true
   },
   "outputs": [
    {
     "name": "stderr",
     "output_type": "stream",
     "text": [
      "C:\\Users\\nn200\\AppData\\Local\\Temp\\ipykernel_12056\\3313750208.py:15: FutureWarning: A value is trying to be set on a copy of a DataFrame or Series through chained assignment using an inplace method.\n",
      "The behavior will change in pandas 3.0. This inplace method will never work because the intermediate object on which we are setting values always behaves as a copy.\n",
      "\n",
      "For example, when doing 'df[col].method(value, inplace=True)', try using 'df.method({col: value}, inplace=True)' or df[col] = df[col].method(value) instead, to perform the operation inplace on the original object.\n",
      "\n",
      "\n",
      "  X[col].fillna(X[col].mode()[0], inplace=True)\n",
      "C:\\Users\\nn200\\AppData\\Local\\Temp\\ipykernel_12056\\3313750208.py:15: FutureWarning: Downcasting object dtype arrays on .fillna, .ffill, .bfill is deprecated and will change in a future version. Call result.infer_objects(copy=False) instead. To opt-in to the future behavior, set `pd.set_option('future.no_silent_downcasting', True)`\n",
      "  X[col].fillna(X[col].mode()[0], inplace=True)\n",
      "C:\\Users\\nn200\\AppData\\Local\\Temp\\ipykernel_12056\\3313750208.py:19: FutureWarning: A value is trying to be set on a copy of a DataFrame or Series through chained assignment using an inplace method.\n",
      "The behavior will change in pandas 3.0. This inplace method will never work because the intermediate object on which we are setting values always behaves as a copy.\n",
      "\n",
      "For example, when doing 'df[col].method(value, inplace=True)', try using 'df.method({col: value}, inplace=True)' or df[col] = df[col].method(value) instead, to perform the operation inplace on the original object.\n",
      "\n",
      "\n",
      "  X[col].fillna(X[col].mean(), inplace=True)\n"
     ]
    }
   ],
   "source": [
    "from sklearn.linear_model import LogisticRegression\n",
    "from sklearn.preprocessing import OneHotEncoder, StandardScaler\n",
    "from sklearn.model_selection import train_test_split\n",
    "from sklearn.tree import DecisionTreeClassifier\n",
    "from sklearn.feature_selection import SelectFromModel\n",
    "from sklearn.pipeline import Pipeline\n",
    "from sklearn.compose import ColumnTransformer\n",
    "\n",
    "X.replace([np.inf, -np.inf], np.nan, inplace=True)\n",
    "\n",
    "numerical_cols = X.select_dtypes(include='number').columns\n",
    "categorical_cols = X.select_dtypes(include='object').columns\n",
    "\n",
    "for col in X.select_dtypes('object').columns:\n",
    "    X[col].fillna(X[col].mode()[0], inplace=True)\n",
    "\n",
    "# fill missing values with mean for numerical columns\n",
    "for col in X.select_dtypes('number').columns:\n",
    "    X[col].fillna(X[col].mean(), inplace=True)\n",
    "\n",
    "columns_to_drop = check_missing_value_col(X, 0)['feature'].tolist()\n",
    "X.drop(columns=columns_to_drop, inplace=True)\n",
    "\n",
    "x_trn, x_val, y_trn, y_val = train_test_split(X, y, test_size=0.2, random_state=42)\n",
    "clf = DecisionTreeClassifier(max_depth=16, random_state=8)\n",
    "clf.fit(x_trn, y_trn)\n",
    "y_pred = clf.predict(x_val)"
   ]
  },
  {
   "cell_type": "code",
   "execution_count": 241,
   "metadata": {
    "id": "SBfr6drYt1JJ",
    "outputId": "017b15ec-5cee-4d57-a9d3-e9fe3ef0eb33",
    "trusted": true
   },
   "outputs": [
    {
     "name": "stdout",
     "output_type": "stream",
     "text": [
      "816\n"
     ]
    },
    {
     "data": {
      "text/plain": [
       "(246009, 816)"
      ]
     },
     "execution_count": 241,
     "metadata": {},
     "output_type": "execute_result"
    }
   ],
   "source": [
    "importances = clf.feature_importances_\n",
    "threshold = 0\n",
    "selected_features = X.columns[importances > threshold]\n",
    "print(len(selected_features))\n",
    "X = X[selected_features]\n",
    "len(X.columns)\n",
    "X.shape"
   ]
  },
  {
   "cell_type": "code",
   "execution_count": 242,
   "metadata": {
    "id": "IQVs4-mkt1JJ",
    "outputId": "3943dfef-3179-47d9-9e07-e61922146207",
    "trusted": true
   },
   "outputs": [
    {
     "data": {
      "text/html": [
       "<style>#sk-container-id-3 {\n",
       "  /* Definition of color scheme common for light and dark mode */\n",
       "  --sklearn-color-text: black;\n",
       "  --sklearn-color-line: gray;\n",
       "  /* Definition of color scheme for unfitted estimators */\n",
       "  --sklearn-color-unfitted-level-0: #fff5e6;\n",
       "  --sklearn-color-unfitted-level-1: #f6e4d2;\n",
       "  --sklearn-color-unfitted-level-2: #ffe0b3;\n",
       "  --sklearn-color-unfitted-level-3: chocolate;\n",
       "  /* Definition of color scheme for fitted estimators */\n",
       "  --sklearn-color-fitted-level-0: #f0f8ff;\n",
       "  --sklearn-color-fitted-level-1: #d4ebff;\n",
       "  --sklearn-color-fitted-level-2: #b3dbfd;\n",
       "  --sklearn-color-fitted-level-3: cornflowerblue;\n",
       "\n",
       "  /* Specific color for light theme */\n",
       "  --sklearn-color-text-on-default-background: var(--sg-text-color, var(--theme-code-foreground, var(--jp-content-font-color1, black)));\n",
       "  --sklearn-color-background: var(--sg-background-color, var(--theme-background, var(--jp-layout-color0, white)));\n",
       "  --sklearn-color-border-box: var(--sg-text-color, var(--theme-code-foreground, var(--jp-content-font-color1, black)));\n",
       "  --sklearn-color-icon: #696969;\n",
       "\n",
       "  @media (prefers-color-scheme: dark) {\n",
       "    /* Redefinition of color scheme for dark theme */\n",
       "    --sklearn-color-text-on-default-background: var(--sg-text-color, var(--theme-code-foreground, var(--jp-content-font-color1, white)));\n",
       "    --sklearn-color-background: var(--sg-background-color, var(--theme-background, var(--jp-layout-color0, #111)));\n",
       "    --sklearn-color-border-box: var(--sg-text-color, var(--theme-code-foreground, var(--jp-content-font-color1, white)));\n",
       "    --sklearn-color-icon: #878787;\n",
       "  }\n",
       "}\n",
       "\n",
       "#sk-container-id-3 {\n",
       "  color: var(--sklearn-color-text);\n",
       "}\n",
       "\n",
       "#sk-container-id-3 pre {\n",
       "  padding: 0;\n",
       "}\n",
       "\n",
       "#sk-container-id-3 input.sk-hidden--visually {\n",
       "  border: 0;\n",
       "  clip: rect(1px 1px 1px 1px);\n",
       "  clip: rect(1px, 1px, 1px, 1px);\n",
       "  height: 1px;\n",
       "  margin: -1px;\n",
       "  overflow: hidden;\n",
       "  padding: 0;\n",
       "  position: absolute;\n",
       "  width: 1px;\n",
       "}\n",
       "\n",
       "#sk-container-id-3 div.sk-dashed-wrapped {\n",
       "  border: 1px dashed var(--sklearn-color-line);\n",
       "  margin: 0 0.4em 0.5em 0.4em;\n",
       "  box-sizing: border-box;\n",
       "  padding-bottom: 0.4em;\n",
       "  background-color: var(--sklearn-color-background);\n",
       "}\n",
       "\n",
       "#sk-container-id-3 div.sk-container {\n",
       "  /* jupyter's `normalize.less` sets `[hidden] { display: none; }`\n",
       "     but bootstrap.min.css set `[hidden] { display: none !important; }`\n",
       "     so we also need the `!important` here to be able to override the\n",
       "     default hidden behavior on the sphinx rendered scikit-learn.org.\n",
       "     See: https://github.com/scikit-learn/scikit-learn/issues/21755 */\n",
       "  display: inline-block !important;\n",
       "  position: relative;\n",
       "}\n",
       "\n",
       "#sk-container-id-3 div.sk-text-repr-fallback {\n",
       "  display: none;\n",
       "}\n",
       "\n",
       "div.sk-parallel-item,\n",
       "div.sk-serial,\n",
       "div.sk-item {\n",
       "  /* draw centered vertical line to link estimators */\n",
       "  background-image: linear-gradient(var(--sklearn-color-text-on-default-background), var(--sklearn-color-text-on-default-background));\n",
       "  background-size: 2px 100%;\n",
       "  background-repeat: no-repeat;\n",
       "  background-position: center center;\n",
       "}\n",
       "\n",
       "/* Parallel-specific style estimator block */\n",
       "\n",
       "#sk-container-id-3 div.sk-parallel-item::after {\n",
       "  content: \"\";\n",
       "  width: 100%;\n",
       "  border-bottom: 2px solid var(--sklearn-color-text-on-default-background);\n",
       "  flex-grow: 1;\n",
       "}\n",
       "\n",
       "#sk-container-id-3 div.sk-parallel {\n",
       "  display: flex;\n",
       "  align-items: stretch;\n",
       "  justify-content: center;\n",
       "  background-color: var(--sklearn-color-background);\n",
       "  position: relative;\n",
       "}\n",
       "\n",
       "#sk-container-id-3 div.sk-parallel-item {\n",
       "  display: flex;\n",
       "  flex-direction: column;\n",
       "}\n",
       "\n",
       "#sk-container-id-3 div.sk-parallel-item:first-child::after {\n",
       "  align-self: flex-end;\n",
       "  width: 50%;\n",
       "}\n",
       "\n",
       "#sk-container-id-3 div.sk-parallel-item:last-child::after {\n",
       "  align-self: flex-start;\n",
       "  width: 50%;\n",
       "}\n",
       "\n",
       "#sk-container-id-3 div.sk-parallel-item:only-child::after {\n",
       "  width: 0;\n",
       "}\n",
       "\n",
       "/* Serial-specific style estimator block */\n",
       "\n",
       "#sk-container-id-3 div.sk-serial {\n",
       "  display: flex;\n",
       "  flex-direction: column;\n",
       "  align-items: center;\n",
       "  background-color: var(--sklearn-color-background);\n",
       "  padding-right: 1em;\n",
       "  padding-left: 1em;\n",
       "}\n",
       "\n",
       "\n",
       "/* Toggleable style: style used for estimator/Pipeline/ColumnTransformer box that is\n",
       "clickable and can be expanded/collapsed.\n",
       "- Pipeline and ColumnTransformer use this feature and define the default style\n",
       "- Estimators will overwrite some part of the style using the `sk-estimator` class\n",
       "*/\n",
       "\n",
       "/* Pipeline and ColumnTransformer style (default) */\n",
       "\n",
       "#sk-container-id-3 div.sk-toggleable {\n",
       "  /* Default theme specific background. It is overwritten whether we have a\n",
       "  specific estimator or a Pipeline/ColumnTransformer */\n",
       "  background-color: var(--sklearn-color-background);\n",
       "}\n",
       "\n",
       "/* Toggleable label */\n",
       "#sk-container-id-3 label.sk-toggleable__label {\n",
       "  cursor: pointer;\n",
       "  display: block;\n",
       "  width: 100%;\n",
       "  margin-bottom: 0;\n",
       "  padding: 0.5em;\n",
       "  box-sizing: border-box;\n",
       "  text-align: center;\n",
       "}\n",
       "\n",
       "#sk-container-id-3 label.sk-toggleable__label-arrow:before {\n",
       "  /* Arrow on the left of the label */\n",
       "  content: \"▸\";\n",
       "  float: left;\n",
       "  margin-right: 0.25em;\n",
       "  color: var(--sklearn-color-icon);\n",
       "}\n",
       "\n",
       "#sk-container-id-3 label.sk-toggleable__label-arrow:hover:before {\n",
       "  color: var(--sklearn-color-text);\n",
       "}\n",
       "\n",
       "/* Toggleable content - dropdown */\n",
       "\n",
       "#sk-container-id-3 div.sk-toggleable__content {\n",
       "  max-height: 0;\n",
       "  max-width: 0;\n",
       "  overflow: hidden;\n",
       "  text-align: left;\n",
       "  /* unfitted */\n",
       "  background-color: var(--sklearn-color-unfitted-level-0);\n",
       "}\n",
       "\n",
       "#sk-container-id-3 div.sk-toggleable__content.fitted {\n",
       "  /* fitted */\n",
       "  background-color: var(--sklearn-color-fitted-level-0);\n",
       "}\n",
       "\n",
       "#sk-container-id-3 div.sk-toggleable__content pre {\n",
       "  margin: 0.2em;\n",
       "  border-radius: 0.25em;\n",
       "  color: var(--sklearn-color-text);\n",
       "  /* unfitted */\n",
       "  background-color: var(--sklearn-color-unfitted-level-0);\n",
       "}\n",
       "\n",
       "#sk-container-id-3 div.sk-toggleable__content.fitted pre {\n",
       "  /* unfitted */\n",
       "  background-color: var(--sklearn-color-fitted-level-0);\n",
       "}\n",
       "\n",
       "#sk-container-id-3 input.sk-toggleable__control:checked~div.sk-toggleable__content {\n",
       "  /* Expand drop-down */\n",
       "  max-height: 200px;\n",
       "  max-width: 100%;\n",
       "  overflow: auto;\n",
       "}\n",
       "\n",
       "#sk-container-id-3 input.sk-toggleable__control:checked~label.sk-toggleable__label-arrow:before {\n",
       "  content: \"▾\";\n",
       "}\n",
       "\n",
       "/* Pipeline/ColumnTransformer-specific style */\n",
       "\n",
       "#sk-container-id-3 div.sk-label input.sk-toggleable__control:checked~label.sk-toggleable__label {\n",
       "  color: var(--sklearn-color-text);\n",
       "  background-color: var(--sklearn-color-unfitted-level-2);\n",
       "}\n",
       "\n",
       "#sk-container-id-3 div.sk-label.fitted input.sk-toggleable__control:checked~label.sk-toggleable__label {\n",
       "  background-color: var(--sklearn-color-fitted-level-2);\n",
       "}\n",
       "\n",
       "/* Estimator-specific style */\n",
       "\n",
       "/* Colorize estimator box */\n",
       "#sk-container-id-3 div.sk-estimator input.sk-toggleable__control:checked~label.sk-toggleable__label {\n",
       "  /* unfitted */\n",
       "  background-color: var(--sklearn-color-unfitted-level-2);\n",
       "}\n",
       "\n",
       "#sk-container-id-3 div.sk-estimator.fitted input.sk-toggleable__control:checked~label.sk-toggleable__label {\n",
       "  /* fitted */\n",
       "  background-color: var(--sklearn-color-fitted-level-2);\n",
       "}\n",
       "\n",
       "#sk-container-id-3 div.sk-label label.sk-toggleable__label,\n",
       "#sk-container-id-3 div.sk-label label {\n",
       "  /* The background is the default theme color */\n",
       "  color: var(--sklearn-color-text-on-default-background);\n",
       "}\n",
       "\n",
       "/* On hover, darken the color of the background */\n",
       "#sk-container-id-3 div.sk-label:hover label.sk-toggleable__label {\n",
       "  color: var(--sklearn-color-text);\n",
       "  background-color: var(--sklearn-color-unfitted-level-2);\n",
       "}\n",
       "\n",
       "/* Label box, darken color on hover, fitted */\n",
       "#sk-container-id-3 div.sk-label.fitted:hover label.sk-toggleable__label.fitted {\n",
       "  color: var(--sklearn-color-text);\n",
       "  background-color: var(--sklearn-color-fitted-level-2);\n",
       "}\n",
       "\n",
       "/* Estimator label */\n",
       "\n",
       "#sk-container-id-3 div.sk-label label {\n",
       "  font-family: monospace;\n",
       "  font-weight: bold;\n",
       "  display: inline-block;\n",
       "  line-height: 1.2em;\n",
       "}\n",
       "\n",
       "#sk-container-id-3 div.sk-label-container {\n",
       "  text-align: center;\n",
       "}\n",
       "\n",
       "/* Estimator-specific */\n",
       "#sk-container-id-3 div.sk-estimator {\n",
       "  font-family: monospace;\n",
       "  border: 1px dotted var(--sklearn-color-border-box);\n",
       "  border-radius: 0.25em;\n",
       "  box-sizing: border-box;\n",
       "  margin-bottom: 0.5em;\n",
       "  /* unfitted */\n",
       "  background-color: var(--sklearn-color-unfitted-level-0);\n",
       "}\n",
       "\n",
       "#sk-container-id-3 div.sk-estimator.fitted {\n",
       "  /* fitted */\n",
       "  background-color: var(--sklearn-color-fitted-level-0);\n",
       "}\n",
       "\n",
       "/* on hover */\n",
       "#sk-container-id-3 div.sk-estimator:hover {\n",
       "  /* unfitted */\n",
       "  background-color: var(--sklearn-color-unfitted-level-2);\n",
       "}\n",
       "\n",
       "#sk-container-id-3 div.sk-estimator.fitted:hover {\n",
       "  /* fitted */\n",
       "  background-color: var(--sklearn-color-fitted-level-2);\n",
       "}\n",
       "\n",
       "/* Specification for estimator info (e.g. \"i\" and \"?\") */\n",
       "\n",
       "/* Common style for \"i\" and \"?\" */\n",
       "\n",
       ".sk-estimator-doc-link,\n",
       "a:link.sk-estimator-doc-link,\n",
       "a:visited.sk-estimator-doc-link {\n",
       "  float: right;\n",
       "  font-size: smaller;\n",
       "  line-height: 1em;\n",
       "  font-family: monospace;\n",
       "  background-color: var(--sklearn-color-background);\n",
       "  border-radius: 1em;\n",
       "  height: 1em;\n",
       "  width: 1em;\n",
       "  text-decoration: none !important;\n",
       "  margin-left: 1ex;\n",
       "  /* unfitted */\n",
       "  border: var(--sklearn-color-unfitted-level-1) 1pt solid;\n",
       "  color: var(--sklearn-color-unfitted-level-1);\n",
       "}\n",
       "\n",
       ".sk-estimator-doc-link.fitted,\n",
       "a:link.sk-estimator-doc-link.fitted,\n",
       "a:visited.sk-estimator-doc-link.fitted {\n",
       "  /* fitted */\n",
       "  border: var(--sklearn-color-fitted-level-1) 1pt solid;\n",
       "  color: var(--sklearn-color-fitted-level-1);\n",
       "}\n",
       "\n",
       "/* On hover */\n",
       "div.sk-estimator:hover .sk-estimator-doc-link:hover,\n",
       ".sk-estimator-doc-link:hover,\n",
       "div.sk-label-container:hover .sk-estimator-doc-link:hover,\n",
       ".sk-estimator-doc-link:hover {\n",
       "  /* unfitted */\n",
       "  background-color: var(--sklearn-color-unfitted-level-3);\n",
       "  color: var(--sklearn-color-background);\n",
       "  text-decoration: none;\n",
       "}\n",
       "\n",
       "div.sk-estimator.fitted:hover .sk-estimator-doc-link.fitted:hover,\n",
       ".sk-estimator-doc-link.fitted:hover,\n",
       "div.sk-label-container:hover .sk-estimator-doc-link.fitted:hover,\n",
       ".sk-estimator-doc-link.fitted:hover {\n",
       "  /* fitted */\n",
       "  background-color: var(--sklearn-color-fitted-level-3);\n",
       "  color: var(--sklearn-color-background);\n",
       "  text-decoration: none;\n",
       "}\n",
       "\n",
       "/* Span, style for the box shown on hovering the info icon */\n",
       ".sk-estimator-doc-link span {\n",
       "  display: none;\n",
       "  z-index: 9999;\n",
       "  position: relative;\n",
       "  font-weight: normal;\n",
       "  right: .2ex;\n",
       "  padding: .5ex;\n",
       "  margin: .5ex;\n",
       "  width: min-content;\n",
       "  min-width: 20ex;\n",
       "  max-width: 50ex;\n",
       "  color: var(--sklearn-color-text);\n",
       "  box-shadow: 2pt 2pt 4pt #999;\n",
       "  /* unfitted */\n",
       "  background: var(--sklearn-color-unfitted-level-0);\n",
       "  border: .5pt solid var(--sklearn-color-unfitted-level-3);\n",
       "}\n",
       "\n",
       ".sk-estimator-doc-link.fitted span {\n",
       "  /* fitted */\n",
       "  background: var(--sklearn-color-fitted-level-0);\n",
       "  border: var(--sklearn-color-fitted-level-3);\n",
       "}\n",
       "\n",
       ".sk-estimator-doc-link:hover span {\n",
       "  display: block;\n",
       "}\n",
       "\n",
       "/* \"?\"-specific style due to the `<a>` HTML tag */\n",
       "\n",
       "#sk-container-id-3 a.estimator_doc_link {\n",
       "  float: right;\n",
       "  font-size: 1rem;\n",
       "  line-height: 1em;\n",
       "  font-family: monospace;\n",
       "  background-color: var(--sklearn-color-background);\n",
       "  border-radius: 1rem;\n",
       "  height: 1rem;\n",
       "  width: 1rem;\n",
       "  text-decoration: none;\n",
       "  /* unfitted */\n",
       "  color: var(--sklearn-color-unfitted-level-1);\n",
       "  border: var(--sklearn-color-unfitted-level-1) 1pt solid;\n",
       "}\n",
       "\n",
       "#sk-container-id-3 a.estimator_doc_link.fitted {\n",
       "  /* fitted */\n",
       "  border: var(--sklearn-color-fitted-level-1) 1pt solid;\n",
       "  color: var(--sklearn-color-fitted-level-1);\n",
       "}\n",
       "\n",
       "/* On hover */\n",
       "#sk-container-id-3 a.estimator_doc_link:hover {\n",
       "  /* unfitted */\n",
       "  background-color: var(--sklearn-color-unfitted-level-3);\n",
       "  color: var(--sklearn-color-background);\n",
       "  text-decoration: none;\n",
       "}\n",
       "\n",
       "#sk-container-id-3 a.estimator_doc_link.fitted:hover {\n",
       "  /* fitted */\n",
       "  background-color: var(--sklearn-color-fitted-level-3);\n",
       "}\n",
       "</style><div id=\"sk-container-id-3\" class=\"sk-top-container\"><div class=\"sk-text-repr-fallback\"><pre>Pipeline(steps=[(&#x27;preprocessor&#x27;,\n",
       "                 ColumnTransformer(transformers=[(&#x27;num&#x27;,\n",
       "                                                  Pipeline(steps=[(&#x27;scaler&#x27;,\n",
       "                                                                   StandardScaler())]),\n",
       "                                                  Index([&#x27;app_CODE_GENDER&#x27;, &#x27;app_FLAG_OWN_CAR&#x27;, &#x27;app_CNT_CHILDREN&#x27;,\n",
       "       &#x27;app_AMT_INCOME_TOTAL&#x27;, &#x27;app_AMT_CREDIT&#x27;, &#x27;app_AMT_ANNUITY&#x27;,\n",
       "       &#x27;app_AMT_GOODS_PRICE&#x27;, &#x27;app_NAME_EDUCATION_TYPE&#x27;,\n",
       "       &#x27;app_REGION_POPULATION_RELATIVE&#x27;, &#x27;app_DAYS_BIRTH&#x27;,\n",
       "       ...\n",
       "       &#x27;card_CASH_...\n",
       "       &#x27;card_PAYMENT_VS_DRAWINGS_max_mean&#x27;,\n",
       "       &#x27;card_BALANCE_VS_TOTAL_RECEIVABLE_mean_max&#x27;,\n",
       "       &#x27;card_AMT_DRAWINGS_ATM_CURRENT_std_max&#x27;,\n",
       "       &#x27;card_NAME_CONTRACT_STATUS_Active_max_std&#x27;],\n",
       "      dtype=&#x27;object&#x27;, length=814)),\n",
       "                                                 (&#x27;cat&#x27;,\n",
       "                                                  Pipeline(steps=[(&#x27;onehot&#x27;,\n",
       "                                                                   OneHotEncoder(handle_unknown=&#x27;ignore&#x27;))]),\n",
       "                                                  Index([], dtype=&#x27;object&#x27;))])),\n",
       "                (&#x27;classifier&#x27;,\n",
       "                 LogisticRegression(max_iter=2000, random_state=42))])</pre><b>In a Jupyter environment, please rerun this cell to show the HTML representation or trust the notebook. <br />On GitHub, the HTML representation is unable to render, please try loading this page with nbviewer.org.</b></div><div class=\"sk-container\" hidden><div class=\"sk-item sk-dashed-wrapped\"><div class=\"sk-label-container\"><div class=\"sk-label fitted sk-toggleable\"><input class=\"sk-toggleable__control sk-hidden--visually\" id=\"sk-estimator-id-15\" type=\"checkbox\" ><label for=\"sk-estimator-id-15\" class=\"sk-toggleable__label fitted sk-toggleable__label-arrow fitted\">&nbsp;&nbsp;Pipeline<a class=\"sk-estimator-doc-link fitted\" rel=\"noreferrer\" target=\"_blank\" href=\"https://scikit-learn.org/1.5/modules/generated/sklearn.pipeline.Pipeline.html\">?<span>Documentation for Pipeline</span></a><span class=\"sk-estimator-doc-link fitted\">i<span>Fitted</span></span></label><div class=\"sk-toggleable__content fitted\"><pre>Pipeline(steps=[(&#x27;preprocessor&#x27;,\n",
       "                 ColumnTransformer(transformers=[(&#x27;num&#x27;,\n",
       "                                                  Pipeline(steps=[(&#x27;scaler&#x27;,\n",
       "                                                                   StandardScaler())]),\n",
       "                                                  Index([&#x27;app_CODE_GENDER&#x27;, &#x27;app_FLAG_OWN_CAR&#x27;, &#x27;app_CNT_CHILDREN&#x27;,\n",
       "       &#x27;app_AMT_INCOME_TOTAL&#x27;, &#x27;app_AMT_CREDIT&#x27;, &#x27;app_AMT_ANNUITY&#x27;,\n",
       "       &#x27;app_AMT_GOODS_PRICE&#x27;, &#x27;app_NAME_EDUCATION_TYPE&#x27;,\n",
       "       &#x27;app_REGION_POPULATION_RELATIVE&#x27;, &#x27;app_DAYS_BIRTH&#x27;,\n",
       "       ...\n",
       "       &#x27;card_CASH_...\n",
       "       &#x27;card_PAYMENT_VS_DRAWINGS_max_mean&#x27;,\n",
       "       &#x27;card_BALANCE_VS_TOTAL_RECEIVABLE_mean_max&#x27;,\n",
       "       &#x27;card_AMT_DRAWINGS_ATM_CURRENT_std_max&#x27;,\n",
       "       &#x27;card_NAME_CONTRACT_STATUS_Active_max_std&#x27;],\n",
       "      dtype=&#x27;object&#x27;, length=814)),\n",
       "                                                 (&#x27;cat&#x27;,\n",
       "                                                  Pipeline(steps=[(&#x27;onehot&#x27;,\n",
       "                                                                   OneHotEncoder(handle_unknown=&#x27;ignore&#x27;))]),\n",
       "                                                  Index([], dtype=&#x27;object&#x27;))])),\n",
       "                (&#x27;classifier&#x27;,\n",
       "                 LogisticRegression(max_iter=2000, random_state=42))])</pre></div> </div></div><div class=\"sk-serial\"><div class=\"sk-item sk-dashed-wrapped\"><div class=\"sk-label-container\"><div class=\"sk-label fitted sk-toggleable\"><input class=\"sk-toggleable__control sk-hidden--visually\" id=\"sk-estimator-id-16\" type=\"checkbox\" ><label for=\"sk-estimator-id-16\" class=\"sk-toggleable__label fitted sk-toggleable__label-arrow fitted\">&nbsp;preprocessor: ColumnTransformer<a class=\"sk-estimator-doc-link fitted\" rel=\"noreferrer\" target=\"_blank\" href=\"https://scikit-learn.org/1.5/modules/generated/sklearn.compose.ColumnTransformer.html\">?<span>Documentation for preprocessor: ColumnTransformer</span></a></label><div class=\"sk-toggleable__content fitted\"><pre>ColumnTransformer(transformers=[(&#x27;num&#x27;,\n",
       "                                 Pipeline(steps=[(&#x27;scaler&#x27;, StandardScaler())]),\n",
       "                                 Index([&#x27;app_CODE_GENDER&#x27;, &#x27;app_FLAG_OWN_CAR&#x27;, &#x27;app_CNT_CHILDREN&#x27;,\n",
       "       &#x27;app_AMT_INCOME_TOTAL&#x27;, &#x27;app_AMT_CREDIT&#x27;, &#x27;app_AMT_ANNUITY&#x27;,\n",
       "       &#x27;app_AMT_GOODS_PRICE&#x27;, &#x27;app_NAME_EDUCATION_TYPE&#x27;,\n",
       "       &#x27;app_REGION_POPULATION_RELATIVE&#x27;, &#x27;app_DAYS_BIRTH&#x27;,\n",
       "       ...\n",
       "       &#x27;card_CASH_CARD_RATIO_max_min&#x27;,\n",
       "       &#x27;card_AMT_IN...\n",
       "       &#x27;card_PAYMENT_VS_MIN_INSTALLMENT_min_min&#x27;,\n",
       "       &#x27;card_PAYMENT_VS_MIN_INSTALLMENT_min_max&#x27;,\n",
       "       &#x27;card_PAYMENT_VS_DRAWINGS_max_mean&#x27;,\n",
       "       &#x27;card_BALANCE_VS_TOTAL_RECEIVABLE_mean_max&#x27;,\n",
       "       &#x27;card_AMT_DRAWINGS_ATM_CURRENT_std_max&#x27;,\n",
       "       &#x27;card_NAME_CONTRACT_STATUS_Active_max_std&#x27;],\n",
       "      dtype=&#x27;object&#x27;, length=814)),\n",
       "                                (&#x27;cat&#x27;,\n",
       "                                 Pipeline(steps=[(&#x27;onehot&#x27;,\n",
       "                                                  OneHotEncoder(handle_unknown=&#x27;ignore&#x27;))]),\n",
       "                                 Index([], dtype=&#x27;object&#x27;))])</pre></div> </div></div><div class=\"sk-parallel\"><div class=\"sk-parallel-item\"><div class=\"sk-item\"><div class=\"sk-label-container\"><div class=\"sk-label fitted sk-toggleable\"><input class=\"sk-toggleable__control sk-hidden--visually\" id=\"sk-estimator-id-17\" type=\"checkbox\" ><label for=\"sk-estimator-id-17\" class=\"sk-toggleable__label fitted sk-toggleable__label-arrow fitted\">num</label><div class=\"sk-toggleable__content fitted\"><pre>Index([&#x27;app_CODE_GENDER&#x27;, &#x27;app_FLAG_OWN_CAR&#x27;, &#x27;app_CNT_CHILDREN&#x27;,\n",
       "       &#x27;app_AMT_INCOME_TOTAL&#x27;, &#x27;app_AMT_CREDIT&#x27;, &#x27;app_AMT_ANNUITY&#x27;,\n",
       "       &#x27;app_AMT_GOODS_PRICE&#x27;, &#x27;app_NAME_EDUCATION_TYPE&#x27;,\n",
       "       &#x27;app_REGION_POPULATION_RELATIVE&#x27;, &#x27;app_DAYS_BIRTH&#x27;,\n",
       "       ...\n",
       "       &#x27;card_CASH_CARD_RATIO_max_min&#x27;,\n",
       "       &#x27;card_AMT_INST_MIN_REGULARITY_mean_mean&#x27;,\n",
       "       &#x27;card_AMT_INST_MIN_REGULARITY_mean_min&#x27;,\n",
       "       &#x27;card_PAYMENT_VS_MIN_INSTALLMENT_min_mean&#x27;,\n",
       "       &#x27;card_PAYMENT_VS_MIN_INSTALLMENT_min_min&#x27;,\n",
       "       &#x27;card_PAYMENT_VS_MIN_INSTALLMENT_min_max&#x27;,\n",
       "       &#x27;card_PAYMENT_VS_DRAWINGS_max_mean&#x27;,\n",
       "       &#x27;card_BALANCE_VS_TOTAL_RECEIVABLE_mean_max&#x27;,\n",
       "       &#x27;card_AMT_DRAWINGS_ATM_CURRENT_std_max&#x27;,\n",
       "       &#x27;card_NAME_CONTRACT_STATUS_Active_max_std&#x27;],\n",
       "      dtype=&#x27;object&#x27;, length=814)</pre></div> </div></div><div class=\"sk-serial\"><div class=\"sk-item\"><div class=\"sk-serial\"><div class=\"sk-item\"><div class=\"sk-estimator fitted sk-toggleable\"><input class=\"sk-toggleable__control sk-hidden--visually\" id=\"sk-estimator-id-18\" type=\"checkbox\" ><label for=\"sk-estimator-id-18\" class=\"sk-toggleable__label fitted sk-toggleable__label-arrow fitted\">&nbsp;StandardScaler<a class=\"sk-estimator-doc-link fitted\" rel=\"noreferrer\" target=\"_blank\" href=\"https://scikit-learn.org/1.5/modules/generated/sklearn.preprocessing.StandardScaler.html\">?<span>Documentation for StandardScaler</span></a></label><div class=\"sk-toggleable__content fitted\"><pre>StandardScaler()</pre></div> </div></div></div></div></div></div></div><div class=\"sk-parallel-item\"><div class=\"sk-item\"><div class=\"sk-label-container\"><div class=\"sk-label fitted sk-toggleable\"><input class=\"sk-toggleable__control sk-hidden--visually\" id=\"sk-estimator-id-19\" type=\"checkbox\" ><label for=\"sk-estimator-id-19\" class=\"sk-toggleable__label fitted sk-toggleable__label-arrow fitted\">cat</label><div class=\"sk-toggleable__content fitted\"><pre>Index([], dtype=&#x27;object&#x27;)</pre></div> </div></div><div class=\"sk-serial\"><div class=\"sk-item\"><div class=\"sk-serial\"><div class=\"sk-item\"><div class=\"sk-estimator fitted sk-toggleable\"><input class=\"sk-toggleable__control sk-hidden--visually\" id=\"sk-estimator-id-20\" type=\"checkbox\" ><label for=\"sk-estimator-id-20\" class=\"sk-toggleable__label fitted sk-toggleable__label-arrow fitted\">&nbsp;OneHotEncoder<a class=\"sk-estimator-doc-link fitted\" rel=\"noreferrer\" target=\"_blank\" href=\"https://scikit-learn.org/1.5/modules/generated/sklearn.preprocessing.OneHotEncoder.html\">?<span>Documentation for OneHotEncoder</span></a></label><div class=\"sk-toggleable__content fitted\"><pre>OneHotEncoder(handle_unknown=&#x27;ignore&#x27;)</pre></div> </div></div></div></div></div></div></div></div></div><div class=\"sk-item\"><div class=\"sk-estimator fitted sk-toggleable\"><input class=\"sk-toggleable__control sk-hidden--visually\" id=\"sk-estimator-id-21\" type=\"checkbox\" ><label for=\"sk-estimator-id-21\" class=\"sk-toggleable__label fitted sk-toggleable__label-arrow fitted\">&nbsp;LogisticRegression<a class=\"sk-estimator-doc-link fitted\" rel=\"noreferrer\" target=\"_blank\" href=\"https://scikit-learn.org/1.5/modules/generated/sklearn.linear_model.LogisticRegression.html\">?<span>Documentation for LogisticRegression</span></a></label><div class=\"sk-toggleable__content fitted\"><pre>LogisticRegression(max_iter=2000, random_state=42)</pre></div> </div></div></div></div></div></div>"
      ],
      "text/plain": [
       "Pipeline(steps=[('preprocessor',\n",
       "                 ColumnTransformer(transformers=[('num',\n",
       "                                                  Pipeline(steps=[('scaler',\n",
       "                                                                   StandardScaler())]),\n",
       "                                                  Index(['app_CODE_GENDER', 'app_FLAG_OWN_CAR', 'app_CNT_CHILDREN',\n",
       "       'app_AMT_INCOME_TOTAL', 'app_AMT_CREDIT', 'app_AMT_ANNUITY',\n",
       "       'app_AMT_GOODS_PRICE', 'app_NAME_EDUCATION_TYPE',\n",
       "       'app_REGION_POPULATION_RELATIVE', 'app_DAYS_BIRTH',\n",
       "       ...\n",
       "       'card_CASH_...\n",
       "       'card_PAYMENT_VS_DRAWINGS_max_mean',\n",
       "       'card_BALANCE_VS_TOTAL_RECEIVABLE_mean_max',\n",
       "       'card_AMT_DRAWINGS_ATM_CURRENT_std_max',\n",
       "       'card_NAME_CONTRACT_STATUS_Active_max_std'],\n",
       "      dtype='object', length=814)),\n",
       "                                                 ('cat',\n",
       "                                                  Pipeline(steps=[('onehot',\n",
       "                                                                   OneHotEncoder(handle_unknown='ignore'))]),\n",
       "                                                  Index([], dtype='object'))])),\n",
       "                ('classifier',\n",
       "                 LogisticRegression(max_iter=2000, random_state=42))])"
      ]
     },
     "execution_count": 242,
     "metadata": {},
     "output_type": "execute_result"
    }
   ],
   "source": [
    "numerical_cols = X.select_dtypes(include='number').columns\n",
    "categorical_cols = X.select_dtypes(include='object').columns\n",
    "x_trn, y_trn = X, y\n",
    "numerical_transformer = Pipeline(steps=[\n",
    "#     ('imputer', SimpleImputer(strategy='mean')),  # or median, etc.\n",
    "    ('scaler', StandardScaler())\n",
    "])\n",
    "\n",
    "# Categorical transformer (impute missing values and one-hot encode)\n",
    "categorical_transformer = Pipeline(steps=[\n",
    "#     ('imputer', SimpleImputer(strategy='most_frequent')),  # or another strategy\n",
    "    ('onehot', OneHotEncoder(handle_unknown='ignore'))\n",
    "])\n",
    "\n",
    "# Preprocessor to apply transformations\n",
    "preprocessor = ColumnTransformer(\n",
    "    transformers=[\n",
    "        ('num', numerical_transformer, numerical_cols),\n",
    "        ('cat', categorical_transformer, categorical_cols)\n",
    "    ])\n",
    "# Pipeline including preprocessor and logistic regression model\n",
    "model = Pipeline(steps=[('preprocessor', preprocessor),\n",
    "                        ('classifier', LogisticRegression(max_iter = 2000, random_state=42))])\n",
    "model.fit(x_trn, y_trn)"
   ]
  },
  {
   "cell_type": "code",
   "execution_count": 243,
   "metadata": {
    "id": "kqYJzyFyt1JJ",
    "outputId": "417e64c9-ceca-4ea1-f895-f629f0e6416f",
    "trusted": true
   },
   "outputs": [
    {
     "name": "stderr",
     "output_type": "stream",
     "text": [
      "C:\\Users\\nn200\\AppData\\Local\\Temp\\ipykernel_12056\\3249947800.py:10: FutureWarning: A value is trying to be set on a copy of a DataFrame or Series through chained assignment using an inplace method.\n",
      "The behavior will change in pandas 3.0. This inplace method will never work because the intermediate object on which we are setting values always behaves as a copy.\n",
      "\n",
      "For example, when doing 'df[col].method(value, inplace=True)', try using 'df.method({col: value}, inplace=True)' or df[col] = df[col].method(value) instead, to perform the operation inplace on the original object.\n",
      "\n",
      "\n",
      "  X_test[col].fillna(X[col].mode()[0], inplace=True)\n",
      "C:\\Users\\nn200\\AppData\\Local\\Temp\\ipykernel_12056\\3249947800.py:10: FutureWarning: Downcasting object dtype arrays on .fillna, .ffill, .bfill is deprecated and will change in a future version. Call result.infer_objects(copy=False) instead. To opt-in to the future behavior, set `pd.set_option('future.no_silent_downcasting', True)`\n",
      "  X_test[col].fillna(X[col].mode()[0], inplace=True)\n",
      "C:\\Users\\nn200\\AppData\\Local\\Temp\\ipykernel_12056\\3249947800.py:14: FutureWarning: A value is trying to be set on a copy of a DataFrame or Series through chained assignment using an inplace method.\n",
      "The behavior will change in pandas 3.0. This inplace method will never work because the intermediate object on which we are setting values always behaves as a copy.\n",
      "\n",
      "For example, when doing 'df[col].method(value, inplace=True)', try using 'df.method({col: value}, inplace=True)' or df[col] = df[col].method(value) instead, to perform the operation inplace on the original object.\n",
      "\n",
      "\n",
      "  X_test[col].fillna(X[col].mean(), inplace=True)\n"
     ]
    }
   ],
   "source": [
    "X_test = test[selected_features]\n",
    "\n",
    "X_test.replace([np.inf, -np.inf], np.nan, inplace=True)\n",
    "\n",
    "numerical_cols = X_test.select_dtypes(include='number').columns\n",
    "categorical_cols = X_test.select_dtypes(include='object').columns\n",
    "\n",
    "\n",
    "for col in X_test.select_dtypes('object').columns:\n",
    "    X_test[col].fillna(X[col].mode()[0], inplace=True)\n",
    "\n",
    "# fill missing values with mean for numerical columns\n",
    "for col in X_test.select_dtypes('number').columns:\n",
    "    X_test[col].fillna(X[col].mean(), inplace=True)"
   ]
  },
  {
   "cell_type": "code",
   "execution_count": 244,
   "metadata": {},
   "outputs": [
    {
     "name": "stderr",
     "output_type": "stream",
     "text": [
      "c:\\Users\\nn200\\AppData\\Local\\Programs\\Python\\Python312\\Lib\\site-packages\\sklearn\\linear_model\\_logistic.py:469: ConvergenceWarning: lbfgs failed to converge (status=1):\n",
      "STOP: TOTAL NO. of ITERATIONS REACHED LIMIT.\n",
      "\n",
      "Increase the number of iterations (max_iter) or scale the data as shown in:\n",
      "    https://scikit-learn.org/stable/modules/preprocessing.html\n",
      "Please also refer to the documentation for alternative solver options:\n",
      "    https://scikit-learn.org/stable/modules/linear_model.html#logistic-regression\n",
      "  n_iter_i = _check_optimize_result(\n"
     ]
    },
    {
     "name": "stdout",
     "output_type": "stream",
     "text": [
      "Confusion Matrix:\n",
      "[[45119    96]\n",
      " [ 3879   108]]\n",
      "AUC: 0.775189331045238\n",
      "Gini Index: 0.550378662090476\n"
     ]
    }
   ],
   "source": [
    "X_train, X_val, y_train, y_val = train_test_split(X, y, test_size=0.2, random_state=42)\n",
    "\n",
    "model_val = Pipeline(steps=[('preprocessor', preprocessor),\n",
    "                        ('classifier', LogisticRegression(random_state = 42))])\n",
    "\n",
    "model_val.fit(X_train, y_train)\n",
    "\n",
    "y_pred_val = model_val.predict_proba(X_val)[:, 1]\n",
    "y_pred_binary = (y_pred_val >= 0.55).astype(int)\n",
    "\n",
    "from sklearn.metrics import confusion_matrix, roc_auc_score\n",
    "\n",
    "# Calculate confusion matrix\n",
    "cm = confusion_matrix(y_val, y_pred_binary)\n",
    "print(\"Confusion Matrix:\")\n",
    "print(cm)\n",
    "\n",
    "# Calculate AUC\n",
    "y_pred_proba = model_val.predict_proba(x_val)[:, 1]  # Get the predicted probabilities for the positive class\n",
    "auc = roc_auc_score(y_val, y_pred_val)\n",
    "print(\"AUC:\", auc)\n",
    "\n",
    "# Calculate Gini index\n",
    "gini_index = 2 * auc - 1\n",
    "print(\"Gini Index:\", gini_index)"
   ]
  },
  {
   "cell_type": "code",
   "execution_count": 247,
   "metadata": {},
   "outputs": [
    {
     "data": {
      "image/png": "[encoded data removed]",
      "text/plain": [
       "<Figure size 640x480 with 1 Axes>"
      ]
     },
     "metadata": {},
     "output_type": "display_data"
    }
   ],
   "source": [
    "# from sklearn.metrics import roc_curve, precision_recall_curve\n",
    "# fpr, tpr, thres = precision_recall_curve(y_val, y_pred_proba)\n",
    "\n",
    "from sklearn.metrics import roc_curve, auc\n",
    "import matplotlib.pyplot as plt\n",
    "\n",
    "# Assume y_test is the true labels and y_score is the predicted probabilities\n",
    "fpr, tpr, _ = roc_curve(y_val, y_pred_proba)\n",
    "roc_auc = auc(fpr, tpr)\n",
    "\n",
    "plt.figure()\n",
    "plt.plot(fpr, tpr, color='blue', lw=2, label=f'ROC curve (AUC = {roc_auc:.2f})')\n",
    "plt.plot([0, 1], [0, 1], color='gray', lw=2, linestyle='--')\n",
    "plt.xlim([0.0, 1.0])\n",
    "plt.ylim([0.0, 1.0])\n",
    "plt.xlabel('False Positive Rate')\n",
    "plt.ylabel('True Positive Rate')\n",
    "plt.title('Receiver Operating Characteristic (ROC) Curve')\n",
    "plt.legend(loc='lower right')\n",
    "plt.show()\n"
   ]
  },
  {
   "cell_type": "code",
   "execution_count": 162,
   "metadata": {
    "id": "sZbnRHM7t1JJ",
    "trusted": true
   },
   "outputs": [],
   "source": [
    "y_pred_proba = model.predict_proba(X_test)[:, 1]\n",
    "# Create a submission DataFrame\n",
    "submission = pd.DataFrame({'SK_ID_CURR': X_test.SK_ID_CURR, 'TARGET': y_pred_proba})\n",
    "submission['SK_ID_CURR'] = submission['SK_ID_CURR'].astype('int32')\n",
    "submission.set_index('SK_ID_CURR', inplace=True)\n",
    "submission = submission.sort_index()\n",
    "submission = submission.reset_index()"
   ]
  },
  {
   "cell_type": "code",
   "execution_count": 164,
   "metadata": {
    "id": "W0yik4Jot1JJ",
    "outputId": "f7256e1b-2fc6-4bda-8af2-80667172b734",
    "trusted": true
   },
   "outputs": [
    {
     "data": {
      "text/html": [
       "<div>\n",
       "<style scoped>\n",
       "    .dataframe tbody tr th:only-of-type {\n",
       "        vertical-align: middle;\n",
       "    }\n",
       "\n",
       "    .dataframe tbody tr th {\n",
       "        vertical-align: top;\n",
       "    }\n",
       "\n",
       "    .dataframe thead th {\n",
       "        text-align: right;\n",
       "    }\n",
       "</style>\n",
       "<table border=\"1\" class=\"dataframe\">\n",
       "  <thead>\n",
       "    <tr style=\"text-align: right;\">\n",
       "      <th></th>\n",
       "      <th>SK_ID_CURR</th>\n",
       "      <th>TARGET</th>\n",
       "    </tr>\n",
       "  </thead>\n",
       "  <tbody>\n",
       "    <tr>\n",
       "      <th>0</th>\n",
       "      <td>5</td>\n",
       "      <td>0.046880</td>\n",
       "    </tr>\n",
       "    <tr>\n",
       "      <th>1</th>\n",
       "      <td>13</td>\n",
       "      <td>0.063330</td>\n",
       "    </tr>\n",
       "    <tr>\n",
       "      <th>2</th>\n",
       "      <td>16</td>\n",
       "      <td>0.037062</td>\n",
       "    </tr>\n",
       "    <tr>\n",
       "      <th>3</th>\n",
       "      <td>19</td>\n",
       "      <td>0.204644</td>\n",
       "    </tr>\n",
       "    <tr>\n",
       "      <th>4</th>\n",
       "      <td>25</td>\n",
       "      <td>0.116677</td>\n",
       "    </tr>\n",
       "    <tr>\n",
       "      <th>...</th>\n",
       "      <td>...</td>\n",
       "      <td>...</td>\n",
       "    </tr>\n",
       "    <tr>\n",
       "      <th>61497</th>\n",
       "      <td>307487</td>\n",
       "      <td>0.018721</td>\n",
       "    </tr>\n",
       "    <tr>\n",
       "      <th>61498</th>\n",
       "      <td>307490</td>\n",
       "      <td>0.015113</td>\n",
       "    </tr>\n",
       "    <tr>\n",
       "      <th>61499</th>\n",
       "      <td>307497</td>\n",
       "      <td>0.026521</td>\n",
       "    </tr>\n",
       "    <tr>\n",
       "      <th>61500</th>\n",
       "      <td>307499</td>\n",
       "      <td>0.037681</td>\n",
       "    </tr>\n",
       "    <tr>\n",
       "      <th>61501</th>\n",
       "      <td>307508</td>\n",
       "      <td>0.010577</td>\n",
       "    </tr>\n",
       "  </tbody>\n",
       "</table>\n",
       "<p>61502 rows × 2 columns</p>\n",
       "</div>"
      ],
      "text/plain": [
       "       SK_ID_CURR    TARGET\n",
       "0               5  0.046880\n",
       "1              13  0.063330\n",
       "2              16  0.037062\n",
       "3              19  0.204644\n",
       "4              25  0.116677\n",
       "...           ...       ...\n",
       "61497      307487  0.018721\n",
       "61498      307490  0.015113\n",
       "61499      307497  0.026521\n",
       "61500      307499  0.037681\n",
       "61501      307508  0.010577\n",
       "\n",
       "[61502 rows x 2 columns]"
      ]
     },
     "execution_count": 164,
     "metadata": {},
     "output_type": "execute_result"
    }
   ],
   "source": [
    "submission[['SK_ID_CURR', 'TARGET']].to_csv('submissionxxx.csv', index=False)\n",
    "submission"
   ]
  }
 ],
 "metadata": {
  "colab": {
   "provenance": [],
   "toc_visible": true
  },
  "kaggle": {
   "accelerator": "none",
   "dataSources": [
    {
     "databundleVersionId": 10139593,
     "sourceId": 88498,
     "sourceType": "competition"
    }
   ],
   "dockerImageVersionId": 30804,
   "isGpuEnabled": false,
   "isInternetEnabled": false,
   "language": "python",
   "sourceType": "notebook"
  },
  "kernelspec": {
   "display_name": "Python 3",
   "language": "python",
   "name": "python3"
  },
  "language_info": {
   "codemirror_mode": {
    "name": "ipython",
    "version": 3
   },
   "file_extension": ".py",
   "mimetype": "text/x-python",
   "name": "python",
   "nbconvert_exporter": "python",
   "pygments_lexer": "ipython3",
   "version": "3.12.5"
  }
 },
 "nbformat": 4,
 "nbformat_minor": 4
}
